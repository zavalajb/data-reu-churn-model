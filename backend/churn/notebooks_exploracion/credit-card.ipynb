{
 "cells": [
  {
   "cell_type": "code",
   "execution_count": 1,
   "metadata": {},
   "outputs": [],
   "source": [
    "from pyspark.ml.linalg import Vectors\n",
    "\n",
    "from pyspark.ml import Pipeline\n",
    "from pyspark.ml.classification import DecisionTreeClassifier\n",
    "from pyspark.ml.feature import StringIndexer, VectorIndexer\n",
    "from pyspark.ml.evaluation import MulticlassClassificationEvaluator\n",
    "from pyspark.sql.types import StructType, StructField, StringType, IntegerType, FloatType\n",
    "from pyspark.ml.classification import RandomForestClassifier\n",
    "from pyspark.sql.functions import col,isnan,when,count\n",
    "#Libraries and class from StaticModel\n",
    "from pyspark.sql import SparkSession\n",
    "from pyspark.sql.functions import col\n",
    "from pyspark.sql.functions import when\n",
    "\n",
    "# import pickle\n",
    "import time\n",
    "\n",
    "#Script Class\n",
    "from PreProcess import *\n",
    "from PostProcess import *\n",
    "\n",
    "from ClassificationModel import *"
   ]
  },
  {
   "cell_type": "code",
   "execution_count": 2,
   "metadata": {},
   "outputs": [],
   "source": [
    "spark = SparkSession.builder \\\n",
    "        .appName(\"Churn EDA PySpark\") \\\n",
    "        .config(\"spark.driver.memory\", \"4g\") \\\n",
    "        .config(\"spark.executor.memory\", \"4g\") \\\n",
    "        .getOrCreate()"
   ]
  },
  {
   "cell_type": "code",
   "execution_count": 71,
   "metadata": {},
   "outputs": [],
   "source": [
    "# Load the data stored in e-commerce folder format as a DataFrame.\n",
    "df = spark.read.format(\"csv\") \\\n",
    "    .option(\"header\", True) \\\n",
    "    .option(\"inferSchema\", True)\\\n",
    "    .load(\"/home/jovyan/code/churn/credit-card/BankChurners.csv\")\n"
   ]
  },
  {
   "cell_type": "code",
   "execution_count": 4,
   "metadata": {},
   "outputs": [
    {
     "name": "stdout",
     "output_type": "stream",
     "text": [
      "+---------+--------------+------------+------+---------------+---------------+--------------+---------------+-------------+--------------+------------------------+----------------------+---------------------+------------+-------------------+---------------+--------------------+---------------+--------------+-------------------+---------------------+----------------------------------------------------------------------------------------------------------------------------------+----------------------------------------------------------------------------------------------------------------------------------+\n",
      "|CLIENTNUM|Attrition_Flag|Customer_Age|Gender|Dependent_count|Education_Level|Marital_Status|Income_Category|Card_Category|Months_on_book|Total_Relationship_Count|Months_Inactive_12_mon|Contacts_Count_12_mon|Credit_Limit|Total_Revolving_Bal|Avg_Open_To_Buy|Total_Amt_Chng_Q4_Q1|Total_Trans_Amt|Total_Trans_Ct|Total_Ct_Chng_Q4_Q1|Avg_Utilization_Ratio|Naive_Bayes_Classifier_Attrition_Flag_Card_Category_Contacts_Count_12_mon_Dependent_count_Education_Level_Months_Inactive_12_mon_1|Naive_Bayes_Classifier_Attrition_Flag_Card_Category_Contacts_Count_12_mon_Dependent_count_Education_Level_Months_Inactive_12_mon_2|\n",
      "+---------+--------------+------------+------+---------------+---------------+--------------+---------------+-------------+--------------+------------------------+----------------------+---------------------+------------+-------------------+---------------+--------------------+---------------+--------------+-------------------+---------------------+----------------------------------------------------------------------------------------------------------------------------------+----------------------------------------------------------------------------------------------------------------------------------+\n",
      "|        0|             0|           0|     0|              0|              0|             0|              0|            0|             0|                       0|                     0|                    0|           0|                  0|              0|                   0|              0|             0|                  0|                    0|                                                                                                                                 0|                                                                                                                                 0|\n",
      "+---------+--------------+------------+------+---------------+---------------+--------------+---------------+-------------+--------------+------------------------+----------------------+---------------------+------------+-------------------+---------------+--------------------+---------------+--------------+-------------------+---------------------+----------------------------------------------------------------------------------------------------------------------------------+----------------------------------------------------------------------------------------------------------------------------------+\n",
      "\n"
     ]
    }
   ],
   "source": [
    "\n",
    "df2 = df.select([count(when(col(c).contains('None') | \\\n",
    "                            col(c).contains('NULL') | \\\n",
    "                            (col(c) == '' ) | \\\n",
    "                            col(c).isNull() | \\\n",
    "                            isnan(c), c \n",
    "                           )).alias(c)\n",
    "                    for c in df.columns])\n",
    "df2.show()"
   ]
  },
  {
   "cell_type": "code",
   "execution_count": 72,
   "metadata": {},
   "outputs": [],
   "source": [
    "pre_process_instance = PreProcess(df)"
   ]
  },
  {
   "cell_type": "code",
   "execution_count": 74,
   "metadata": {},
   "outputs": [],
   "source": [
    "columns_to_string_index = [(\"Gender\",\"GenderIndex\"),\n",
    "                           (\"Education_Level\",\"Education_LevelIndex\"),\n",
    "                           (\"Marital_Status\",\"Marital_StatusIndex\"),\n",
    "                           (\"Income_Category\",\"Income_CategoryIndex\"),\n",
    "(\"Card_Category\",\"Card_CategoryIndex\")]\n",
    "columns_to_encode =[(\"GenderIndex\",\"GenderIndexEncoded\"),\n",
    "                           (\"Education_LevelIndex\",\"Education_LevelIndexEncoded\"),\n",
    "                           (\"Marital_StatusIndex\",\"Marital_StatusIndexEncoded\"),\n",
    "                           (\"Income_CategoryIndex\",\"Income_CategoryIndexEncoded\"),\n",
    "(\"Card_CategoryIndex\",\"Card_CategoryIndexEncoded\")]\n",
    "\n",
    "feature_cols = [\"GenderIndexEncoded\",\n",
    "                           \"Education_LevelIndexEncoded\",\n",
    "                           \"Marital_StatusIndexEncoded\",\n",
    "                      \"Income_CategoryIndexEncoded\",\n",
    "\"Card_CategoryIndexEncoded\" ,\n",
    "                'CLIENTNUM',\n",
    "  'Customer_Age',\n",
    "  'Dependent_count',\n",
    "  'Months_on_book',\n",
    "  'Total_Relationship_Count',\n",
    "  'Months_Inactive_12_mon',\n",
    "  'Contacts_Count_12_mon',\n",
    "  'Credit_Limit',\n",
    "  'Total_Revolving_Bal',\n",
    "  'Avg_Open_To_Buy',\n",
    "  'Total_Amt_Chng_Q4_Q1',\n",
    "  'Total_Trans_Amt',\n",
    "  'Total_Trans_Ct',\n",
    "  'Total_Ct_Chng_Q4_Q1',\n",
    "  'Avg_Utilization_Ratio']\n",
    "\n",
    "label_col = \"Attrition_Flag\"\n",
    "\n",
    "feature_col = \"features\"\n",
    "\n",
    "weight_col = \"class_weights\""
   ]
  },
  {
   "cell_type": "code",
   "execution_count": 75,
   "metadata": {},
   "outputs": [],
   "source": [
    "def process_data_to_model(df, columns_to_string_index: list[tuple[str]],columns_to_encode: list[tuple[str]] ,feature_cols : list, label_col:str):\n",
    "    \"\"\"\n",
    "      Preprocess data to use it in RandomForestCassifier\n",
    "\n",
    "       param df: Spark DataFrame to process\n",
    "       param columns_to_string_index: list of tuples whit the names of cols to be indexed and the expected names [(\"ColName\",\"ColNameIndex\")]\n",
    "       param columns_to_encode: list of tuples whit the names of cols to be encoded and the expected names [(\"ColName\",\"ColNameEncoded\")]\n",
    "       param feature_cols: list with the names of cols that will be used as features, \n",
    "       param label_col: name of the DataFrame column that holds the label values\n",
    "       return: Spark DataFrame with additional indexed, encoded and vectorized cols, and class_weights column that holds the class weights associated with each row\n",
    "    \"\"\"\n",
    "    df = df.drop(\"Naive_Bayes_Classifier_Attrition_Flag_Card_Category_Contacts_Count_12_mon_Dependent_count_Education_Level_Months_Inactive_12_mon_1\")\n",
    "    df = df.drop(\"Naive_Bayes_Classifier_Attrition_Flag_Card_Category_Contacts_Count_12_mon_Dependent_count_Education_Level_Months_Inactive_12_mon_2\")\n",
    "    df= pre_process_instance.string_index_columns(df, [(label_col,\"Churn_Index\")])\n",
    "    df = df.drop(label_col)\n",
    "    df= pre_process_instance.string_index_columns(df, columns_to_string_index)\n",
    "    df = pre_process_instance.encoded_index_columns(df, columns_to_encode)\n",
    "    df = pre_process_instance.compute_class_weights_column( df, \"Churn_Index\")\n",
    "    df = pre_process_instance.vector_feature_column(df, feature_cols) \n",
    "\n",
    "    return df\n",
    "\n"
   ]
  },
  {
   "cell_type": "code",
   "execution_count": 76,
   "metadata": {},
   "outputs": [],
   "source": [
    "df = process_data_to_model(df, columns_to_string_index,columns_to_encode ,feature_cols, label_col)"
   ]
  },
  {
   "cell_type": "code",
   "execution_count": 77,
   "metadata": {},
   "outputs": [],
   "source": [
    "total = df.filter(df.Churn_Index == 0).count()+df.filter(df.Churn_Index  == 1).count()"
   ]
  },
  {
   "cell_type": "code",
   "execution_count": 21,
   "metadata": {},
   "outputs": [
    {
     "name": "stdout",
     "output_type": "stream",
     "text": [
      "Not churn 8500 Churn 1627\n"
     ]
    }
   ],
   "source": [
    "print(\"Not churn\",df.filter(df.Churn_Index== 0).count(), \"Churn\",df.filter(df.Churn_Index == 1).count())"
   ]
  },
  {
   "cell_type": "code",
   "execution_count": null,
   "metadata": {},
   "outputs": [],
   "source": [
    "df_transformed.select(F.countDistinct(\"CustomerId\")).show()\n",
    "categorical_cols = ['PreferredLoginDevice',\n",
    "  'PreferredPaymentMode',\n",
    "  'Gender',\n",
    "  'PreferedOrderCat',\n",
    "  'MaritalStatus']\n",
    "for c in categorical_cols:\n",
    "    df.select(F.countDistinct(c)).show()"
   ]
  },
  {
   "cell_type": "code",
   "execution_count": 78,
   "metadata": {},
   "outputs": [],
   "source": [
    "classification_model_instance = ClassificationModel(df,feature_cols,\"churn_Index\")"
   ]
  },
  {
   "cell_type": "code",
   "execution_count": 79,
   "metadata": {},
   "outputs": [],
   "source": [
    "(trainingData, testData) = classification_model_instance.split_data()"
   ]
  },
  {
   "cell_type": "code",
   "execution_count": 80,
   "metadata": {},
   "outputs": [],
   "source": [
    "bestModel = classification_model_instance.train_classification_model(\"Churn_Index\",\"features\",weight_col)"
   ]
  },
  {
   "cell_type": "code",
   "execution_count": 81,
   "metadata": {},
   "outputs": [],
   "source": [
    "ruta_modelo = \"/home/jovyan/code/churn/modelo\"\n",
    "bestModel.write().overwrite().save(ruta_modelo)\n",
    "#randomforest.save(\"/home/jovyan/code/churn/e-commerce/modelo\")\n",
    "\n",
    "#rf2.getNumTrees()"
   ]
  },
  {
   "cell_type": "code",
   "execution_count": 27,
   "metadata": {},
   "outputs": [],
   "source": [
    "#from pyspark.ml.classification import RandomForestClassificationModel"
   ]
  },
  {
   "cell_type": "code",
   "execution_count": 28,
   "metadata": {},
   "outputs": [],
   "source": [
    "#rf2 = RandomForestClassificationModel.load(ruta_modelo)"
   ]
  },
  {
   "cell_type": "code",
   "execution_count": 82,
   "metadata": {},
   "outputs": [
    {
     "name": "stdout",
     "output_type": "stream",
     "text": [
      "+-----------+----------+\n",
      "|Churn_Index|prediction|\n",
      "+-----------+----------+\n",
      "|        0.0|       0.0|\n",
      "|        0.0|       0.0|\n",
      "|        1.0|       1.0|\n",
      "|        1.0|       1.0|\n",
      "|        0.0|       0.0|\n",
      "|        0.0|       0.0|\n",
      "|        0.0|       0.0|\n",
      "|        0.0|       0.0|\n",
      "|        1.0|       1.0|\n",
      "|        0.0|       1.0|\n",
      "|        0.0|       0.0|\n",
      "|        0.0|       0.0|\n",
      "|        0.0|       0.0|\n",
      "|        0.0|       0.0|\n",
      "|        0.0|       0.0|\n",
      "|        0.0|       0.0|\n",
      "|        0.0|       0.0|\n",
      "|        0.0|       0.0|\n",
      "|        0.0|       0.0|\n",
      "|        0.0|       0.0|\n",
      "+-----------+----------+\n",
      "only showing top 20 rows\n",
      "\n"
     ]
    }
   ],
   "source": [
    "# Step 6: Make predictions\n",
    "predictions = bestModel.transform(testData)\n",
    "\n",
    "# Show predictions\n",
    "predictions.select(\"Churn_Index\", \"prediction\").show()\n"
   ]
  },
  {
   "cell_type": "code",
   "execution_count": 83,
   "metadata": {},
   "outputs": [
    {
     "name": "stdout",
     "output_type": "stream",
     "text": [
      "Test Accuracy = 0.9714144898965007\n",
      "Weighted Precision = 0.9731996809147653\n",
      "Weighted Recall = 0.9714144898965007\n",
      "F1 Score = 0.9719462416150377\n"
     ]
    }
   ],
   "source": [
    "evaluator = MulticlassClassificationEvaluator(\n",
    "    labelCol=\"Churn_Index\", predictionCol=\"prediction\", metricName=\"weightedRecall\"\n",
    ")\n",
    "\n",
    "accuracy = evaluator.evaluate(predictions)\n",
    "print(f\"Test Accuracy = {accuracy}\")\n",
    "\n",
    "# Show detailed evaluation metrics\n",
    "evaluator.setMetricName(\"weightedPrecision\")\n",
    "precision = evaluator.evaluate(predictions)\n",
    "print(f\"Weighted Precision = {precision}\")\n",
    "\n",
    "evaluator.setMetricName(\"weightedRecall\")\n",
    "recall = evaluator.evaluate(predictions)\n",
    "print(f\"Weighted Recall = {recall}\")\n",
    "\n",
    "evaluator.setMetricName(\"f1\")\n",
    "f1 = evaluator.evaluate(predictions)\n",
    "print(f\"F1 Score = {f1}\")"
   ]
  },
  {
   "cell_type": "code",
   "execution_count": 84,
   "metadata": {},
   "outputs": [
    {
     "name": "stdout",
     "output_type": "stream",
     "text": [
      "+---------+------------+------+---------------+---------------+--------------+---------------+-------------+--------------+------------------------+----------------------+---------------------+------------+-------------------+---------------+--------------------+---------------+--------------+-------------------+---------------------+-----------+-----------+--------------------+-------------------+--------------------+------------------+------------------+---------------------------+--------------------------+---------------------------+-------------------------+-------------+--------------------+\n",
      "|CLIENTNUM|Customer_Age|Gender|Dependent_count|Education_Level|Marital_Status|Income_Category|Card_Category|Months_on_book|Total_Relationship_Count|Months_Inactive_12_mon|Contacts_Count_12_mon|Credit_Limit|Total_Revolving_Bal|Avg_Open_To_Buy|Total_Amt_Chng_Q4_Q1|Total_Trans_Amt|Total_Trans_Ct|Total_Ct_Chng_Q4_Q1|Avg_Utilization_Ratio|Churn_Index|GenderIndex|Education_LevelIndex|Marital_StatusIndex|Income_CategoryIndex|Card_CategoryIndex|GenderIndexEncoded|Education_LevelIndexEncoded|Marital_StatusIndexEncoded|Income_CategoryIndexEncoded|Card_CategoryIndexEncoded|class_weights|            features|\n",
      "+---------+------------+------+---------------+---------------+--------------+---------------+-------------+--------------+------------------------+----------------------+---------------------+------------+-------------------+---------------+--------------------+---------------+--------------+-------------------+---------------------+-----------+-----------+--------------------+-------------------+--------------------+------------------+------------------+---------------------------+--------------------------+---------------------------+-------------------------+-------------+--------------------+\n",
      "|768805383|          45|     M|              3|    High School|       Married|    $60K - $80K|         Blue|            39|                       5|                     1|                    3|     12691.0|                777|        11914.0|               1.335|           1144|            42|              1.625|                0.061|        0.0|        1.0|                 1.0|                0.0|                 3.0|               0.0|         (1,[],[])|              (6,[1],[1.0])|             (3,[0],[1.0])|              (5,[3],[1.0])|            (3,[0],[1.0])|   0.59570587|(33,[2,7,13,15,18...|\n",
      "|818770008|          49|     F|              5|       Graduate|        Single| Less than $40K|         Blue|            44|                       6|                     1|                    2|      8256.0|                864|         7392.0|               1.541|           1291|            33|              3.714|                0.105|        0.0|        0.0|                 0.0|                1.0|                 0.0|               0.0|     (1,[0],[1.0])|              (6,[0],[1.0])|             (3,[1],[1.0])|              (5,[0],[1.0])|            (3,[0],[1.0])|   0.59570587|(33,[0,1,8,10,15,...|\n",
      "|713982108|          51|     M|              3|       Graduate|       Married|   $80K - $120K|         Blue|            36|                       4|                     1|                    0|      3418.0|                  0|         3418.0|               2.594|           1887|            20|              2.333|                  0.0|        0.0|        1.0|                 0.0|                0.0|                 2.0|               0.0|         (1,[],[])|              (6,[0],[1.0])|             (3,[0],[1.0])|              (5,[2],[1.0])|            (3,[0],[1.0])|   0.59570587|(33,[1,7,12,15,18...|\n",
      "|769911858|          40|     F|              4|    High School|       Unknown| Less than $40K|         Blue|            34|                       3|                     4|                    1|      3313.0|               2517|          796.0|               1.405|           1171|            20|              2.333|                 0.76|        0.0|        0.0|                 1.0|                2.0|                 0.0|               0.0|     (1,[0],[1.0])|              (6,[1],[1.0])|             (3,[2],[1.0])|              (5,[0],[1.0])|            (3,[0],[1.0])|   0.59570587|(33,[0,2,9,10,15,...|\n",
      "|709106358|          40|     M|              3|     Uneducated|       Married|    $60K - $80K|         Blue|            21|                       5|                     1|                    0|      4716.0|                  0|         4716.0|               2.175|            816|            28|                2.5|                  0.0|        0.0|        1.0|                 3.0|                0.0|                 3.0|               0.0|         (1,[],[])|              (6,[3],[1.0])|             (3,[0],[1.0])|              (5,[3],[1.0])|            (3,[0],[1.0])|   0.59570587|(33,[4,7,13,15,18...|\n",
      "|713061558|          44|     M|              2|       Graduate|       Married|    $40K - $60K|         Blue|            36|                       3|                     1|                    2|      4010.0|               1247|         2763.0|               1.376|           1088|            24|              0.846|                0.311|        0.0|        1.0|                 0.0|                0.0|                 1.0|               0.0|         (1,[],[])|              (6,[0],[1.0])|             (3,[0],[1.0])|              (5,[1],[1.0])|            (3,[0],[1.0])|   0.59570587|(33,[1,7,11,15,18...|\n",
      "|810347208|          51|     M|              4|        Unknown|       Married|        $120K +|         Gold|            46|                       6|                     1|                    3|     34516.0|               2264|        32252.0|               1.975|           1330|            31|              0.722|                0.066|        0.0|        1.0|                 2.0|                0.0|                 5.0|               2.0|         (1,[],[])|              (6,[2],[1.0])|             (3,[0],[1.0])|                  (5,[],[])|            (3,[2],[1.0])|   0.59570587|(33,[3,7,17,18,19...|\n",
      "|818906208|          32|     M|              0|    High School|       Unknown|    $60K - $80K|       Silver|            27|                       2|                     2|                    2|     29081.0|               1396|        27685.0|               2.204|           1538|            36|              0.714|                0.048|        0.0|        1.0|                 1.0|                2.0|                 3.0|               1.0|         (1,[],[])|              (6,[1],[1.0])|             (3,[2],[1.0])|              (5,[3],[1.0])|            (3,[1],[1.0])|   0.59570587|(33,[2,9,13,16,18...|\n",
      "|710930508|          37|     M|              3|     Uneducated|        Single|    $60K - $80K|         Blue|            36|                       5|                     2|                    0|     22352.0|               2517|        19835.0|               3.355|           1350|            24|              1.182|                0.113|        0.0|        1.0|                 3.0|                1.0|                 3.0|               0.0|         (1,[],[])|              (6,[3],[1.0])|             (3,[1],[1.0])|              (5,[3],[1.0])|            (3,[0],[1.0])|   0.59570587|(33,[4,8,13,15,18...|\n",
      "|719661558|          48|     M|              2|       Graduate|        Single|   $80K - $120K|         Blue|            36|                       6|                     3|                    3|     11656.0|               1677|         9979.0|               1.524|           1441|            32|              0.882|                0.144|        0.0|        1.0|                 0.0|                1.0|                 2.0|               0.0|         (1,[],[])|              (6,[0],[1.0])|             (3,[1],[1.0])|              (5,[2],[1.0])|            (3,[0],[1.0])|   0.59570587|(33,[1,8,12,15,18...|\n",
      "|708790833|          42|     M|              5|     Uneducated|       Unknown|        $120K +|         Blue|            31|                       5|                     3|                    2|      6748.0|               1467|         5281.0|               0.831|           1201|            42|               0.68|                0.217|        0.0|        1.0|                 3.0|                2.0|                 5.0|               0.0|         (1,[],[])|              (6,[3],[1.0])|             (3,[2],[1.0])|                  (5,[],[])|            (3,[0],[1.0])|   0.59570587|(33,[4,9,15,18,19...|\n",
      "|710821833|          65|     M|              1|        Unknown|       Married|    $40K - $60K|         Blue|            54|                       6|                     2|                    3|      9095.0|               1587|         7508.0|               1.433|           1314|            26|              1.364|                0.174|        0.0|        1.0|                 2.0|                0.0|                 1.0|               0.0|         (1,[],[])|              (6,[2],[1.0])|             (3,[0],[1.0])|              (5,[1],[1.0])|            (3,[0],[1.0])|   0.59570587|(33,[3,7,11,15,18...|\n",
      "|710599683|          56|     M|              1|        College|        Single|   $80K - $120K|         Blue|            36|                       3|                     6|                    0|     11751.0|                  0|        11751.0|               3.397|           1539|            17|               3.25|                  0.0|        0.0|        1.0|                 4.0|                1.0|                 2.0|               0.0|         (1,[],[])|              (6,[4],[1.0])|             (3,[1],[1.0])|              (5,[2],[1.0])|            (3,[0],[1.0])|   0.59570587|(33,[5,8,12,15,18...|\n",
      "|816082233|          35|     M|              3|       Graduate|       Unknown|    $60K - $80K|         Blue|            30|                       5|                     1|                    3|      8547.0|               1666|         6881.0|               1.163|           1311|            33|                2.0|                0.195|        0.0|        1.0|                 0.0|                2.0|                 3.0|               0.0|         (1,[],[])|              (6,[0],[1.0])|             (3,[2],[1.0])|              (5,[3],[1.0])|            (3,[0],[1.0])|   0.59570587|(33,[1,9,13,15,18...|\n",
      "|712396908|          57|     F|              2|       Graduate|       Married| Less than $40K|         Blue|            48|                       5|                     2|                    2|      2436.0|                680|         1756.0|                1.19|           1570|            29|              0.611|                0.279|        0.0|        0.0|                 0.0|                0.0|                 0.0|               0.0|     (1,[0],[1.0])|              (6,[0],[1.0])|             (3,[0],[1.0])|              (5,[0],[1.0])|            (3,[0],[1.0])|   0.59570587|(33,[0,1,7,10,15,...|\n",
      "|714885258|          44|     M|              4|        Unknown|       Unknown|   $80K - $120K|         Blue|            37|                       5|                     1|                    2|      4234.0|                972|         3262.0|               1.707|           1348|            27|                1.7|                 0.23|        0.0|        1.0|                 2.0|                2.0|                 2.0|               0.0|         (1,[],[])|              (6,[2],[1.0])|             (3,[2],[1.0])|              (5,[2],[1.0])|            (3,[0],[1.0])|   0.59570587|(33,[3,9,12,15,18...|\n",
      "|709967358|          48|     M|              4|  Post-Graduate|        Single|   $80K - $120K|         Blue|            36|                       6|                     2|                    3|     30367.0|               2362|        28005.0|               1.708|           1671|            27|              0.929|                0.078|        0.0|        1.0|                 5.0|                1.0|                 2.0|               0.0|         (1,[],[])|              (6,[5],[1.0])|             (3,[1],[1.0])|              (5,[2],[1.0])|            (3,[0],[1.0])|   0.59570587|(33,[6,8,12,15,18...|\n",
      "|753327333|          41|     M|              3|        Unknown|       Married|   $80K - $120K|         Blue|            34|                       4|                     4|                    1|     13535.0|               1291|        12244.0|               0.653|           1028|            21|              1.625|                0.095|        0.0|        1.0|                 2.0|                0.0|                 2.0|               0.0|         (1,[],[])|              (6,[2],[1.0])|             (3,[0],[1.0])|              (5,[2],[1.0])|            (3,[0],[1.0])|   0.59570587|(33,[3,7,12,15,18...|\n",
      "|806160108|          61|     M|              1|    High School|       Married|    $40K - $60K|         Blue|            56|                       2|                     2|                    3|      3193.0|               2517|          676.0|               1.831|           1336|            30|              1.143|                0.788|        0.0|        1.0|                 1.0|                0.0|                 1.0|               0.0|         (1,[],[])|              (6,[1],[1.0])|             (3,[0],[1.0])|              (5,[1],[1.0])|            (3,[0],[1.0])|   0.59570587|(33,[2,7,11,15,18...|\n",
      "|709327383|          45|     F|              2|       Graduate|       Married|        Unknown|         Blue|            37|                       6|                     1|                    2|     14470.0|               1157|        13313.0|               0.966|           1207|            21|              0.909|                 0.08|        0.0|        0.0|                 0.0|                0.0|                 4.0|               0.0|     (1,[0],[1.0])|              (6,[0],[1.0])|             (3,[0],[1.0])|              (5,[4],[1.0])|            (3,[0],[1.0])|   0.59570587|(33,[0,1,7,14,15,...|\n",
      "+---------+------------+------+---------------+---------------+--------------+---------------+-------------+--------------+------------------------+----------------------+---------------------+------------+-------------------+---------------+--------------------+---------------+--------------+-------------------+---------------------+-----------+-----------+--------------------+-------------------+--------------------+------------------+------------------+---------------------------+--------------------------+---------------------------+-------------------------+-------------+--------------------+\n",
      "only showing top 20 rows\n",
      "\n"
     ]
    }
   ],
   "source": [
    "df.show()"
   ]
  },
  {
   "cell_type": "code",
   "execution_count": 85,
   "metadata": {},
   "outputs": [],
   "source": [
    "from pyspark.mllib.evaluation import MulticlassMetrics"
   ]
  },
  {
   "cell_type": "code",
   "execution_count": 63,
   "metadata": {},
   "outputs": [
    {
     "name": "stderr",
     "output_type": "stream",
     "text": [
      "/opt/conda/envs/vscode_pyspark/lib/python3.11/site-packages/pyspark/sql/context.py:158: FutureWarning: Deprecated in 3.0.0. Use SparkSession.builder.getOrCreate() instead.\n",
      "  warnings.warn(\n"
     ]
    },
    {
     "name": "stdout",
     "output_type": "stream",
     "text": [
      "Confusion Matrix:\n",
      "[[1592.   36.]\n",
      " [  13.  278.]]\n"
     ]
    }
   ],
   "source": [
    "predictions_and_labels = predictions.select(col(\"prediction\").cast(\"float\"), col(\"Churn_Index\").cast(\"float\"))\n",
    "\n",
    "metrics = MulticlassMetrics(predictions_and_labels.rdd.map(tuple))\n",
    "\n",
    "# Print confusion matrix\n",
    "print(\"Confusion Matrix:\")\n",
    "print(metrics.confusionMatrix().toArray())"
   ]
  },
  {
   "cell_type": "code",
   "execution_count": 64,
   "metadata": {},
   "outputs": [
    {
     "name": "stdout",
     "output_type": "stream",
     "text": [
      "Test RMSE = 0.97486\n"
     ]
    }
   ],
   "source": [
    "rmse = evaluator.evaluate(predictions)\n",
    "print(\"Test RMSE = %g\" % rmse)"
   ]
  },
  {
   "cell_type": "code",
   "execution_count": 113,
   "metadata": {},
   "outputs": [],
   "source": [
    "feature_importances = bestModel.featureImportances.toArray().tolist()"
   ]
  },
  {
   "cell_type": "code",
   "execution_count": 114,
   "metadata": {},
   "outputs": [],
   "source": [
    "feature_names = df.columns"
   ]
  },
  {
   "cell_type": "code",
   "execution_count": 115,
   "metadata": {},
   "outputs": [],
   "source": [
    "# Create a list of (name, importance) tuples\n",
    "feature_data = list(zip(feature_names, feature_importances))\n",
    "\n",
    "# Define the schema\n",
    "schema = StructType([\n",
    "    StructField(\"feature\", StringType(), True),\n",
    "    StructField(\"importance\", FloatType(), True)\n",
    "])\n",
    "\n",
    "# Create a DataFrame from the list of tuples with the specified schema\n",
    "feature_importances_df = spark.createDataFrame(feature_data, schema)"
   ]
  },
  {
   "cell_type": "code",
   "execution_count": 119,
   "metadata": {},
   "outputs": [],
   "source": [
    "from pyspark.sql.functions import desc, asc"
   ]
  },
  {
   "cell_type": "code",
   "execution_count": 156,
   "metadata": {},
   "outputs": [],
   "source": [
    "filter_condition = (feature_importances_df.feature == 'GenderIndexEncoded') | \\\n",
    "(feature_importances_df.feature == 'Education_LevelIndexEncoded') | \\\n",
    "(feature_importances_df.feature == 'Marital_StatusIndexEncoded') | \\\n",
    "(feature_importances_df.feature == 'Income_CategoryIndexEncoded') | \\\n",
    "(feature_importances_df.feature == 'Card_CategoryIndexEncoded') | \\\n",
    "(feature_importances_df.feature == 'CLIENTNUM') | \\\n",
    "(feature_importances_df.feature == 'Customer_Age') | \\\n",
    "(feature_importances_df.feature == 'Dependent_count') | \\\n",
    "(feature_importances_df.feature == 'Months_on_book') | \\\n",
    "(feature_importances_df.feature == 'Total_Relationship_Count') | \\\n",
    "(feature_importances_df.feature == 'Months_Inactive_12_mon') | \\\n",
    "(feature_importances_df.feature == 'Contacts_Count_12_mon') | \\\n",
    "(feature_importances_df.feature == 'Credit_Limit') | \\\n",
    "(feature_importances_df.feature == 'Total_Revolving_Bal') | \\\n",
    "(feature_importances_df.feature == 'Avg_Open_To_Buy') | \\\n",
    "(feature_importances_df.feature == 'Total_Amt_Chng_Q4_Q1') | \\\n",
    "(feature_importances_df.feature == 'Total_Trans_Amt') | \\\n",
    "(feature_importances_df.feature == 'Total_Trans_Ct') | \\\n",
    "(feature_importances_df.feature == 'Total_Ct_Chng_Q4_Q1') | \\\n",
    "(feature_importances_df.feature == 'Avg_Utilization_Ratio')"
   ]
  },
  {
   "cell_type": "code",
   "execution_count": 157,
   "metadata": {},
   "outputs": [
    {
     "name": "stdout",
     "output_type": "stream",
     "text": [
      "+--------------------+------------+\n",
      "|             feature|  importance|\n",
      "+--------------------+------------+\n",
      "|Card_CategoryInde...|  0.23377897|\n",
      "|Income_CategoryIn...|  0.18829289|\n",
      "|  GenderIndexEncoded|  0.09279693|\n",
      "|Marital_StatusInd...|  0.05734704|\n",
      "|Education_LevelIn...| 0.025543414|\n",
      "|Avg_Utilization_R...|  0.02387299|\n",
      "| Total_Ct_Chng_Q4_Q1|  0.01757825|\n",
      "|           CLIENTNUM|  0.00807443|\n",
      "|      Months_on_book| 0.002485119|\n",
      "|Months_Inactive_1...|0.0019926066|\n",
      "|        Credit_Limit|0.0019610028|\n",
      "| Total_Revolving_Bal|0.0019062097|\n",
      "|        Customer_Age|0.0016227629|\n",
      "|Contacts_Count_12...|0.0015276278|\n",
      "|Total_Amt_Chng_Q4_Q1|0.0013650599|\n",
      "|      Total_Trans_Ct|0.0011894779|\n",
      "|     Dependent_count| 0.001136427|\n",
      "|Total_Relationshi...|0.0010880386|\n",
      "|     Total_Trans_Amt|0.0010273004|\n",
      "|     Avg_Open_To_Buy|0.0010094133|\n",
      "+--------------------+------------+\n",
      "\n"
     ]
    }
   ],
   "source": [
    "feature_importances_df.filter(filter_condition).orderBy(desc(\"importance\")).show()"
   ]
  },
  {
   "cell_type": "code",
   "execution_count": 166,
   "metadata": {},
   "outputs": [
    {
     "data": {
      "text/plain": [
       "33"
      ]
     },
     "execution_count": 166,
     "metadata": {},
     "output_type": "execute_result"
    }
   ],
   "source": [
    "feature_importances_df.count()"
   ]
  },
  {
   "cell_type": "code",
   "execution_count": 38,
   "metadata": {},
   "outputs": [
    {
     "data": {
      "text/plain": [
       "1.0"
      ]
     },
     "execution_count": 38,
     "metadata": {},
     "output_type": "execute_result"
    }
   ],
   "source": [
    "sum(feature_importances)"
   ]
  },
  {
   "cell_type": "code",
   "execution_count": 163,
   "metadata": {},
   "outputs": [],
   "source": [
    "from pyspark.sql.functions import sum\n",
    "df.select(sum(df.fee)).show()"
   ]
  },
  {
   "cell_type": "code",
   "execution_count": 165,
   "metadata": {},
   "outputs": [
    {
     "name": "stdout",
     "output_type": "stream",
     "text": [
      "+------------------+\n",
      "|   sum(importance)|\n",
      "+------------------+\n",
      "|1.0000000015133992|\n",
      "+------------------+\n",
      "\n"
     ]
    }
   ],
   "source": [
    "feature_importances_df.select(sum(feature_importances_df.filter(filter_condition).orderBy(desc(\"importance\")).importance)).show()"
   ]
  }
 ],
 "metadata": {
  "kernelspec": {
   "display_name": "vscode_pyspark",
   "language": "python",
   "name": "vscode_pyspark"
  },
  "language_info": {
   "codemirror_mode": {
    "name": "ipython",
    "version": 3
   },
   "file_extension": ".py",
   "mimetype": "text/x-python",
   "name": "python",
   "nbconvert_exporter": "python",
   "pygments_lexer": "ipython3",
   "version": "3.11.9"
  }
 },
 "nbformat": 4,
 "nbformat_minor": 2
}
