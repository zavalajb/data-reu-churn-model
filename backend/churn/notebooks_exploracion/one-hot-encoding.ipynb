{
 "cells": [
  {
   "cell_type": "code",
   "execution_count": 1,
   "metadata": {},
   "outputs": [],
   "source": [
    "from pyspark.ml.linalg import Vectors"
   ]
  },
  {
   "cell_type": "code",
   "execution_count": 2,
   "metadata": {},
   "outputs": [],
   "source": [
    "from pyspark.ml import Pipeline\n",
    "from pyspark.ml.classification import DecisionTreeClassifier\n",
    "from pyspark.ml.feature import StringIndexer, VectorIndexer\n",
    "from pyspark.ml.evaluation import MulticlassClassificationEvaluator\n",
    "\n"
   ]
  },
  {
   "cell_type": "code",
   "execution_count": 3,
   "metadata": {},
   "outputs": [],
   "source": [
    "#Libraries and class from StaticModel\n",
    "from pyspark.sql import SparkSession\n",
    "from pyspark.sql.functions import col\n",
    "# import pickle\n",
    "import time\n",
    "\n",
    "#Script Class\n",
    "from PreProcess import *\n",
    "from PostProcess import *"
   ]
  },
  {
   "cell_type": "code",
   "execution_count": 4,
   "metadata": {},
   "outputs": [],
   "source": [
    "from pyspark.sql.types import StructType, StructField, StringType, IntegerType, FloatType"
   ]
  },
  {
   "cell_type": "code",
   "execution_count": 5,
   "metadata": {},
   "outputs": [],
   "source": [
    "from pyspark.ml.classification import RandomForestClassifier"
   ]
  },
  {
   "cell_type": "code",
   "execution_count": 6,
   "metadata": {},
   "outputs": [],
   "source": [
    "spark = SparkSession.builder \\\n",
    "        .appName(\"Churn EDA PySpark\") \\\n",
    "        .config(\"spark.driver.memory\", \"4g\") \\\n",
    "        .config(\"spark.executor.memory\", \"4g\") \\\n",
    "        .getOrCreate()"
   ]
  },
  {
   "cell_type": "code",
   "execution_count": 8,
   "metadata": {},
   "outputs": [],
   "source": [
    "\n",
    "\n",
    "schema = StructType([\n",
    "    StructField(\"CustomerId\", IntegerType(), True),\n",
    "    StructField(\"Churn\", IntegerType(), True),\n",
    "    StructField(\"Tenure\", FloatType(), True),\n",
    "    StructField(\"PreferredLoginDevice\", StringType(), True),\n",
    "    StructField(\"CityTier\", IntegerType(), True),\n",
    "    StructField(\"WarehouseToHome\", FloatType(), True),\n",
    "    StructField(\"PreferredPaymentMode\", StringType(), True),\n",
    "    StructField(\"Gender\", StringType(), True),\n",
    "    StructField(\"HourSpendOnApp\", FloatType(), True),\n",
    "    StructField(\"NumberOfDeviceRegistered\", IntegerType(), True),\n",
    "    StructField(\"PreferedOrderCat\", StringType(), True),\n",
    "    StructField(\"SatisfactionScore\", IntegerType(), True),\n",
    "    StructField(\"MaritalStatus\", StringType(), True),\n",
    "    StructField(\"NumberOfAddress\", IntegerType(), True),\n",
    "    StructField(\"Complain\", IntegerType(), True),\n",
    "    StructField(\"OrderAmountHikeFromlastYear\", FloatType(), True),\n",
    "    StructField(\"CouponUsed\", FloatType(), True),\n",
    "    StructField(\"OrderCount\", FloatType(), True),\n",
    "    StructField(\"DaySinceLastOrder\", FloatType(), True),\n",
    "    StructField(\"CashbackAmount\", FloatType(), True)\n",
    "])"
   ]
  },
  {
   "cell_type": "code",
   "execution_count": 9,
   "metadata": {},
   "outputs": [],
   "source": [
    "# Load the data stored in e-commerce folder format as a DataFrame.\n",
    "df = spark.read.format(\"csv\") \\\n",
    "    .option(\"header\", True) \\\n",
    "    .schema(schema) \\\n",
    "    .load(\"/home/jovyan/code/churn/e-commerce/e-commerce-dataset.csv\")\n"
   ]
  },
  {
   "cell_type": "code",
   "execution_count": 10,
   "metadata": {},
   "outputs": [],
   "source": [
    "pre_process_instance = PreProcess(df)\n"
   ]
  },
  {
   "cell_type": "code",
   "execution_count": 11,
   "metadata": {},
   "outputs": [
    {
     "data": {
      "text/plain": [
       "{'numeric_cols': ['CustomerId',\n",
       "  'Churn',\n",
       "  'Tenure',\n",
       "  'CityTier',\n",
       "  'WarehouseToHome',\n",
       "  'HourSpendOnApp',\n",
       "  'NumberOfDeviceRegistered',\n",
       "  'SatisfactionScore',\n",
       "  'NumberOfAddress',\n",
       "  'Complain',\n",
       "  'OrderAmountHikeFromlastYear',\n",
       "  'CouponUsed',\n",
       "  'OrderCount',\n",
       "  'DaySinceLastOrder',\n",
       "  'CashbackAmount'],\n",
       " 'categorical_cols': ['PreferredLoginDevice',\n",
       "  'PreferredPaymentMode',\n",
       "  'Gender',\n",
       "  'PreferedOrderCat',\n",
       "  'MaritalStatus'],\n",
       " 'boolean_cols': [],\n",
       " 'array_cols': [],\n",
       " 'struct_cols': [],\n",
       " 'unknown_cols': []}"
      ]
     },
     "execution_count": 11,
     "metadata": {},
     "output_type": "execute_result"
    }
   ],
   "source": [
    "pre_process_instance.columns_types(df)"
   ]
  },
  {
   "cell_type": "code",
   "execution_count": 12,
   "metadata": {},
   "outputs": [],
   "source": [
    "columns_to_string_index = [(\"PreferredLoginDevice\",\"PreferredLoginDeviceIndex\"),\n",
    "                           (\"PreferredPaymentMode\",\"PreferredPaymentModeIndex\"),\n",
    "                           (\"Gender\",\"GenderIndex\"),\n",
    "                           (\"PreferedOrderCat\",\"PreferedOrderCatIndex\"),\n",
    "(\"MaritalStatus\",\"MaritalStatusIndex\")]\n",
    "\n",
    "numeric_cols =  ['CustomerId',\n",
    "  'Tenure',\n",
    "  'CityTier',\n",
    "  'WarehouseToHome',\n",
    "  'HourSpendOnApp',\n",
    "  'NumberOfDeviceRegistered',\n",
    "  'SatisfactionScore',\n",
    "  'NumberOfAddress',\n",
    "  'Complain',\n",
    "  'OrderAmountHikeFromlastYear',\n",
    "  'CouponUsed',\n",
    "  'OrderCount',\n",
    "  'DaySinceLastOrder',\n",
    "  'CashbackAmount']\n",
    "\n",
    "inpult_col = ['Churn']"
   ]
  },
  {
   "cell_type": "code",
   "execution_count": null,
   "metadata": {},
   "outputs": [],
   "source": [
    "df_transformed.select(F.countDistinct(\"CustomerId\")).show()\n",
    "categorical_cols = ['PreferredLoginDevice',\n",
    "  'PreferredPaymentMode',\n",
    "  'Gender',\n",
    "  'PreferedOrderCat',\n",
    "  'MaritalStatus']\n",
    "for c in categorical_cols:\n",
    "    df.select(F.countDistinct(c)).show()"
   ]
  },
  {
   "cell_type": "code",
   "execution_count": 13,
   "metadata": {},
   "outputs": [],
   "source": [
    "indexed_df = pre_process_instance.string_index_columns( df, columns_to_string_index)"
   ]
  },
  {
   "cell_type": "code",
   "execution_count": 14,
   "metadata": {},
   "outputs": [],
   "source": [
    "columns_to_encode = [(\"PreferredLoginDeviceIndex\",\"PreferredLoginDeviceIndexEncoded\"),\n",
    "                           (\"PreferredPaymentModeIndex\",\"PreferredPaymentModeIndexEncoded\"),\n",
    "                           (\"GenderIndex\",\"GenderIndexEncoded\"),\n",
    "                           (\"PreferedOrderCatIndex\",\"PreferedOrderCatIndexEncoded\"),\n",
    "(\"MaritalStatusIndex\",\"MaritalStatusIndexEncoded\")]"
   ]
  },
  {
   "cell_type": "code",
   "execution_count": 15,
   "metadata": {},
   "outputs": [],
   "source": [
    "encoded_df = pre_process_instance.encoded_index_columns( indexed_df, columns_to_encode)"
   ]
  },
  {
   "cell_type": "code",
   "execution_count": null,
   "metadata": {},
   "outputs": [],
   "source": [
    "encoded_df.select([\"PreferredLoginDeviceIndexEncoded\"\n",
    "                ,\"PreferredPaymentModeIndexEncoded\"\n",
    "                ,\"GenderIndexEncoded\"\n",
    "                ,\"PreferedOrderCatIndexEncoded\"\n",
    "                ,\"MaritalStatusIndexEncoded\"]).show()"
   ]
  },
  {
   "cell_type": "code",
   "execution_count": 16,
   "metadata": {},
   "outputs": [
    {
     "name": "stdout",
     "output_type": "stream",
     "text": [
      "+--------------------+\n",
      "|            features|\n",
      "+--------------------+\n",
      "|(30,[0,2,9,15,16,...|\n",
      "|(30,[2,8,9,15,16,...|\n",
      "|(30,[1,2,10,15,16...|\n",
      "|(30,[0,2,8,11,15,...|\n",
      "|(30,[6,8,12,15,16...|\n",
      "|(30,[7,8,12,16,18...|\n",
      "|(30,[0,3,8,11,15,...|\n",
      "|(30,[0,4,8,9,15,1...|\n",
      "|(30,[1,2,8,9,15,1...|\n",
      "|(30,[0,2,10,16,17...|\n",
      "|(30,[0,2,8,9,16,1...|\n",
      "|(30,[0,3,11,16,17...|\n",
      "|(30,[2,9,16,18,19...|\n",
      "|(30,[1,2,8,11,15,...|\n",
      "|(30,[3,10,15,16,1...|\n",
      "|(30,[0,4,8,11,16,...|\n",
      "|(30,[1,4,11,15,16...|\n",
      "|(30,[1,6,8,9,16,1...|\n",
      "|(30,[0,3,8,9,16,1...|\n",
      "|(30,[7,12,16,17,1...|\n",
      "+--------------------+\n",
      "only showing top 20 rows\n",
      "\n"
     ]
    }
   ],
   "source": [
    "encoded_df = pre_process_instance.encoded_index_columns( indexed_df, columns_to_encode)\n",
    "# Assuming you have an existing DataFrame 'df' with feature columns\n",
    "# Create a list of feature column names\n",
    "feature_cols = [ \"PreferredLoginDeviceIndexEncoded\"\n",
    "                ,\"PreferredPaymentModeIndexEncoded\"\n",
    "                ,\"GenderIndexEncoded\"\n",
    "                ,\"PreferedOrderCatIndexEncoded\"\n",
    "                ,\"MaritalStatusIndexEncoded\"\n",
    "                ,\"CustomerId\",\n",
    "                \"Tenure\",\n",
    "                \"CityTier\",\n",
    "                \"WarehouseToHome\",\n",
    "                \"HourSpendOnApp\",\n",
    "                \"NumberOfDeviceRegistered\",\n",
    "                \"SatisfactionScore\",\n",
    "                \"NumberOfAddress\",\n",
    "                \"Complain\",\n",
    "                \"OrderAmountHikeFromlastYear\",\n",
    "                \"CouponUsed\",\n",
    "                \"OrderCount\",\n",
    "                \"DaySinceLastOrder\",\n",
    "                \"CashbackAmount\"]\n",
    "\n",
    "\n",
    "# Create a VectorAssembler object\n",
    "#holavector_assembler = VectorAssembler(inputCols=feature_cols, outputCol=\"features\", handleInvalid=\"skip\")\n",
    "\n",
    "assembled_df = pre_process_instance.vector_feature_column(encoded_df, feature_cols) #holavector_assembler.transform(encoded_df)\n",
    "assembled_df.select(\"features\").show()"
   ]
  },
  {
   "cell_type": "code",
   "execution_count": 17,
   "metadata": {},
   "outputs": [],
   "source": [
    "from pyspark.ml.tuning import ParamGridBuilder"
   ]
  },
  {
   "cell_type": "code",
   "execution_count": 19,
   "metadata": {},
   "outputs": [],
   "source": [
    "randomforest = RandomForestClassifier(labelCol=\"Churn\", featuresCol=\"features\",seed = 42)"
   ]
  },
  {
   "cell_type": "code",
   "execution_count": 20,
   "metadata": {},
   "outputs": [
    {
     "data": {
      "text/plain": [
       "[{Param(parent='RandomForestClassifier_48a45e3dfd95', name='numTrees', doc='Number of trees to train (>= 1).'): 10,\n",
       "  Param(parent='RandomForestClassifier_48a45e3dfd95', name='maxDepth', doc='Maximum depth of the tree. (>= 0) E.g., depth 0 means 1 leaf node; depth 1 means 1 internal node + 2 leaf nodes. Must be in range [0, 30].'): 5,\n",
       "  Param(parent='RandomForestClassifier_48a45e3dfd95', name='maxBins', doc='Max number of bins for discretizing continuous features.  Must be >=2 and >= number of categories for any categorical feature.'): 32,\n",
       "  Param(parent='RandomForestClassifier_48a45e3dfd95', name='featureSubsetStrategy', doc=\"The number of features to consider for splits at each tree node. Supported options: 'auto' (choose automatically for task: If numTrees == 1, set to 'all'. If numTrees > 1 (forest), set to 'sqrt' for classification and to 'onethird' for regression), 'all' (use all features), 'onethird' (use 1/3 of the features), 'sqrt' (use sqrt(number of features)), 'log2' (use log2(number of features)), 'n' (when n is in the range (0, 1.0], use n * number of features. When n is in the range (1, number of features), use n features). default = 'auto'\"): 'auto'},\n",
       " {Param(parent='RandomForestClassifier_48a45e3dfd95', name='numTrees', doc='Number of trees to train (>= 1).'): 10,\n",
       "  Param(parent='RandomForestClassifier_48a45e3dfd95', name='maxDepth', doc='Maximum depth of the tree. (>= 0) E.g., depth 0 means 1 leaf node; depth 1 means 1 internal node + 2 leaf nodes. Must be in range [0, 30].'): 5,\n",
       "  Param(parent='RandomForestClassifier_48a45e3dfd95', name='maxBins', doc='Max number of bins for discretizing continuous features.  Must be >=2 and >= number of categories for any categorical feature.'): 32,\n",
       "  Param(parent='RandomForestClassifier_48a45e3dfd95', name='featureSubsetStrategy', doc=\"The number of features to consider for splits at each tree node. Supported options: 'auto' (choose automatically for task: If numTrees == 1, set to 'all'. If numTrees > 1 (forest), set to 'sqrt' for classification and to 'onethird' for regression), 'all' (use all features), 'onethird' (use 1/3 of the features), 'sqrt' (use sqrt(number of features)), 'log2' (use log2(number of features)), 'n' (when n is in the range (0, 1.0], use n * number of features. When n is in the range (1, number of features), use n features). default = 'auto'\"): 'sqrt'},\n",
       " {Param(parent='RandomForestClassifier_48a45e3dfd95', name='numTrees', doc='Number of trees to train (>= 1).'): 10,\n",
       "  Param(parent='RandomForestClassifier_48a45e3dfd95', name='maxDepth', doc='Maximum depth of the tree. (>= 0) E.g., depth 0 means 1 leaf node; depth 1 means 1 internal node + 2 leaf nodes. Must be in range [0, 30].'): 5,\n",
       "  Param(parent='RandomForestClassifier_48a45e3dfd95', name='maxBins', doc='Max number of bins for discretizing continuous features.  Must be >=2 and >= number of categories for any categorical feature.'): 32,\n",
       "  Param(parent='RandomForestClassifier_48a45e3dfd95', name='featureSubsetStrategy', doc=\"The number of features to consider for splits at each tree node. Supported options: 'auto' (choose automatically for task: If numTrees == 1, set to 'all'. If numTrees > 1 (forest), set to 'sqrt' for classification and to 'onethird' for regression), 'all' (use all features), 'onethird' (use 1/3 of the features), 'sqrt' (use sqrt(number of features)), 'log2' (use log2(number of features)), 'n' (when n is in the range (0, 1.0], use n * number of features. When n is in the range (1, number of features), use n features). default = 'auto'\"): 'log2'},\n",
       " {Param(parent='RandomForestClassifier_48a45e3dfd95', name='numTrees', doc='Number of trees to train (>= 1).'): 10,\n",
       "  Param(parent='RandomForestClassifier_48a45e3dfd95', name='maxDepth', doc='Maximum depth of the tree. (>= 0) E.g., depth 0 means 1 leaf node; depth 1 means 1 internal node + 2 leaf nodes. Must be in range [0, 30].'): 5,\n",
       "  Param(parent='RandomForestClassifier_48a45e3dfd95', name='maxBins', doc='Max number of bins for discretizing continuous features.  Must be >=2 and >= number of categories for any categorical feature.'): 64,\n",
       "  Param(parent='RandomForestClassifier_48a45e3dfd95', name='featureSubsetStrategy', doc=\"The number of features to consider for splits at each tree node. Supported options: 'auto' (choose automatically for task: If numTrees == 1, set to 'all'. If numTrees > 1 (forest), set to 'sqrt' for classification and to 'onethird' for regression), 'all' (use all features), 'onethird' (use 1/3 of the features), 'sqrt' (use sqrt(number of features)), 'log2' (use log2(number of features)), 'n' (when n is in the range (0, 1.0], use n * number of features. When n is in the range (1, number of features), use n features). default = 'auto'\"): 'auto'},\n",
       " {Param(parent='RandomForestClassifier_48a45e3dfd95', name='numTrees', doc='Number of trees to train (>= 1).'): 10,\n",
       "  Param(parent='RandomForestClassifier_48a45e3dfd95', name='maxDepth', doc='Maximum depth of the tree. (>= 0) E.g., depth 0 means 1 leaf node; depth 1 means 1 internal node + 2 leaf nodes. Must be in range [0, 30].'): 5,\n",
       "  Param(parent='RandomForestClassifier_48a45e3dfd95', name='maxBins', doc='Max number of bins for discretizing continuous features.  Must be >=2 and >= number of categories for any categorical feature.'): 64,\n",
       "  Param(parent='RandomForestClassifier_48a45e3dfd95', name='featureSubsetStrategy', doc=\"The number of features to consider for splits at each tree node. Supported options: 'auto' (choose automatically for task: If numTrees == 1, set to 'all'. If numTrees > 1 (forest), set to 'sqrt' for classification and to 'onethird' for regression), 'all' (use all features), 'onethird' (use 1/3 of the features), 'sqrt' (use sqrt(number of features)), 'log2' (use log2(number of features)), 'n' (when n is in the range (0, 1.0], use n * number of features. When n is in the range (1, number of features), use n features). default = 'auto'\"): 'sqrt'},\n",
       " {Param(parent='RandomForestClassifier_48a45e3dfd95', name='numTrees', doc='Number of trees to train (>= 1).'): 10,\n",
       "  Param(parent='RandomForestClassifier_48a45e3dfd95', name='maxDepth', doc='Maximum depth of the tree. (>= 0) E.g., depth 0 means 1 leaf node; depth 1 means 1 internal node + 2 leaf nodes. Must be in range [0, 30].'): 5,\n",
       "  Param(parent='RandomForestClassifier_48a45e3dfd95', name='maxBins', doc='Max number of bins for discretizing continuous features.  Must be >=2 and >= number of categories for any categorical feature.'): 64,\n",
       "  Param(parent='RandomForestClassifier_48a45e3dfd95', name='featureSubsetStrategy', doc=\"The number of features to consider for splits at each tree node. Supported options: 'auto' (choose automatically for task: If numTrees == 1, set to 'all'. If numTrees > 1 (forest), set to 'sqrt' for classification and to 'onethird' for regression), 'all' (use all features), 'onethird' (use 1/3 of the features), 'sqrt' (use sqrt(number of features)), 'log2' (use log2(number of features)), 'n' (when n is in the range (0, 1.0], use n * number of features. When n is in the range (1, number of features), use n features). default = 'auto'\"): 'log2'},\n",
       " {Param(parent='RandomForestClassifier_48a45e3dfd95', name='numTrees', doc='Number of trees to train (>= 1).'): 10,\n",
       "  Param(parent='RandomForestClassifier_48a45e3dfd95', name='maxDepth', doc='Maximum depth of the tree. (>= 0) E.g., depth 0 means 1 leaf node; depth 1 means 1 internal node + 2 leaf nodes. Must be in range [0, 30].'): 5,\n",
       "  Param(parent='RandomForestClassifier_48a45e3dfd95', name='maxBins', doc='Max number of bins for discretizing continuous features.  Must be >=2 and >= number of categories for any categorical feature.'): 128,\n",
       "  Param(parent='RandomForestClassifier_48a45e3dfd95', name='featureSubsetStrategy', doc=\"The number of features to consider for splits at each tree node. Supported options: 'auto' (choose automatically for task: If numTrees == 1, set to 'all'. If numTrees > 1 (forest), set to 'sqrt' for classification and to 'onethird' for regression), 'all' (use all features), 'onethird' (use 1/3 of the features), 'sqrt' (use sqrt(number of features)), 'log2' (use log2(number of features)), 'n' (when n is in the range (0, 1.0], use n * number of features. When n is in the range (1, number of features), use n features). default = 'auto'\"): 'auto'},\n",
       " {Param(parent='RandomForestClassifier_48a45e3dfd95', name='numTrees', doc='Number of trees to train (>= 1).'): 10,\n",
       "  Param(parent='RandomForestClassifier_48a45e3dfd95', name='maxDepth', doc='Maximum depth of the tree. (>= 0) E.g., depth 0 means 1 leaf node; depth 1 means 1 internal node + 2 leaf nodes. Must be in range [0, 30].'): 5,\n",
       "  Param(parent='RandomForestClassifier_48a45e3dfd95', name='maxBins', doc='Max number of bins for discretizing continuous features.  Must be >=2 and >= number of categories for any categorical feature.'): 128,\n",
       "  Param(parent='RandomForestClassifier_48a45e3dfd95', name='featureSubsetStrategy', doc=\"The number of features to consider for splits at each tree node. Supported options: 'auto' (choose automatically for task: If numTrees == 1, set to 'all'. If numTrees > 1 (forest), set to 'sqrt' for classification and to 'onethird' for regression), 'all' (use all features), 'onethird' (use 1/3 of the features), 'sqrt' (use sqrt(number of features)), 'log2' (use log2(number of features)), 'n' (when n is in the range (0, 1.0], use n * number of features. When n is in the range (1, number of features), use n features). default = 'auto'\"): 'sqrt'},\n",
       " {Param(parent='RandomForestClassifier_48a45e3dfd95', name='numTrees', doc='Number of trees to train (>= 1).'): 10,\n",
       "  Param(parent='RandomForestClassifier_48a45e3dfd95', name='maxDepth', doc='Maximum depth of the tree. (>= 0) E.g., depth 0 means 1 leaf node; depth 1 means 1 internal node + 2 leaf nodes. Must be in range [0, 30].'): 5,\n",
       "  Param(parent='RandomForestClassifier_48a45e3dfd95', name='maxBins', doc='Max number of bins for discretizing continuous features.  Must be >=2 and >= number of categories for any categorical feature.'): 128,\n",
       "  Param(parent='RandomForestClassifier_48a45e3dfd95', name='featureSubsetStrategy', doc=\"The number of features to consider for splits at each tree node. Supported options: 'auto' (choose automatically for task: If numTrees == 1, set to 'all'. If numTrees > 1 (forest), set to 'sqrt' for classification and to 'onethird' for regression), 'all' (use all features), 'onethird' (use 1/3 of the features), 'sqrt' (use sqrt(number of features)), 'log2' (use log2(number of features)), 'n' (when n is in the range (0, 1.0], use n * number of features. When n is in the range (1, number of features), use n features). default = 'auto'\"): 'log2'},\n",
       " {Param(parent='RandomForestClassifier_48a45e3dfd95', name='numTrees', doc='Number of trees to train (>= 1).'): 10,\n",
       "  Param(parent='RandomForestClassifier_48a45e3dfd95', name='maxDepth', doc='Maximum depth of the tree. (>= 0) E.g., depth 0 means 1 leaf node; depth 1 means 1 internal node + 2 leaf nodes. Must be in range [0, 30].'): 10,\n",
       "  Param(parent='RandomForestClassifier_48a45e3dfd95', name='maxBins', doc='Max number of bins for discretizing continuous features.  Must be >=2 and >= number of categories for any categorical feature.'): 32,\n",
       "  Param(parent='RandomForestClassifier_48a45e3dfd95', name='featureSubsetStrategy', doc=\"The number of features to consider for splits at each tree node. Supported options: 'auto' (choose automatically for task: If numTrees == 1, set to 'all'. If numTrees > 1 (forest), set to 'sqrt' for classification and to 'onethird' for regression), 'all' (use all features), 'onethird' (use 1/3 of the features), 'sqrt' (use sqrt(number of features)), 'log2' (use log2(number of features)), 'n' (when n is in the range (0, 1.0], use n * number of features. When n is in the range (1, number of features), use n features). default = 'auto'\"): 'auto'},\n",
       " {Param(parent='RandomForestClassifier_48a45e3dfd95', name='numTrees', doc='Number of trees to train (>= 1).'): 10,\n",
       "  Param(parent='RandomForestClassifier_48a45e3dfd95', name='maxDepth', doc='Maximum depth of the tree. (>= 0) E.g., depth 0 means 1 leaf node; depth 1 means 1 internal node + 2 leaf nodes. Must be in range [0, 30].'): 10,\n",
       "  Param(parent='RandomForestClassifier_48a45e3dfd95', name='maxBins', doc='Max number of bins for discretizing continuous features.  Must be >=2 and >= number of categories for any categorical feature.'): 32,\n",
       "  Param(parent='RandomForestClassifier_48a45e3dfd95', name='featureSubsetStrategy', doc=\"The number of features to consider for splits at each tree node. Supported options: 'auto' (choose automatically for task: If numTrees == 1, set to 'all'. If numTrees > 1 (forest), set to 'sqrt' for classification and to 'onethird' for regression), 'all' (use all features), 'onethird' (use 1/3 of the features), 'sqrt' (use sqrt(number of features)), 'log2' (use log2(number of features)), 'n' (when n is in the range (0, 1.0], use n * number of features. When n is in the range (1, number of features), use n features). default = 'auto'\"): 'sqrt'},\n",
       " {Param(parent='RandomForestClassifier_48a45e3dfd95', name='numTrees', doc='Number of trees to train (>= 1).'): 10,\n",
       "  Param(parent='RandomForestClassifier_48a45e3dfd95', name='maxDepth', doc='Maximum depth of the tree. (>= 0) E.g., depth 0 means 1 leaf node; depth 1 means 1 internal node + 2 leaf nodes. Must be in range [0, 30].'): 10,\n",
       "  Param(parent='RandomForestClassifier_48a45e3dfd95', name='maxBins', doc='Max number of bins for discretizing continuous features.  Must be >=2 and >= number of categories for any categorical feature.'): 32,\n",
       "  Param(parent='RandomForestClassifier_48a45e3dfd95', name='featureSubsetStrategy', doc=\"The number of features to consider for splits at each tree node. Supported options: 'auto' (choose automatically for task: If numTrees == 1, set to 'all'. If numTrees > 1 (forest), set to 'sqrt' for classification and to 'onethird' for regression), 'all' (use all features), 'onethird' (use 1/3 of the features), 'sqrt' (use sqrt(number of features)), 'log2' (use log2(number of features)), 'n' (when n is in the range (0, 1.0], use n * number of features. When n is in the range (1, number of features), use n features). default = 'auto'\"): 'log2'},\n",
       " {Param(parent='RandomForestClassifier_48a45e3dfd95', name='numTrees', doc='Number of trees to train (>= 1).'): 10,\n",
       "  Param(parent='RandomForestClassifier_48a45e3dfd95', name='maxDepth', doc='Maximum depth of the tree. (>= 0) E.g., depth 0 means 1 leaf node; depth 1 means 1 internal node + 2 leaf nodes. Must be in range [0, 30].'): 10,\n",
       "  Param(parent='RandomForestClassifier_48a45e3dfd95', name='maxBins', doc='Max number of bins for discretizing continuous features.  Must be >=2 and >= number of categories for any categorical feature.'): 64,\n",
       "  Param(parent='RandomForestClassifier_48a45e3dfd95', name='featureSubsetStrategy', doc=\"The number of features to consider for splits at each tree node. Supported options: 'auto' (choose automatically for task: If numTrees == 1, set to 'all'. If numTrees > 1 (forest), set to 'sqrt' for classification and to 'onethird' for regression), 'all' (use all features), 'onethird' (use 1/3 of the features), 'sqrt' (use sqrt(number of features)), 'log2' (use log2(number of features)), 'n' (when n is in the range (0, 1.0], use n * number of features. When n is in the range (1, number of features), use n features). default = 'auto'\"): 'auto'},\n",
       " {Param(parent='RandomForestClassifier_48a45e3dfd95', name='numTrees', doc='Number of trees to train (>= 1).'): 10,\n",
       "  Param(parent='RandomForestClassifier_48a45e3dfd95', name='maxDepth', doc='Maximum depth of the tree. (>= 0) E.g., depth 0 means 1 leaf node; depth 1 means 1 internal node + 2 leaf nodes. Must be in range [0, 30].'): 10,\n",
       "  Param(parent='RandomForestClassifier_48a45e3dfd95', name='maxBins', doc='Max number of bins for discretizing continuous features.  Must be >=2 and >= number of categories for any categorical feature.'): 64,\n",
       "  Param(parent='RandomForestClassifier_48a45e3dfd95', name='featureSubsetStrategy', doc=\"The number of features to consider for splits at each tree node. Supported options: 'auto' (choose automatically for task: If numTrees == 1, set to 'all'. If numTrees > 1 (forest), set to 'sqrt' for classification and to 'onethird' for regression), 'all' (use all features), 'onethird' (use 1/3 of the features), 'sqrt' (use sqrt(number of features)), 'log2' (use log2(number of features)), 'n' (when n is in the range (0, 1.0], use n * number of features. When n is in the range (1, number of features), use n features). default = 'auto'\"): 'sqrt'},\n",
       " {Param(parent='RandomForestClassifier_48a45e3dfd95', name='numTrees', doc='Number of trees to train (>= 1).'): 10,\n",
       "  Param(parent='RandomForestClassifier_48a45e3dfd95', name='maxDepth', doc='Maximum depth of the tree. (>= 0) E.g., depth 0 means 1 leaf node; depth 1 means 1 internal node + 2 leaf nodes. Must be in range [0, 30].'): 10,\n",
       "  Param(parent='RandomForestClassifier_48a45e3dfd95', name='maxBins', doc='Max number of bins for discretizing continuous features.  Must be >=2 and >= number of categories for any categorical feature.'): 64,\n",
       "  Param(parent='RandomForestClassifier_48a45e3dfd95', name='featureSubsetStrategy', doc=\"The number of features to consider for splits at each tree node. Supported options: 'auto' (choose automatically for task: If numTrees == 1, set to 'all'. If numTrees > 1 (forest), set to 'sqrt' for classification and to 'onethird' for regression), 'all' (use all features), 'onethird' (use 1/3 of the features), 'sqrt' (use sqrt(number of features)), 'log2' (use log2(number of features)), 'n' (when n is in the range (0, 1.0], use n * number of features. When n is in the range (1, number of features), use n features). default = 'auto'\"): 'log2'},\n",
       " {Param(parent='RandomForestClassifier_48a45e3dfd95', name='numTrees', doc='Number of trees to train (>= 1).'): 10,\n",
       "  Param(parent='RandomForestClassifier_48a45e3dfd95', name='maxDepth', doc='Maximum depth of the tree. (>= 0) E.g., depth 0 means 1 leaf node; depth 1 means 1 internal node + 2 leaf nodes. Must be in range [0, 30].'): 10,\n",
       "  Param(parent='RandomForestClassifier_48a45e3dfd95', name='maxBins', doc='Max number of bins for discretizing continuous features.  Must be >=2 and >= number of categories for any categorical feature.'): 128,\n",
       "  Param(parent='RandomForestClassifier_48a45e3dfd95', name='featureSubsetStrategy', doc=\"The number of features to consider for splits at each tree node. Supported options: 'auto' (choose automatically for task: If numTrees == 1, set to 'all'. If numTrees > 1 (forest), set to 'sqrt' for classification and to 'onethird' for regression), 'all' (use all features), 'onethird' (use 1/3 of the features), 'sqrt' (use sqrt(number of features)), 'log2' (use log2(number of features)), 'n' (when n is in the range (0, 1.0], use n * number of features. When n is in the range (1, number of features), use n features). default = 'auto'\"): 'auto'},\n",
       " {Param(parent='RandomForestClassifier_48a45e3dfd95', name='numTrees', doc='Number of trees to train (>= 1).'): 10,\n",
       "  Param(parent='RandomForestClassifier_48a45e3dfd95', name='maxDepth', doc='Maximum depth of the tree. (>= 0) E.g., depth 0 means 1 leaf node; depth 1 means 1 internal node + 2 leaf nodes. Must be in range [0, 30].'): 10,\n",
       "  Param(parent='RandomForestClassifier_48a45e3dfd95', name='maxBins', doc='Max number of bins for discretizing continuous features.  Must be >=2 and >= number of categories for any categorical feature.'): 128,\n",
       "  Param(parent='RandomForestClassifier_48a45e3dfd95', name='featureSubsetStrategy', doc=\"The number of features to consider for splits at each tree node. Supported options: 'auto' (choose automatically for task: If numTrees == 1, set to 'all'. If numTrees > 1 (forest), set to 'sqrt' for classification and to 'onethird' for regression), 'all' (use all features), 'onethird' (use 1/3 of the features), 'sqrt' (use sqrt(number of features)), 'log2' (use log2(number of features)), 'n' (when n is in the range (0, 1.0], use n * number of features. When n is in the range (1, number of features), use n features). default = 'auto'\"): 'sqrt'},\n",
       " {Param(parent='RandomForestClassifier_48a45e3dfd95', name='numTrees', doc='Number of trees to train (>= 1).'): 10,\n",
       "  Param(parent='RandomForestClassifier_48a45e3dfd95', name='maxDepth', doc='Maximum depth of the tree. (>= 0) E.g., depth 0 means 1 leaf node; depth 1 means 1 internal node + 2 leaf nodes. Must be in range [0, 30].'): 10,\n",
       "  Param(parent='RandomForestClassifier_48a45e3dfd95', name='maxBins', doc='Max number of bins for discretizing continuous features.  Must be >=2 and >= number of categories for any categorical feature.'): 128,\n",
       "  Param(parent='RandomForestClassifier_48a45e3dfd95', name='featureSubsetStrategy', doc=\"The number of features to consider for splits at each tree node. Supported options: 'auto' (choose automatically for task: If numTrees == 1, set to 'all'. If numTrees > 1 (forest), set to 'sqrt' for classification and to 'onethird' for regression), 'all' (use all features), 'onethird' (use 1/3 of the features), 'sqrt' (use sqrt(number of features)), 'log2' (use log2(number of features)), 'n' (when n is in the range (0, 1.0], use n * number of features. When n is in the range (1, number of features), use n features). default = 'auto'\"): 'log2'},\n",
       " {Param(parent='RandomForestClassifier_48a45e3dfd95', name='numTrees', doc='Number of trees to train (>= 1).'): 10,\n",
       "  Param(parent='RandomForestClassifier_48a45e3dfd95', name='maxDepth', doc='Maximum depth of the tree. (>= 0) E.g., depth 0 means 1 leaf node; depth 1 means 1 internal node + 2 leaf nodes. Must be in range [0, 30].'): 15,\n",
       "  Param(parent='RandomForestClassifier_48a45e3dfd95', name='maxBins', doc='Max number of bins for discretizing continuous features.  Must be >=2 and >= number of categories for any categorical feature.'): 32,\n",
       "  Param(parent='RandomForestClassifier_48a45e3dfd95', name='featureSubsetStrategy', doc=\"The number of features to consider for splits at each tree node. Supported options: 'auto' (choose automatically for task: If numTrees == 1, set to 'all'. If numTrees > 1 (forest), set to 'sqrt' for classification and to 'onethird' for regression), 'all' (use all features), 'onethird' (use 1/3 of the features), 'sqrt' (use sqrt(number of features)), 'log2' (use log2(number of features)), 'n' (when n is in the range (0, 1.0], use n * number of features. When n is in the range (1, number of features), use n features). default = 'auto'\"): 'auto'},\n",
       " {Param(parent='RandomForestClassifier_48a45e3dfd95', name='numTrees', doc='Number of trees to train (>= 1).'): 10,\n",
       "  Param(parent='RandomForestClassifier_48a45e3dfd95', name='maxDepth', doc='Maximum depth of the tree. (>= 0) E.g., depth 0 means 1 leaf node; depth 1 means 1 internal node + 2 leaf nodes. Must be in range [0, 30].'): 15,\n",
       "  Param(parent='RandomForestClassifier_48a45e3dfd95', name='maxBins', doc='Max number of bins for discretizing continuous features.  Must be >=2 and >= number of categories for any categorical feature.'): 32,\n",
       "  Param(parent='RandomForestClassifier_48a45e3dfd95', name='featureSubsetStrategy', doc=\"The number of features to consider for splits at each tree node. Supported options: 'auto' (choose automatically for task: If numTrees == 1, set to 'all'. If numTrees > 1 (forest), set to 'sqrt' for classification and to 'onethird' for regression), 'all' (use all features), 'onethird' (use 1/3 of the features), 'sqrt' (use sqrt(number of features)), 'log2' (use log2(number of features)), 'n' (when n is in the range (0, 1.0], use n * number of features. When n is in the range (1, number of features), use n features). default = 'auto'\"): 'sqrt'},\n",
       " {Param(parent='RandomForestClassifier_48a45e3dfd95', name='numTrees', doc='Number of trees to train (>= 1).'): 10,\n",
       "  Param(parent='RandomForestClassifier_48a45e3dfd95', name='maxDepth', doc='Maximum depth of the tree. (>= 0) E.g., depth 0 means 1 leaf node; depth 1 means 1 internal node + 2 leaf nodes. Must be in range [0, 30].'): 15,\n",
       "  Param(parent='RandomForestClassifier_48a45e3dfd95', name='maxBins', doc='Max number of bins for discretizing continuous features.  Must be >=2 and >= number of categories for any categorical feature.'): 32,\n",
       "  Param(parent='RandomForestClassifier_48a45e3dfd95', name='featureSubsetStrategy', doc=\"The number of features to consider for splits at each tree node. Supported options: 'auto' (choose automatically for task: If numTrees == 1, set to 'all'. If numTrees > 1 (forest), set to 'sqrt' for classification and to 'onethird' for regression), 'all' (use all features), 'onethird' (use 1/3 of the features), 'sqrt' (use sqrt(number of features)), 'log2' (use log2(number of features)), 'n' (when n is in the range (0, 1.0], use n * number of features. When n is in the range (1, number of features), use n features). default = 'auto'\"): 'log2'},\n",
       " {Param(parent='RandomForestClassifier_48a45e3dfd95', name='numTrees', doc='Number of trees to train (>= 1).'): 10,\n",
       "  Param(parent='RandomForestClassifier_48a45e3dfd95', name='maxDepth', doc='Maximum depth of the tree. (>= 0) E.g., depth 0 means 1 leaf node; depth 1 means 1 internal node + 2 leaf nodes. Must be in range [0, 30].'): 15,\n",
       "  Param(parent='RandomForestClassifier_48a45e3dfd95', name='maxBins', doc='Max number of bins for discretizing continuous features.  Must be >=2 and >= number of categories for any categorical feature.'): 64,\n",
       "  Param(parent='RandomForestClassifier_48a45e3dfd95', name='featureSubsetStrategy', doc=\"The number of features to consider for splits at each tree node. Supported options: 'auto' (choose automatically for task: If numTrees == 1, set to 'all'. If numTrees > 1 (forest), set to 'sqrt' for classification and to 'onethird' for regression), 'all' (use all features), 'onethird' (use 1/3 of the features), 'sqrt' (use sqrt(number of features)), 'log2' (use log2(number of features)), 'n' (when n is in the range (0, 1.0], use n * number of features. When n is in the range (1, number of features), use n features). default = 'auto'\"): 'auto'},\n",
       " {Param(parent='RandomForestClassifier_48a45e3dfd95', name='numTrees', doc='Number of trees to train (>= 1).'): 10,\n",
       "  Param(parent='RandomForestClassifier_48a45e3dfd95', name='maxDepth', doc='Maximum depth of the tree. (>= 0) E.g., depth 0 means 1 leaf node; depth 1 means 1 internal node + 2 leaf nodes. Must be in range [0, 30].'): 15,\n",
       "  Param(parent='RandomForestClassifier_48a45e3dfd95', name='maxBins', doc='Max number of bins for discretizing continuous features.  Must be >=2 and >= number of categories for any categorical feature.'): 64,\n",
       "  Param(parent='RandomForestClassifier_48a45e3dfd95', name='featureSubsetStrategy', doc=\"The number of features to consider for splits at each tree node. Supported options: 'auto' (choose automatically for task: If numTrees == 1, set to 'all'. If numTrees > 1 (forest), set to 'sqrt' for classification and to 'onethird' for regression), 'all' (use all features), 'onethird' (use 1/3 of the features), 'sqrt' (use sqrt(number of features)), 'log2' (use log2(number of features)), 'n' (when n is in the range (0, 1.0], use n * number of features. When n is in the range (1, number of features), use n features). default = 'auto'\"): 'sqrt'},\n",
       " {Param(parent='RandomForestClassifier_48a45e3dfd95', name='numTrees', doc='Number of trees to train (>= 1).'): 10,\n",
       "  Param(parent='RandomForestClassifier_48a45e3dfd95', name='maxDepth', doc='Maximum depth of the tree. (>= 0) E.g., depth 0 means 1 leaf node; depth 1 means 1 internal node + 2 leaf nodes. Must be in range [0, 30].'): 15,\n",
       "  Param(parent='RandomForestClassifier_48a45e3dfd95', name='maxBins', doc='Max number of bins for discretizing continuous features.  Must be >=2 and >= number of categories for any categorical feature.'): 64,\n",
       "  Param(parent='RandomForestClassifier_48a45e3dfd95', name='featureSubsetStrategy', doc=\"The number of features to consider for splits at each tree node. Supported options: 'auto' (choose automatically for task: If numTrees == 1, set to 'all'. If numTrees > 1 (forest), set to 'sqrt' for classification and to 'onethird' for regression), 'all' (use all features), 'onethird' (use 1/3 of the features), 'sqrt' (use sqrt(number of features)), 'log2' (use log2(number of features)), 'n' (when n is in the range (0, 1.0], use n * number of features. When n is in the range (1, number of features), use n features). default = 'auto'\"): 'log2'},\n",
       " {Param(parent='RandomForestClassifier_48a45e3dfd95', name='numTrees', doc='Number of trees to train (>= 1).'): 10,\n",
       "  Param(parent='RandomForestClassifier_48a45e3dfd95', name='maxDepth', doc='Maximum depth of the tree. (>= 0) E.g., depth 0 means 1 leaf node; depth 1 means 1 internal node + 2 leaf nodes. Must be in range [0, 30].'): 15,\n",
       "  Param(parent='RandomForestClassifier_48a45e3dfd95', name='maxBins', doc='Max number of bins for discretizing continuous features.  Must be >=2 and >= number of categories for any categorical feature.'): 128,\n",
       "  Param(parent='RandomForestClassifier_48a45e3dfd95', name='featureSubsetStrategy', doc=\"The number of features to consider for splits at each tree node. Supported options: 'auto' (choose automatically for task: If numTrees == 1, set to 'all'. If numTrees > 1 (forest), set to 'sqrt' for classification and to 'onethird' for regression), 'all' (use all features), 'onethird' (use 1/3 of the features), 'sqrt' (use sqrt(number of features)), 'log2' (use log2(number of features)), 'n' (when n is in the range (0, 1.0], use n * number of features. When n is in the range (1, number of features), use n features). default = 'auto'\"): 'auto'},\n",
       " {Param(parent='RandomForestClassifier_48a45e3dfd95', name='numTrees', doc='Number of trees to train (>= 1).'): 10,\n",
       "  Param(parent='RandomForestClassifier_48a45e3dfd95', name='maxDepth', doc='Maximum depth of the tree. (>= 0) E.g., depth 0 means 1 leaf node; depth 1 means 1 internal node + 2 leaf nodes. Must be in range [0, 30].'): 15,\n",
       "  Param(parent='RandomForestClassifier_48a45e3dfd95', name='maxBins', doc='Max number of bins for discretizing continuous features.  Must be >=2 and >= number of categories for any categorical feature.'): 128,\n",
       "  Param(parent='RandomForestClassifier_48a45e3dfd95', name='featureSubsetStrategy', doc=\"The number of features to consider for splits at each tree node. Supported options: 'auto' (choose automatically for task: If numTrees == 1, set to 'all'. If numTrees > 1 (forest), set to 'sqrt' for classification and to 'onethird' for regression), 'all' (use all features), 'onethird' (use 1/3 of the features), 'sqrt' (use sqrt(number of features)), 'log2' (use log2(number of features)), 'n' (when n is in the range (0, 1.0], use n * number of features. When n is in the range (1, number of features), use n features). default = 'auto'\"): 'sqrt'},\n",
       " {Param(parent='RandomForestClassifier_48a45e3dfd95', name='numTrees', doc='Number of trees to train (>= 1).'): 10,\n",
       "  Param(parent='RandomForestClassifier_48a45e3dfd95', name='maxDepth', doc='Maximum depth of the tree. (>= 0) E.g., depth 0 means 1 leaf node; depth 1 means 1 internal node + 2 leaf nodes. Must be in range [0, 30].'): 15,\n",
       "  Param(parent='RandomForestClassifier_48a45e3dfd95', name='maxBins', doc='Max number of bins for discretizing continuous features.  Must be >=2 and >= number of categories for any categorical feature.'): 128,\n",
       "  Param(parent='RandomForestClassifier_48a45e3dfd95', name='featureSubsetStrategy', doc=\"The number of features to consider for splits at each tree node. Supported options: 'auto' (choose automatically for task: If numTrees == 1, set to 'all'. If numTrees > 1 (forest), set to 'sqrt' for classification and to 'onethird' for regression), 'all' (use all features), 'onethird' (use 1/3 of the features), 'sqrt' (use sqrt(number of features)), 'log2' (use log2(number of features)), 'n' (when n is in the range (0, 1.0], use n * number of features. When n is in the range (1, number of features), use n features). default = 'auto'\"): 'log2'},\n",
       " {Param(parent='RandomForestClassifier_48a45e3dfd95', name='numTrees', doc='Number of trees to train (>= 1).'): 20,\n",
       "  Param(parent='RandomForestClassifier_48a45e3dfd95', name='maxDepth', doc='Maximum depth of the tree. (>= 0) E.g., depth 0 means 1 leaf node; depth 1 means 1 internal node + 2 leaf nodes. Must be in range [0, 30].'): 5,\n",
       "  Param(parent='RandomForestClassifier_48a45e3dfd95', name='maxBins', doc='Max number of bins for discretizing continuous features.  Must be >=2 and >= number of categories for any categorical feature.'): 32,\n",
       "  Param(parent='RandomForestClassifier_48a45e3dfd95', name='featureSubsetStrategy', doc=\"The number of features to consider for splits at each tree node. Supported options: 'auto' (choose automatically for task: If numTrees == 1, set to 'all'. If numTrees > 1 (forest), set to 'sqrt' for classification and to 'onethird' for regression), 'all' (use all features), 'onethird' (use 1/3 of the features), 'sqrt' (use sqrt(number of features)), 'log2' (use log2(number of features)), 'n' (when n is in the range (0, 1.0], use n * number of features. When n is in the range (1, number of features), use n features). default = 'auto'\"): 'auto'},\n",
       " {Param(parent='RandomForestClassifier_48a45e3dfd95', name='numTrees', doc='Number of trees to train (>= 1).'): 20,\n",
       "  Param(parent='RandomForestClassifier_48a45e3dfd95', name='maxDepth', doc='Maximum depth of the tree. (>= 0) E.g., depth 0 means 1 leaf node; depth 1 means 1 internal node + 2 leaf nodes. Must be in range [0, 30].'): 5,\n",
       "  Param(parent='RandomForestClassifier_48a45e3dfd95', name='maxBins', doc='Max number of bins for discretizing continuous features.  Must be >=2 and >= number of categories for any categorical feature.'): 32,\n",
       "  Param(parent='RandomForestClassifier_48a45e3dfd95', name='featureSubsetStrategy', doc=\"The number of features to consider for splits at each tree node. Supported options: 'auto' (choose automatically for task: If numTrees == 1, set to 'all'. If numTrees > 1 (forest), set to 'sqrt' for classification and to 'onethird' for regression), 'all' (use all features), 'onethird' (use 1/3 of the features), 'sqrt' (use sqrt(number of features)), 'log2' (use log2(number of features)), 'n' (when n is in the range (0, 1.0], use n * number of features. When n is in the range (1, number of features), use n features). default = 'auto'\"): 'sqrt'},\n",
       " {Param(parent='RandomForestClassifier_48a45e3dfd95', name='numTrees', doc='Number of trees to train (>= 1).'): 20,\n",
       "  Param(parent='RandomForestClassifier_48a45e3dfd95', name='maxDepth', doc='Maximum depth of the tree. (>= 0) E.g., depth 0 means 1 leaf node; depth 1 means 1 internal node + 2 leaf nodes. Must be in range [0, 30].'): 5,\n",
       "  Param(parent='RandomForestClassifier_48a45e3dfd95', name='maxBins', doc='Max number of bins for discretizing continuous features.  Must be >=2 and >= number of categories for any categorical feature.'): 32,\n",
       "  Param(parent='RandomForestClassifier_48a45e3dfd95', name='featureSubsetStrategy', doc=\"The number of features to consider for splits at each tree node. Supported options: 'auto' (choose automatically for task: If numTrees == 1, set to 'all'. If numTrees > 1 (forest), set to 'sqrt' for classification and to 'onethird' for regression), 'all' (use all features), 'onethird' (use 1/3 of the features), 'sqrt' (use sqrt(number of features)), 'log2' (use log2(number of features)), 'n' (when n is in the range (0, 1.0], use n * number of features. When n is in the range (1, number of features), use n features). default = 'auto'\"): 'log2'},\n",
       " {Param(parent='RandomForestClassifier_48a45e3dfd95', name='numTrees', doc='Number of trees to train (>= 1).'): 20,\n",
       "  Param(parent='RandomForestClassifier_48a45e3dfd95', name='maxDepth', doc='Maximum depth of the tree. (>= 0) E.g., depth 0 means 1 leaf node; depth 1 means 1 internal node + 2 leaf nodes. Must be in range [0, 30].'): 5,\n",
       "  Param(parent='RandomForestClassifier_48a45e3dfd95', name='maxBins', doc='Max number of bins for discretizing continuous features.  Must be >=2 and >= number of categories for any categorical feature.'): 64,\n",
       "  Param(parent='RandomForestClassifier_48a45e3dfd95', name='featureSubsetStrategy', doc=\"The number of features to consider for splits at each tree node. Supported options: 'auto' (choose automatically for task: If numTrees == 1, set to 'all'. If numTrees > 1 (forest), set to 'sqrt' for classification and to 'onethird' for regression), 'all' (use all features), 'onethird' (use 1/3 of the features), 'sqrt' (use sqrt(number of features)), 'log2' (use log2(number of features)), 'n' (when n is in the range (0, 1.0], use n * number of features. When n is in the range (1, number of features), use n features). default = 'auto'\"): 'auto'},\n",
       " {Param(parent='RandomForestClassifier_48a45e3dfd95', name='numTrees', doc='Number of trees to train (>= 1).'): 20,\n",
       "  Param(parent='RandomForestClassifier_48a45e3dfd95', name='maxDepth', doc='Maximum depth of the tree. (>= 0) E.g., depth 0 means 1 leaf node; depth 1 means 1 internal node + 2 leaf nodes. Must be in range [0, 30].'): 5,\n",
       "  Param(parent='RandomForestClassifier_48a45e3dfd95', name='maxBins', doc='Max number of bins for discretizing continuous features.  Must be >=2 and >= number of categories for any categorical feature.'): 64,\n",
       "  Param(parent='RandomForestClassifier_48a45e3dfd95', name='featureSubsetStrategy', doc=\"The number of features to consider for splits at each tree node. Supported options: 'auto' (choose automatically for task: If numTrees == 1, set to 'all'. If numTrees > 1 (forest), set to 'sqrt' for classification and to 'onethird' for regression), 'all' (use all features), 'onethird' (use 1/3 of the features), 'sqrt' (use sqrt(number of features)), 'log2' (use log2(number of features)), 'n' (when n is in the range (0, 1.0], use n * number of features. When n is in the range (1, number of features), use n features). default = 'auto'\"): 'sqrt'},\n",
       " {Param(parent='RandomForestClassifier_48a45e3dfd95', name='numTrees', doc='Number of trees to train (>= 1).'): 20,\n",
       "  Param(parent='RandomForestClassifier_48a45e3dfd95', name='maxDepth', doc='Maximum depth of the tree. (>= 0) E.g., depth 0 means 1 leaf node; depth 1 means 1 internal node + 2 leaf nodes. Must be in range [0, 30].'): 5,\n",
       "  Param(parent='RandomForestClassifier_48a45e3dfd95', name='maxBins', doc='Max number of bins for discretizing continuous features.  Must be >=2 and >= number of categories for any categorical feature.'): 64,\n",
       "  Param(parent='RandomForestClassifier_48a45e3dfd95', name='featureSubsetStrategy', doc=\"The number of features to consider for splits at each tree node. Supported options: 'auto' (choose automatically for task: If numTrees == 1, set to 'all'. If numTrees > 1 (forest), set to 'sqrt' for classification and to 'onethird' for regression), 'all' (use all features), 'onethird' (use 1/3 of the features), 'sqrt' (use sqrt(number of features)), 'log2' (use log2(number of features)), 'n' (when n is in the range (0, 1.0], use n * number of features. When n is in the range (1, number of features), use n features). default = 'auto'\"): 'log2'},\n",
       " {Param(parent='RandomForestClassifier_48a45e3dfd95', name='numTrees', doc='Number of trees to train (>= 1).'): 20,\n",
       "  Param(parent='RandomForestClassifier_48a45e3dfd95', name='maxDepth', doc='Maximum depth of the tree. (>= 0) E.g., depth 0 means 1 leaf node; depth 1 means 1 internal node + 2 leaf nodes. Must be in range [0, 30].'): 5,\n",
       "  Param(parent='RandomForestClassifier_48a45e3dfd95', name='maxBins', doc='Max number of bins for discretizing continuous features.  Must be >=2 and >= number of categories for any categorical feature.'): 128,\n",
       "  Param(parent='RandomForestClassifier_48a45e3dfd95', name='featureSubsetStrategy', doc=\"The number of features to consider for splits at each tree node. Supported options: 'auto' (choose automatically for task: If numTrees == 1, set to 'all'. If numTrees > 1 (forest), set to 'sqrt' for classification and to 'onethird' for regression), 'all' (use all features), 'onethird' (use 1/3 of the features), 'sqrt' (use sqrt(number of features)), 'log2' (use log2(number of features)), 'n' (when n is in the range (0, 1.0], use n * number of features. When n is in the range (1, number of features), use n features). default = 'auto'\"): 'auto'},\n",
       " {Param(parent='RandomForestClassifier_48a45e3dfd95', name='numTrees', doc='Number of trees to train (>= 1).'): 20,\n",
       "  Param(parent='RandomForestClassifier_48a45e3dfd95', name='maxDepth', doc='Maximum depth of the tree. (>= 0) E.g., depth 0 means 1 leaf node; depth 1 means 1 internal node + 2 leaf nodes. Must be in range [0, 30].'): 5,\n",
       "  Param(parent='RandomForestClassifier_48a45e3dfd95', name='maxBins', doc='Max number of bins for discretizing continuous features.  Must be >=2 and >= number of categories for any categorical feature.'): 128,\n",
       "  Param(parent='RandomForestClassifier_48a45e3dfd95', name='featureSubsetStrategy', doc=\"The number of features to consider for splits at each tree node. Supported options: 'auto' (choose automatically for task: If numTrees == 1, set to 'all'. If numTrees > 1 (forest), set to 'sqrt' for classification and to 'onethird' for regression), 'all' (use all features), 'onethird' (use 1/3 of the features), 'sqrt' (use sqrt(number of features)), 'log2' (use log2(number of features)), 'n' (when n is in the range (0, 1.0], use n * number of features. When n is in the range (1, number of features), use n features). default = 'auto'\"): 'sqrt'},\n",
       " {Param(parent='RandomForestClassifier_48a45e3dfd95', name='numTrees', doc='Number of trees to train (>= 1).'): 20,\n",
       "  Param(parent='RandomForestClassifier_48a45e3dfd95', name='maxDepth', doc='Maximum depth of the tree. (>= 0) E.g., depth 0 means 1 leaf node; depth 1 means 1 internal node + 2 leaf nodes. Must be in range [0, 30].'): 5,\n",
       "  Param(parent='RandomForestClassifier_48a45e3dfd95', name='maxBins', doc='Max number of bins for discretizing continuous features.  Must be >=2 and >= number of categories for any categorical feature.'): 128,\n",
       "  Param(parent='RandomForestClassifier_48a45e3dfd95', name='featureSubsetStrategy', doc=\"The number of features to consider for splits at each tree node. Supported options: 'auto' (choose automatically for task: If numTrees == 1, set to 'all'. If numTrees > 1 (forest), set to 'sqrt' for classification and to 'onethird' for regression), 'all' (use all features), 'onethird' (use 1/3 of the features), 'sqrt' (use sqrt(number of features)), 'log2' (use log2(number of features)), 'n' (when n is in the range (0, 1.0], use n * number of features. When n is in the range (1, number of features), use n features). default = 'auto'\"): 'log2'},\n",
       " {Param(parent='RandomForestClassifier_48a45e3dfd95', name='numTrees', doc='Number of trees to train (>= 1).'): 20,\n",
       "  Param(parent='RandomForestClassifier_48a45e3dfd95', name='maxDepth', doc='Maximum depth of the tree. (>= 0) E.g., depth 0 means 1 leaf node; depth 1 means 1 internal node + 2 leaf nodes. Must be in range [0, 30].'): 10,\n",
       "  Param(parent='RandomForestClassifier_48a45e3dfd95', name='maxBins', doc='Max number of bins for discretizing continuous features.  Must be >=2 and >= number of categories for any categorical feature.'): 32,\n",
       "  Param(parent='RandomForestClassifier_48a45e3dfd95', name='featureSubsetStrategy', doc=\"The number of features to consider for splits at each tree node. Supported options: 'auto' (choose automatically for task: If numTrees == 1, set to 'all'. If numTrees > 1 (forest), set to 'sqrt' for classification and to 'onethird' for regression), 'all' (use all features), 'onethird' (use 1/3 of the features), 'sqrt' (use sqrt(number of features)), 'log2' (use log2(number of features)), 'n' (when n is in the range (0, 1.0], use n * number of features. When n is in the range (1, number of features), use n features). default = 'auto'\"): 'auto'},\n",
       " {Param(parent='RandomForestClassifier_48a45e3dfd95', name='numTrees', doc='Number of trees to train (>= 1).'): 20,\n",
       "  Param(parent='RandomForestClassifier_48a45e3dfd95', name='maxDepth', doc='Maximum depth of the tree. (>= 0) E.g., depth 0 means 1 leaf node; depth 1 means 1 internal node + 2 leaf nodes. Must be in range [0, 30].'): 10,\n",
       "  Param(parent='RandomForestClassifier_48a45e3dfd95', name='maxBins', doc='Max number of bins for discretizing continuous features.  Must be >=2 and >= number of categories for any categorical feature.'): 32,\n",
       "  Param(parent='RandomForestClassifier_48a45e3dfd95', name='featureSubsetStrategy', doc=\"The number of features to consider for splits at each tree node. Supported options: 'auto' (choose automatically for task: If numTrees == 1, set to 'all'. If numTrees > 1 (forest), set to 'sqrt' for classification and to 'onethird' for regression), 'all' (use all features), 'onethird' (use 1/3 of the features), 'sqrt' (use sqrt(number of features)), 'log2' (use log2(number of features)), 'n' (when n is in the range (0, 1.0], use n * number of features. When n is in the range (1, number of features), use n features). default = 'auto'\"): 'sqrt'},\n",
       " {Param(parent='RandomForestClassifier_48a45e3dfd95', name='numTrees', doc='Number of trees to train (>= 1).'): 20,\n",
       "  Param(parent='RandomForestClassifier_48a45e3dfd95', name='maxDepth', doc='Maximum depth of the tree. (>= 0) E.g., depth 0 means 1 leaf node; depth 1 means 1 internal node + 2 leaf nodes. Must be in range [0, 30].'): 10,\n",
       "  Param(parent='RandomForestClassifier_48a45e3dfd95', name='maxBins', doc='Max number of bins for discretizing continuous features.  Must be >=2 and >= number of categories for any categorical feature.'): 32,\n",
       "  Param(parent='RandomForestClassifier_48a45e3dfd95', name='featureSubsetStrategy', doc=\"The number of features to consider for splits at each tree node. Supported options: 'auto' (choose automatically for task: If numTrees == 1, set to 'all'. If numTrees > 1 (forest), set to 'sqrt' for classification and to 'onethird' for regression), 'all' (use all features), 'onethird' (use 1/3 of the features), 'sqrt' (use sqrt(number of features)), 'log2' (use log2(number of features)), 'n' (when n is in the range (0, 1.0], use n * number of features. When n is in the range (1, number of features), use n features). default = 'auto'\"): 'log2'},\n",
       " {Param(parent='RandomForestClassifier_48a45e3dfd95', name='numTrees', doc='Number of trees to train (>= 1).'): 20,\n",
       "  Param(parent='RandomForestClassifier_48a45e3dfd95', name='maxDepth', doc='Maximum depth of the tree. (>= 0) E.g., depth 0 means 1 leaf node; depth 1 means 1 internal node + 2 leaf nodes. Must be in range [0, 30].'): 10,\n",
       "  Param(parent='RandomForestClassifier_48a45e3dfd95', name='maxBins', doc='Max number of bins for discretizing continuous features.  Must be >=2 and >= number of categories for any categorical feature.'): 64,\n",
       "  Param(parent='RandomForestClassifier_48a45e3dfd95', name='featureSubsetStrategy', doc=\"The number of features to consider for splits at each tree node. Supported options: 'auto' (choose automatically for task: If numTrees == 1, set to 'all'. If numTrees > 1 (forest), set to 'sqrt' for classification and to 'onethird' for regression), 'all' (use all features), 'onethird' (use 1/3 of the features), 'sqrt' (use sqrt(number of features)), 'log2' (use log2(number of features)), 'n' (when n is in the range (0, 1.0], use n * number of features. When n is in the range (1, number of features), use n features). default = 'auto'\"): 'auto'},\n",
       " {Param(parent='RandomForestClassifier_48a45e3dfd95', name='numTrees', doc='Number of trees to train (>= 1).'): 20,\n",
       "  Param(parent='RandomForestClassifier_48a45e3dfd95', name='maxDepth', doc='Maximum depth of the tree. (>= 0) E.g., depth 0 means 1 leaf node; depth 1 means 1 internal node + 2 leaf nodes. Must be in range [0, 30].'): 10,\n",
       "  Param(parent='RandomForestClassifier_48a45e3dfd95', name='maxBins', doc='Max number of bins for discretizing continuous features.  Must be >=2 and >= number of categories for any categorical feature.'): 64,\n",
       "  Param(parent='RandomForestClassifier_48a45e3dfd95', name='featureSubsetStrategy', doc=\"The number of features to consider for splits at each tree node. Supported options: 'auto' (choose automatically for task: If numTrees == 1, set to 'all'. If numTrees > 1 (forest), set to 'sqrt' for classification and to 'onethird' for regression), 'all' (use all features), 'onethird' (use 1/3 of the features), 'sqrt' (use sqrt(number of features)), 'log2' (use log2(number of features)), 'n' (when n is in the range (0, 1.0], use n * number of features. When n is in the range (1, number of features), use n features). default = 'auto'\"): 'sqrt'},\n",
       " {Param(parent='RandomForestClassifier_48a45e3dfd95', name='numTrees', doc='Number of trees to train (>= 1).'): 20,\n",
       "  Param(parent='RandomForestClassifier_48a45e3dfd95', name='maxDepth', doc='Maximum depth of the tree. (>= 0) E.g., depth 0 means 1 leaf node; depth 1 means 1 internal node + 2 leaf nodes. Must be in range [0, 30].'): 10,\n",
       "  Param(parent='RandomForestClassifier_48a45e3dfd95', name='maxBins', doc='Max number of bins for discretizing continuous features.  Must be >=2 and >= number of categories for any categorical feature.'): 64,\n",
       "  Param(parent='RandomForestClassifier_48a45e3dfd95', name='featureSubsetStrategy', doc=\"The number of features to consider for splits at each tree node. Supported options: 'auto' (choose automatically for task: If numTrees == 1, set to 'all'. If numTrees > 1 (forest), set to 'sqrt' for classification and to 'onethird' for regression), 'all' (use all features), 'onethird' (use 1/3 of the features), 'sqrt' (use sqrt(number of features)), 'log2' (use log2(number of features)), 'n' (when n is in the range (0, 1.0], use n * number of features. When n is in the range (1, number of features), use n features). default = 'auto'\"): 'log2'},\n",
       " {Param(parent='RandomForestClassifier_48a45e3dfd95', name='numTrees', doc='Number of trees to train (>= 1).'): 20,\n",
       "  Param(parent='RandomForestClassifier_48a45e3dfd95', name='maxDepth', doc='Maximum depth of the tree. (>= 0) E.g., depth 0 means 1 leaf node; depth 1 means 1 internal node + 2 leaf nodes. Must be in range [0, 30].'): 10,\n",
       "  Param(parent='RandomForestClassifier_48a45e3dfd95', name='maxBins', doc='Max number of bins for discretizing continuous features.  Must be >=2 and >= number of categories for any categorical feature.'): 128,\n",
       "  Param(parent='RandomForestClassifier_48a45e3dfd95', name='featureSubsetStrategy', doc=\"The number of features to consider for splits at each tree node. Supported options: 'auto' (choose automatically for task: If numTrees == 1, set to 'all'. If numTrees > 1 (forest), set to 'sqrt' for classification and to 'onethird' for regression), 'all' (use all features), 'onethird' (use 1/3 of the features), 'sqrt' (use sqrt(number of features)), 'log2' (use log2(number of features)), 'n' (when n is in the range (0, 1.0], use n * number of features. When n is in the range (1, number of features), use n features). default = 'auto'\"): 'auto'},\n",
       " {Param(parent='RandomForestClassifier_48a45e3dfd95', name='numTrees', doc='Number of trees to train (>= 1).'): 20,\n",
       "  Param(parent='RandomForestClassifier_48a45e3dfd95', name='maxDepth', doc='Maximum depth of the tree. (>= 0) E.g., depth 0 means 1 leaf node; depth 1 means 1 internal node + 2 leaf nodes. Must be in range [0, 30].'): 10,\n",
       "  Param(parent='RandomForestClassifier_48a45e3dfd95', name='maxBins', doc='Max number of bins for discretizing continuous features.  Must be >=2 and >= number of categories for any categorical feature.'): 128,\n",
       "  Param(parent='RandomForestClassifier_48a45e3dfd95', name='featureSubsetStrategy', doc=\"The number of features to consider for splits at each tree node. Supported options: 'auto' (choose automatically for task: If numTrees == 1, set to 'all'. If numTrees > 1 (forest), set to 'sqrt' for classification and to 'onethird' for regression), 'all' (use all features), 'onethird' (use 1/3 of the features), 'sqrt' (use sqrt(number of features)), 'log2' (use log2(number of features)), 'n' (when n is in the range (0, 1.0], use n * number of features. When n is in the range (1, number of features), use n features). default = 'auto'\"): 'sqrt'},\n",
       " {Param(parent='RandomForestClassifier_48a45e3dfd95', name='numTrees', doc='Number of trees to train (>= 1).'): 20,\n",
       "  Param(parent='RandomForestClassifier_48a45e3dfd95', name='maxDepth', doc='Maximum depth of the tree. (>= 0) E.g., depth 0 means 1 leaf node; depth 1 means 1 internal node + 2 leaf nodes. Must be in range [0, 30].'): 10,\n",
       "  Param(parent='RandomForestClassifier_48a45e3dfd95', name='maxBins', doc='Max number of bins for discretizing continuous features.  Must be >=2 and >= number of categories for any categorical feature.'): 128,\n",
       "  Param(parent='RandomForestClassifier_48a45e3dfd95', name='featureSubsetStrategy', doc=\"The number of features to consider for splits at each tree node. Supported options: 'auto' (choose automatically for task: If numTrees == 1, set to 'all'. If numTrees > 1 (forest), set to 'sqrt' for classification and to 'onethird' for regression), 'all' (use all features), 'onethird' (use 1/3 of the features), 'sqrt' (use sqrt(number of features)), 'log2' (use log2(number of features)), 'n' (when n is in the range (0, 1.0], use n * number of features. When n is in the range (1, number of features), use n features). default = 'auto'\"): 'log2'},\n",
       " {Param(parent='RandomForestClassifier_48a45e3dfd95', name='numTrees', doc='Number of trees to train (>= 1).'): 20,\n",
       "  Param(parent='RandomForestClassifier_48a45e3dfd95', name='maxDepth', doc='Maximum depth of the tree. (>= 0) E.g., depth 0 means 1 leaf node; depth 1 means 1 internal node + 2 leaf nodes. Must be in range [0, 30].'): 15,\n",
       "  Param(parent='RandomForestClassifier_48a45e3dfd95', name='maxBins', doc='Max number of bins for discretizing continuous features.  Must be >=2 and >= number of categories for any categorical feature.'): 32,\n",
       "  Param(parent='RandomForestClassifier_48a45e3dfd95', name='featureSubsetStrategy', doc=\"The number of features to consider for splits at each tree node. Supported options: 'auto' (choose automatically for task: If numTrees == 1, set to 'all'. If numTrees > 1 (forest), set to 'sqrt' for classification and to 'onethird' for regression), 'all' (use all features), 'onethird' (use 1/3 of the features), 'sqrt' (use sqrt(number of features)), 'log2' (use log2(number of features)), 'n' (when n is in the range (0, 1.0], use n * number of features. When n is in the range (1, number of features), use n features). default = 'auto'\"): 'auto'},\n",
       " {Param(parent='RandomForestClassifier_48a45e3dfd95', name='numTrees', doc='Number of trees to train (>= 1).'): 20,\n",
       "  Param(parent='RandomForestClassifier_48a45e3dfd95', name='maxDepth', doc='Maximum depth of the tree. (>= 0) E.g., depth 0 means 1 leaf node; depth 1 means 1 internal node + 2 leaf nodes. Must be in range [0, 30].'): 15,\n",
       "  Param(parent='RandomForestClassifier_48a45e3dfd95', name='maxBins', doc='Max number of bins for discretizing continuous features.  Must be >=2 and >= number of categories for any categorical feature.'): 32,\n",
       "  Param(parent='RandomForestClassifier_48a45e3dfd95', name='featureSubsetStrategy', doc=\"The number of features to consider for splits at each tree node. Supported options: 'auto' (choose automatically for task: If numTrees == 1, set to 'all'. If numTrees > 1 (forest), set to 'sqrt' for classification and to 'onethird' for regression), 'all' (use all features), 'onethird' (use 1/3 of the features), 'sqrt' (use sqrt(number of features)), 'log2' (use log2(number of features)), 'n' (when n is in the range (0, 1.0], use n * number of features. When n is in the range (1, number of features), use n features). default = 'auto'\"): 'sqrt'},\n",
       " {Param(parent='RandomForestClassifier_48a45e3dfd95', name='numTrees', doc='Number of trees to train (>= 1).'): 20,\n",
       "  Param(parent='RandomForestClassifier_48a45e3dfd95', name='maxDepth', doc='Maximum depth of the tree. (>= 0) E.g., depth 0 means 1 leaf node; depth 1 means 1 internal node + 2 leaf nodes. Must be in range [0, 30].'): 15,\n",
       "  Param(parent='RandomForestClassifier_48a45e3dfd95', name='maxBins', doc='Max number of bins for discretizing continuous features.  Must be >=2 and >= number of categories for any categorical feature.'): 32,\n",
       "  Param(parent='RandomForestClassifier_48a45e3dfd95', name='featureSubsetStrategy', doc=\"The number of features to consider for splits at each tree node. Supported options: 'auto' (choose automatically for task: If numTrees == 1, set to 'all'. If numTrees > 1 (forest), set to 'sqrt' for classification and to 'onethird' for regression), 'all' (use all features), 'onethird' (use 1/3 of the features), 'sqrt' (use sqrt(number of features)), 'log2' (use log2(number of features)), 'n' (when n is in the range (0, 1.0], use n * number of features. When n is in the range (1, number of features), use n features). default = 'auto'\"): 'log2'},\n",
       " {Param(parent='RandomForestClassifier_48a45e3dfd95', name='numTrees', doc='Number of trees to train (>= 1).'): 20,\n",
       "  Param(parent='RandomForestClassifier_48a45e3dfd95', name='maxDepth', doc='Maximum depth of the tree. (>= 0) E.g., depth 0 means 1 leaf node; depth 1 means 1 internal node + 2 leaf nodes. Must be in range [0, 30].'): 15,\n",
       "  Param(parent='RandomForestClassifier_48a45e3dfd95', name='maxBins', doc='Max number of bins for discretizing continuous features.  Must be >=2 and >= number of categories for any categorical feature.'): 64,\n",
       "  Param(parent='RandomForestClassifier_48a45e3dfd95', name='featureSubsetStrategy', doc=\"The number of features to consider for splits at each tree node. Supported options: 'auto' (choose automatically for task: If numTrees == 1, set to 'all'. If numTrees > 1 (forest), set to 'sqrt' for classification and to 'onethird' for regression), 'all' (use all features), 'onethird' (use 1/3 of the features), 'sqrt' (use sqrt(number of features)), 'log2' (use log2(number of features)), 'n' (when n is in the range (0, 1.0], use n * number of features. When n is in the range (1, number of features), use n features). default = 'auto'\"): 'auto'},\n",
       " {Param(parent='RandomForestClassifier_48a45e3dfd95', name='numTrees', doc='Number of trees to train (>= 1).'): 20,\n",
       "  Param(parent='RandomForestClassifier_48a45e3dfd95', name='maxDepth', doc='Maximum depth of the tree. (>= 0) E.g., depth 0 means 1 leaf node; depth 1 means 1 internal node + 2 leaf nodes. Must be in range [0, 30].'): 15,\n",
       "  Param(parent='RandomForestClassifier_48a45e3dfd95', name='maxBins', doc='Max number of bins for discretizing continuous features.  Must be >=2 and >= number of categories for any categorical feature.'): 64,\n",
       "  Param(parent='RandomForestClassifier_48a45e3dfd95', name='featureSubsetStrategy', doc=\"The number of features to consider for splits at each tree node. Supported options: 'auto' (choose automatically for task: If numTrees == 1, set to 'all'. If numTrees > 1 (forest), set to 'sqrt' for classification and to 'onethird' for regression), 'all' (use all features), 'onethird' (use 1/3 of the features), 'sqrt' (use sqrt(number of features)), 'log2' (use log2(number of features)), 'n' (when n is in the range (0, 1.0], use n * number of features. When n is in the range (1, number of features), use n features). default = 'auto'\"): 'sqrt'},\n",
       " {Param(parent='RandomForestClassifier_48a45e3dfd95', name='numTrees', doc='Number of trees to train (>= 1).'): 20,\n",
       "  Param(parent='RandomForestClassifier_48a45e3dfd95', name='maxDepth', doc='Maximum depth of the tree. (>= 0) E.g., depth 0 means 1 leaf node; depth 1 means 1 internal node + 2 leaf nodes. Must be in range [0, 30].'): 15,\n",
       "  Param(parent='RandomForestClassifier_48a45e3dfd95', name='maxBins', doc='Max number of bins for discretizing continuous features.  Must be >=2 and >= number of categories for any categorical feature.'): 64,\n",
       "  Param(parent='RandomForestClassifier_48a45e3dfd95', name='featureSubsetStrategy', doc=\"The number of features to consider for splits at each tree node. Supported options: 'auto' (choose automatically for task: If numTrees == 1, set to 'all'. If numTrees > 1 (forest), set to 'sqrt' for classification and to 'onethird' for regression), 'all' (use all features), 'onethird' (use 1/3 of the features), 'sqrt' (use sqrt(number of features)), 'log2' (use log2(number of features)), 'n' (when n is in the range (0, 1.0], use n * number of features. When n is in the range (1, number of features), use n features). default = 'auto'\"): 'log2'},\n",
       " {Param(parent='RandomForestClassifier_48a45e3dfd95', name='numTrees', doc='Number of trees to train (>= 1).'): 20,\n",
       "  Param(parent='RandomForestClassifier_48a45e3dfd95', name='maxDepth', doc='Maximum depth of the tree. (>= 0) E.g., depth 0 means 1 leaf node; depth 1 means 1 internal node + 2 leaf nodes. Must be in range [0, 30].'): 15,\n",
       "  Param(parent='RandomForestClassifier_48a45e3dfd95', name='maxBins', doc='Max number of bins for discretizing continuous features.  Must be >=2 and >= number of categories for any categorical feature.'): 128,\n",
       "  Param(parent='RandomForestClassifier_48a45e3dfd95', name='featureSubsetStrategy', doc=\"The number of features to consider for splits at each tree node. Supported options: 'auto' (choose automatically for task: If numTrees == 1, set to 'all'. If numTrees > 1 (forest), set to 'sqrt' for classification and to 'onethird' for regression), 'all' (use all features), 'onethird' (use 1/3 of the features), 'sqrt' (use sqrt(number of features)), 'log2' (use log2(number of features)), 'n' (when n is in the range (0, 1.0], use n * number of features. When n is in the range (1, number of features), use n features). default = 'auto'\"): 'auto'},\n",
       " {Param(parent='RandomForestClassifier_48a45e3dfd95', name='numTrees', doc='Number of trees to train (>= 1).'): 20,\n",
       "  Param(parent='RandomForestClassifier_48a45e3dfd95', name='maxDepth', doc='Maximum depth of the tree. (>= 0) E.g., depth 0 means 1 leaf node; depth 1 means 1 internal node + 2 leaf nodes. Must be in range [0, 30].'): 15,\n",
       "  Param(parent='RandomForestClassifier_48a45e3dfd95', name='maxBins', doc='Max number of bins for discretizing continuous features.  Must be >=2 and >= number of categories for any categorical feature.'): 128,\n",
       "  Param(parent='RandomForestClassifier_48a45e3dfd95', name='featureSubsetStrategy', doc=\"The number of features to consider for splits at each tree node. Supported options: 'auto' (choose automatically for task: If numTrees == 1, set to 'all'. If numTrees > 1 (forest), set to 'sqrt' for classification and to 'onethird' for regression), 'all' (use all features), 'onethird' (use 1/3 of the features), 'sqrt' (use sqrt(number of features)), 'log2' (use log2(number of features)), 'n' (when n is in the range (0, 1.0], use n * number of features. When n is in the range (1, number of features), use n features). default = 'auto'\"): 'sqrt'},\n",
       " {Param(parent='RandomForestClassifier_48a45e3dfd95', name='numTrees', doc='Number of trees to train (>= 1).'): 20,\n",
       "  Param(parent='RandomForestClassifier_48a45e3dfd95', name='maxDepth', doc='Maximum depth of the tree. (>= 0) E.g., depth 0 means 1 leaf node; depth 1 means 1 internal node + 2 leaf nodes. Must be in range [0, 30].'): 15,\n",
       "  Param(parent='RandomForestClassifier_48a45e3dfd95', name='maxBins', doc='Max number of bins for discretizing continuous features.  Must be >=2 and >= number of categories for any categorical feature.'): 128,\n",
       "  Param(parent='RandomForestClassifier_48a45e3dfd95', name='featureSubsetStrategy', doc=\"The number of features to consider for splits at each tree node. Supported options: 'auto' (choose automatically for task: If numTrees == 1, set to 'all'. If numTrees > 1 (forest), set to 'sqrt' for classification and to 'onethird' for regression), 'all' (use all features), 'onethird' (use 1/3 of the features), 'sqrt' (use sqrt(number of features)), 'log2' (use log2(number of features)), 'n' (when n is in the range (0, 1.0], use n * number of features. When n is in the range (1, number of features), use n features). default = 'auto'\"): 'log2'},\n",
       " {Param(parent='RandomForestClassifier_48a45e3dfd95', name='numTrees', doc='Number of trees to train (>= 1).'): 30,\n",
       "  Param(parent='RandomForestClassifier_48a45e3dfd95', name='maxDepth', doc='Maximum depth of the tree. (>= 0) E.g., depth 0 means 1 leaf node; depth 1 means 1 internal node + 2 leaf nodes. Must be in range [0, 30].'): 5,\n",
       "  Param(parent='RandomForestClassifier_48a45e3dfd95', name='maxBins', doc='Max number of bins for discretizing continuous features.  Must be >=2 and >= number of categories for any categorical feature.'): 32,\n",
       "  Param(parent='RandomForestClassifier_48a45e3dfd95', name='featureSubsetStrategy', doc=\"The number of features to consider for splits at each tree node. Supported options: 'auto' (choose automatically for task: If numTrees == 1, set to 'all'. If numTrees > 1 (forest), set to 'sqrt' for classification and to 'onethird' for regression), 'all' (use all features), 'onethird' (use 1/3 of the features), 'sqrt' (use sqrt(number of features)), 'log2' (use log2(number of features)), 'n' (when n is in the range (0, 1.0], use n * number of features. When n is in the range (1, number of features), use n features). default = 'auto'\"): 'auto'},\n",
       " {Param(parent='RandomForestClassifier_48a45e3dfd95', name='numTrees', doc='Number of trees to train (>= 1).'): 30,\n",
       "  Param(parent='RandomForestClassifier_48a45e3dfd95', name='maxDepth', doc='Maximum depth of the tree. (>= 0) E.g., depth 0 means 1 leaf node; depth 1 means 1 internal node + 2 leaf nodes. Must be in range [0, 30].'): 5,\n",
       "  Param(parent='RandomForestClassifier_48a45e3dfd95', name='maxBins', doc='Max number of bins for discretizing continuous features.  Must be >=2 and >= number of categories for any categorical feature.'): 32,\n",
       "  Param(parent='RandomForestClassifier_48a45e3dfd95', name='featureSubsetStrategy', doc=\"The number of features to consider for splits at each tree node. Supported options: 'auto' (choose automatically for task: If numTrees == 1, set to 'all'. If numTrees > 1 (forest), set to 'sqrt' for classification and to 'onethird' for regression), 'all' (use all features), 'onethird' (use 1/3 of the features), 'sqrt' (use sqrt(number of features)), 'log2' (use log2(number of features)), 'n' (when n is in the range (0, 1.0], use n * number of features. When n is in the range (1, number of features), use n features). default = 'auto'\"): 'sqrt'},\n",
       " {Param(parent='RandomForestClassifier_48a45e3dfd95', name='numTrees', doc='Number of trees to train (>= 1).'): 30,\n",
       "  Param(parent='RandomForestClassifier_48a45e3dfd95', name='maxDepth', doc='Maximum depth of the tree. (>= 0) E.g., depth 0 means 1 leaf node; depth 1 means 1 internal node + 2 leaf nodes. Must be in range [0, 30].'): 5,\n",
       "  Param(parent='RandomForestClassifier_48a45e3dfd95', name='maxBins', doc='Max number of bins for discretizing continuous features.  Must be >=2 and >= number of categories for any categorical feature.'): 32,\n",
       "  Param(parent='RandomForestClassifier_48a45e3dfd95', name='featureSubsetStrategy', doc=\"The number of features to consider for splits at each tree node. Supported options: 'auto' (choose automatically for task: If numTrees == 1, set to 'all'. If numTrees > 1 (forest), set to 'sqrt' for classification and to 'onethird' for regression), 'all' (use all features), 'onethird' (use 1/3 of the features), 'sqrt' (use sqrt(number of features)), 'log2' (use log2(number of features)), 'n' (when n is in the range (0, 1.0], use n * number of features. When n is in the range (1, number of features), use n features). default = 'auto'\"): 'log2'},\n",
       " {Param(parent='RandomForestClassifier_48a45e3dfd95', name='numTrees', doc='Number of trees to train (>= 1).'): 30,\n",
       "  Param(parent='RandomForestClassifier_48a45e3dfd95', name='maxDepth', doc='Maximum depth of the tree. (>= 0) E.g., depth 0 means 1 leaf node; depth 1 means 1 internal node + 2 leaf nodes. Must be in range [0, 30].'): 5,\n",
       "  Param(parent='RandomForestClassifier_48a45e3dfd95', name='maxBins', doc='Max number of bins for discretizing continuous features.  Must be >=2 and >= number of categories for any categorical feature.'): 64,\n",
       "  Param(parent='RandomForestClassifier_48a45e3dfd95', name='featureSubsetStrategy', doc=\"The number of features to consider for splits at each tree node. Supported options: 'auto' (choose automatically for task: If numTrees == 1, set to 'all'. If numTrees > 1 (forest), set to 'sqrt' for classification and to 'onethird' for regression), 'all' (use all features), 'onethird' (use 1/3 of the features), 'sqrt' (use sqrt(number of features)), 'log2' (use log2(number of features)), 'n' (when n is in the range (0, 1.0], use n * number of features. When n is in the range (1, number of features), use n features). default = 'auto'\"): 'auto'},\n",
       " {Param(parent='RandomForestClassifier_48a45e3dfd95', name='numTrees', doc='Number of trees to train (>= 1).'): 30,\n",
       "  Param(parent='RandomForestClassifier_48a45e3dfd95', name='maxDepth', doc='Maximum depth of the tree. (>= 0) E.g., depth 0 means 1 leaf node; depth 1 means 1 internal node + 2 leaf nodes. Must be in range [0, 30].'): 5,\n",
       "  Param(parent='RandomForestClassifier_48a45e3dfd95', name='maxBins', doc='Max number of bins for discretizing continuous features.  Must be >=2 and >= number of categories for any categorical feature.'): 64,\n",
       "  Param(parent='RandomForestClassifier_48a45e3dfd95', name='featureSubsetStrategy', doc=\"The number of features to consider for splits at each tree node. Supported options: 'auto' (choose automatically for task: If numTrees == 1, set to 'all'. If numTrees > 1 (forest), set to 'sqrt' for classification and to 'onethird' for regression), 'all' (use all features), 'onethird' (use 1/3 of the features), 'sqrt' (use sqrt(number of features)), 'log2' (use log2(number of features)), 'n' (when n is in the range (0, 1.0], use n * number of features. When n is in the range (1, number of features), use n features). default = 'auto'\"): 'sqrt'},\n",
       " {Param(parent='RandomForestClassifier_48a45e3dfd95', name='numTrees', doc='Number of trees to train (>= 1).'): 30,\n",
       "  Param(parent='RandomForestClassifier_48a45e3dfd95', name='maxDepth', doc='Maximum depth of the tree. (>= 0) E.g., depth 0 means 1 leaf node; depth 1 means 1 internal node + 2 leaf nodes. Must be in range [0, 30].'): 5,\n",
       "  Param(parent='RandomForestClassifier_48a45e3dfd95', name='maxBins', doc='Max number of bins for discretizing continuous features.  Must be >=2 and >= number of categories for any categorical feature.'): 64,\n",
       "  Param(parent='RandomForestClassifier_48a45e3dfd95', name='featureSubsetStrategy', doc=\"The number of features to consider for splits at each tree node. Supported options: 'auto' (choose automatically for task: If numTrees == 1, set to 'all'. If numTrees > 1 (forest), set to 'sqrt' for classification and to 'onethird' for regression), 'all' (use all features), 'onethird' (use 1/3 of the features), 'sqrt' (use sqrt(number of features)), 'log2' (use log2(number of features)), 'n' (when n is in the range (0, 1.0], use n * number of features. When n is in the range (1, number of features), use n features). default = 'auto'\"): 'log2'},\n",
       " {Param(parent='RandomForestClassifier_48a45e3dfd95', name='numTrees', doc='Number of trees to train (>= 1).'): 30,\n",
       "  Param(parent='RandomForestClassifier_48a45e3dfd95', name='maxDepth', doc='Maximum depth of the tree. (>= 0) E.g., depth 0 means 1 leaf node; depth 1 means 1 internal node + 2 leaf nodes. Must be in range [0, 30].'): 5,\n",
       "  Param(parent='RandomForestClassifier_48a45e3dfd95', name='maxBins', doc='Max number of bins for discretizing continuous features.  Must be >=2 and >= number of categories for any categorical feature.'): 128,\n",
       "  Param(parent='RandomForestClassifier_48a45e3dfd95', name='featureSubsetStrategy', doc=\"The number of features to consider for splits at each tree node. Supported options: 'auto' (choose automatically for task: If numTrees == 1, set to 'all'. If numTrees > 1 (forest), set to 'sqrt' for classification and to 'onethird' for regression), 'all' (use all features), 'onethird' (use 1/3 of the features), 'sqrt' (use sqrt(number of features)), 'log2' (use log2(number of features)), 'n' (when n is in the range (0, 1.0], use n * number of features. When n is in the range (1, number of features), use n features). default = 'auto'\"): 'auto'},\n",
       " {Param(parent='RandomForestClassifier_48a45e3dfd95', name='numTrees', doc='Number of trees to train (>= 1).'): 30,\n",
       "  Param(parent='RandomForestClassifier_48a45e3dfd95', name='maxDepth', doc='Maximum depth of the tree. (>= 0) E.g., depth 0 means 1 leaf node; depth 1 means 1 internal node + 2 leaf nodes. Must be in range [0, 30].'): 5,\n",
       "  Param(parent='RandomForestClassifier_48a45e3dfd95', name='maxBins', doc='Max number of bins for discretizing continuous features.  Must be >=2 and >= number of categories for any categorical feature.'): 128,\n",
       "  Param(parent='RandomForestClassifier_48a45e3dfd95', name='featureSubsetStrategy', doc=\"The number of features to consider for splits at each tree node. Supported options: 'auto' (choose automatically for task: If numTrees == 1, set to 'all'. If numTrees > 1 (forest), set to 'sqrt' for classification and to 'onethird' for regression), 'all' (use all features), 'onethird' (use 1/3 of the features), 'sqrt' (use sqrt(number of features)), 'log2' (use log2(number of features)), 'n' (when n is in the range (0, 1.0], use n * number of features. When n is in the range (1, number of features), use n features). default = 'auto'\"): 'sqrt'},\n",
       " {Param(parent='RandomForestClassifier_48a45e3dfd95', name='numTrees', doc='Number of trees to train (>= 1).'): 30,\n",
       "  Param(parent='RandomForestClassifier_48a45e3dfd95', name='maxDepth', doc='Maximum depth of the tree. (>= 0) E.g., depth 0 means 1 leaf node; depth 1 means 1 internal node + 2 leaf nodes. Must be in range [0, 30].'): 5,\n",
       "  Param(parent='RandomForestClassifier_48a45e3dfd95', name='maxBins', doc='Max number of bins for discretizing continuous features.  Must be >=2 and >= number of categories for any categorical feature.'): 128,\n",
       "  Param(parent='RandomForestClassifier_48a45e3dfd95', name='featureSubsetStrategy', doc=\"The number of features to consider for splits at each tree node. Supported options: 'auto' (choose automatically for task: If numTrees == 1, set to 'all'. If numTrees > 1 (forest), set to 'sqrt' for classification and to 'onethird' for regression), 'all' (use all features), 'onethird' (use 1/3 of the features), 'sqrt' (use sqrt(number of features)), 'log2' (use log2(number of features)), 'n' (when n is in the range (0, 1.0], use n * number of features. When n is in the range (1, number of features), use n features). default = 'auto'\"): 'log2'},\n",
       " {Param(parent='RandomForestClassifier_48a45e3dfd95', name='numTrees', doc='Number of trees to train (>= 1).'): 30,\n",
       "  Param(parent='RandomForestClassifier_48a45e3dfd95', name='maxDepth', doc='Maximum depth of the tree. (>= 0) E.g., depth 0 means 1 leaf node; depth 1 means 1 internal node + 2 leaf nodes. Must be in range [0, 30].'): 10,\n",
       "  Param(parent='RandomForestClassifier_48a45e3dfd95', name='maxBins', doc='Max number of bins for discretizing continuous features.  Must be >=2 and >= number of categories for any categorical feature.'): 32,\n",
       "  Param(parent='RandomForestClassifier_48a45e3dfd95', name='featureSubsetStrategy', doc=\"The number of features to consider for splits at each tree node. Supported options: 'auto' (choose automatically for task: If numTrees == 1, set to 'all'. If numTrees > 1 (forest), set to 'sqrt' for classification and to 'onethird' for regression), 'all' (use all features), 'onethird' (use 1/3 of the features), 'sqrt' (use sqrt(number of features)), 'log2' (use log2(number of features)), 'n' (when n is in the range (0, 1.0], use n * number of features. When n is in the range (1, number of features), use n features). default = 'auto'\"): 'auto'},\n",
       " {Param(parent='RandomForestClassifier_48a45e3dfd95', name='numTrees', doc='Number of trees to train (>= 1).'): 30,\n",
       "  Param(parent='RandomForestClassifier_48a45e3dfd95', name='maxDepth', doc='Maximum depth of the tree. (>= 0) E.g., depth 0 means 1 leaf node; depth 1 means 1 internal node + 2 leaf nodes. Must be in range [0, 30].'): 10,\n",
       "  Param(parent='RandomForestClassifier_48a45e3dfd95', name='maxBins', doc='Max number of bins for discretizing continuous features.  Must be >=2 and >= number of categories for any categorical feature.'): 32,\n",
       "  Param(parent='RandomForestClassifier_48a45e3dfd95', name='featureSubsetStrategy', doc=\"The number of features to consider for splits at each tree node. Supported options: 'auto' (choose automatically for task: If numTrees == 1, set to 'all'. If numTrees > 1 (forest), set to 'sqrt' for classification and to 'onethird' for regression), 'all' (use all features), 'onethird' (use 1/3 of the features), 'sqrt' (use sqrt(number of features)), 'log2' (use log2(number of features)), 'n' (when n is in the range (0, 1.0], use n * number of features. When n is in the range (1, number of features), use n features). default = 'auto'\"): 'sqrt'},\n",
       " {Param(parent='RandomForestClassifier_48a45e3dfd95', name='numTrees', doc='Number of trees to train (>= 1).'): 30,\n",
       "  Param(parent='RandomForestClassifier_48a45e3dfd95', name='maxDepth', doc='Maximum depth of the tree. (>= 0) E.g., depth 0 means 1 leaf node; depth 1 means 1 internal node + 2 leaf nodes. Must be in range [0, 30].'): 10,\n",
       "  Param(parent='RandomForestClassifier_48a45e3dfd95', name='maxBins', doc='Max number of bins for discretizing continuous features.  Must be >=2 and >= number of categories for any categorical feature.'): 32,\n",
       "  Param(parent='RandomForestClassifier_48a45e3dfd95', name='featureSubsetStrategy', doc=\"The number of features to consider for splits at each tree node. Supported options: 'auto' (choose automatically for task: If numTrees == 1, set to 'all'. If numTrees > 1 (forest), set to 'sqrt' for classification and to 'onethird' for regression), 'all' (use all features), 'onethird' (use 1/3 of the features), 'sqrt' (use sqrt(number of features)), 'log2' (use log2(number of features)), 'n' (when n is in the range (0, 1.0], use n * number of features. When n is in the range (1, number of features), use n features). default = 'auto'\"): 'log2'},\n",
       " {Param(parent='RandomForestClassifier_48a45e3dfd95', name='numTrees', doc='Number of trees to train (>= 1).'): 30,\n",
       "  Param(parent='RandomForestClassifier_48a45e3dfd95', name='maxDepth', doc='Maximum depth of the tree. (>= 0) E.g., depth 0 means 1 leaf node; depth 1 means 1 internal node + 2 leaf nodes. Must be in range [0, 30].'): 10,\n",
       "  Param(parent='RandomForestClassifier_48a45e3dfd95', name='maxBins', doc='Max number of bins for discretizing continuous features.  Must be >=2 and >= number of categories for any categorical feature.'): 64,\n",
       "  Param(parent='RandomForestClassifier_48a45e3dfd95', name='featureSubsetStrategy', doc=\"The number of features to consider for splits at each tree node. Supported options: 'auto' (choose automatically for task: If numTrees == 1, set to 'all'. If numTrees > 1 (forest), set to 'sqrt' for classification and to 'onethird' for regression), 'all' (use all features), 'onethird' (use 1/3 of the features), 'sqrt' (use sqrt(number of features)), 'log2' (use log2(number of features)), 'n' (when n is in the range (0, 1.0], use n * number of features. When n is in the range (1, number of features), use n features). default = 'auto'\"): 'auto'},\n",
       " {Param(parent='RandomForestClassifier_48a45e3dfd95', name='numTrees', doc='Number of trees to train (>= 1).'): 30,\n",
       "  Param(parent='RandomForestClassifier_48a45e3dfd95', name='maxDepth', doc='Maximum depth of the tree. (>= 0) E.g., depth 0 means 1 leaf node; depth 1 means 1 internal node + 2 leaf nodes. Must be in range [0, 30].'): 10,\n",
       "  Param(parent='RandomForestClassifier_48a45e3dfd95', name='maxBins', doc='Max number of bins for discretizing continuous features.  Must be >=2 and >= number of categories for any categorical feature.'): 64,\n",
       "  Param(parent='RandomForestClassifier_48a45e3dfd95', name='featureSubsetStrategy', doc=\"The number of features to consider for splits at each tree node. Supported options: 'auto' (choose automatically for task: If numTrees == 1, set to 'all'. If numTrees > 1 (forest), set to 'sqrt' for classification and to 'onethird' for regression), 'all' (use all features), 'onethird' (use 1/3 of the features), 'sqrt' (use sqrt(number of features)), 'log2' (use log2(number of features)), 'n' (when n is in the range (0, 1.0], use n * number of features. When n is in the range (1, number of features), use n features). default = 'auto'\"): 'sqrt'},\n",
       " {Param(parent='RandomForestClassifier_48a45e3dfd95', name='numTrees', doc='Number of trees to train (>= 1).'): 30,\n",
       "  Param(parent='RandomForestClassifier_48a45e3dfd95', name='maxDepth', doc='Maximum depth of the tree. (>= 0) E.g., depth 0 means 1 leaf node; depth 1 means 1 internal node + 2 leaf nodes. Must be in range [0, 30].'): 10,\n",
       "  Param(parent='RandomForestClassifier_48a45e3dfd95', name='maxBins', doc='Max number of bins for discretizing continuous features.  Must be >=2 and >= number of categories for any categorical feature.'): 64,\n",
       "  Param(parent='RandomForestClassifier_48a45e3dfd95', name='featureSubsetStrategy', doc=\"The number of features to consider for splits at each tree node. Supported options: 'auto' (choose automatically for task: If numTrees == 1, set to 'all'. If numTrees > 1 (forest), set to 'sqrt' for classification and to 'onethird' for regression), 'all' (use all features), 'onethird' (use 1/3 of the features), 'sqrt' (use sqrt(number of features)), 'log2' (use log2(number of features)), 'n' (when n is in the range (0, 1.0], use n * number of features. When n is in the range (1, number of features), use n features). default = 'auto'\"): 'log2'},\n",
       " {Param(parent='RandomForestClassifier_48a45e3dfd95', name='numTrees', doc='Number of trees to train (>= 1).'): 30,\n",
       "  Param(parent='RandomForestClassifier_48a45e3dfd95', name='maxDepth', doc='Maximum depth of the tree. (>= 0) E.g., depth 0 means 1 leaf node; depth 1 means 1 internal node + 2 leaf nodes. Must be in range [0, 30].'): 10,\n",
       "  Param(parent='RandomForestClassifier_48a45e3dfd95', name='maxBins', doc='Max number of bins for discretizing continuous features.  Must be >=2 and >= number of categories for any categorical feature.'): 128,\n",
       "  Param(parent='RandomForestClassifier_48a45e3dfd95', name='featureSubsetStrategy', doc=\"The number of features to consider for splits at each tree node. Supported options: 'auto' (choose automatically for task: If numTrees == 1, set to 'all'. If numTrees > 1 (forest), set to 'sqrt' for classification and to 'onethird' for regression), 'all' (use all features), 'onethird' (use 1/3 of the features), 'sqrt' (use sqrt(number of features)), 'log2' (use log2(number of features)), 'n' (when n is in the range (0, 1.0], use n * number of features. When n is in the range (1, number of features), use n features). default = 'auto'\"): 'auto'},\n",
       " {Param(parent='RandomForestClassifier_48a45e3dfd95', name='numTrees', doc='Number of trees to train (>= 1).'): 30,\n",
       "  Param(parent='RandomForestClassifier_48a45e3dfd95', name='maxDepth', doc='Maximum depth of the tree. (>= 0) E.g., depth 0 means 1 leaf node; depth 1 means 1 internal node + 2 leaf nodes. Must be in range [0, 30].'): 10,\n",
       "  Param(parent='RandomForestClassifier_48a45e3dfd95', name='maxBins', doc='Max number of bins for discretizing continuous features.  Must be >=2 and >= number of categories for any categorical feature.'): 128,\n",
       "  Param(parent='RandomForestClassifier_48a45e3dfd95', name='featureSubsetStrategy', doc=\"The number of features to consider for splits at each tree node. Supported options: 'auto' (choose automatically for task: If numTrees == 1, set to 'all'. If numTrees > 1 (forest), set to 'sqrt' for classification and to 'onethird' for regression), 'all' (use all features), 'onethird' (use 1/3 of the features), 'sqrt' (use sqrt(number of features)), 'log2' (use log2(number of features)), 'n' (when n is in the range (0, 1.0], use n * number of features. When n is in the range (1, number of features), use n features). default = 'auto'\"): 'sqrt'},\n",
       " {Param(parent='RandomForestClassifier_48a45e3dfd95', name='numTrees', doc='Number of trees to train (>= 1).'): 30,\n",
       "  Param(parent='RandomForestClassifier_48a45e3dfd95', name='maxDepth', doc='Maximum depth of the tree. (>= 0) E.g., depth 0 means 1 leaf node; depth 1 means 1 internal node + 2 leaf nodes. Must be in range [0, 30].'): 10,\n",
       "  Param(parent='RandomForestClassifier_48a45e3dfd95', name='maxBins', doc='Max number of bins for discretizing continuous features.  Must be >=2 and >= number of categories for any categorical feature.'): 128,\n",
       "  Param(parent='RandomForestClassifier_48a45e3dfd95', name='featureSubsetStrategy', doc=\"The number of features to consider for splits at each tree node. Supported options: 'auto' (choose automatically for task: If numTrees == 1, set to 'all'. If numTrees > 1 (forest), set to 'sqrt' for classification and to 'onethird' for regression), 'all' (use all features), 'onethird' (use 1/3 of the features), 'sqrt' (use sqrt(number of features)), 'log2' (use log2(number of features)), 'n' (when n is in the range (0, 1.0], use n * number of features. When n is in the range (1, number of features), use n features). default = 'auto'\"): 'log2'},\n",
       " {Param(parent='RandomForestClassifier_48a45e3dfd95', name='numTrees', doc='Number of trees to train (>= 1).'): 30,\n",
       "  Param(parent='RandomForestClassifier_48a45e3dfd95', name='maxDepth', doc='Maximum depth of the tree. (>= 0) E.g., depth 0 means 1 leaf node; depth 1 means 1 internal node + 2 leaf nodes. Must be in range [0, 30].'): 15,\n",
       "  Param(parent='RandomForestClassifier_48a45e3dfd95', name='maxBins', doc='Max number of bins for discretizing continuous features.  Must be >=2 and >= number of categories for any categorical feature.'): 32,\n",
       "  Param(parent='RandomForestClassifier_48a45e3dfd95', name='featureSubsetStrategy', doc=\"The number of features to consider for splits at each tree node. Supported options: 'auto' (choose automatically for task: If numTrees == 1, set to 'all'. If numTrees > 1 (forest), set to 'sqrt' for classification and to 'onethird' for regression), 'all' (use all features), 'onethird' (use 1/3 of the features), 'sqrt' (use sqrt(number of features)), 'log2' (use log2(number of features)), 'n' (when n is in the range (0, 1.0], use n * number of features. When n is in the range (1, number of features), use n features). default = 'auto'\"): 'auto'},\n",
       " {Param(parent='RandomForestClassifier_48a45e3dfd95', name='numTrees', doc='Number of trees to train (>= 1).'): 30,\n",
       "  Param(parent='RandomForestClassifier_48a45e3dfd95', name='maxDepth', doc='Maximum depth of the tree. (>= 0) E.g., depth 0 means 1 leaf node; depth 1 means 1 internal node + 2 leaf nodes. Must be in range [0, 30].'): 15,\n",
       "  Param(parent='RandomForestClassifier_48a45e3dfd95', name='maxBins', doc='Max number of bins for discretizing continuous features.  Must be >=2 and >= number of categories for any categorical feature.'): 32,\n",
       "  Param(parent='RandomForestClassifier_48a45e3dfd95', name='featureSubsetStrategy', doc=\"The number of features to consider for splits at each tree node. Supported options: 'auto' (choose automatically for task: If numTrees == 1, set to 'all'. If numTrees > 1 (forest), set to 'sqrt' for classification and to 'onethird' for regression), 'all' (use all features), 'onethird' (use 1/3 of the features), 'sqrt' (use sqrt(number of features)), 'log2' (use log2(number of features)), 'n' (when n is in the range (0, 1.0], use n * number of features. When n is in the range (1, number of features), use n features). default = 'auto'\"): 'sqrt'},\n",
       " {Param(parent='RandomForestClassifier_48a45e3dfd95', name='numTrees', doc='Number of trees to train (>= 1).'): 30,\n",
       "  Param(parent='RandomForestClassifier_48a45e3dfd95', name='maxDepth', doc='Maximum depth of the tree. (>= 0) E.g., depth 0 means 1 leaf node; depth 1 means 1 internal node + 2 leaf nodes. Must be in range [0, 30].'): 15,\n",
       "  Param(parent='RandomForestClassifier_48a45e3dfd95', name='maxBins', doc='Max number of bins for discretizing continuous features.  Must be >=2 and >= number of categories for any categorical feature.'): 32,\n",
       "  Param(parent='RandomForestClassifier_48a45e3dfd95', name='featureSubsetStrategy', doc=\"The number of features to consider for splits at each tree node. Supported options: 'auto' (choose automatically for task: If numTrees == 1, set to 'all'. If numTrees > 1 (forest), set to 'sqrt' for classification and to 'onethird' for regression), 'all' (use all features), 'onethird' (use 1/3 of the features), 'sqrt' (use sqrt(number of features)), 'log2' (use log2(number of features)), 'n' (when n is in the range (0, 1.0], use n * number of features. When n is in the range (1, number of features), use n features). default = 'auto'\"): 'log2'},\n",
       " {Param(parent='RandomForestClassifier_48a45e3dfd95', name='numTrees', doc='Number of trees to train (>= 1).'): 30,\n",
       "  Param(parent='RandomForestClassifier_48a45e3dfd95', name='maxDepth', doc='Maximum depth of the tree. (>= 0) E.g., depth 0 means 1 leaf node; depth 1 means 1 internal node + 2 leaf nodes. Must be in range [0, 30].'): 15,\n",
       "  Param(parent='RandomForestClassifier_48a45e3dfd95', name='maxBins', doc='Max number of bins for discretizing continuous features.  Must be >=2 and >= number of categories for any categorical feature.'): 64,\n",
       "  Param(parent='RandomForestClassifier_48a45e3dfd95', name='featureSubsetStrategy', doc=\"The number of features to consider for splits at each tree node. Supported options: 'auto' (choose automatically for task: If numTrees == 1, set to 'all'. If numTrees > 1 (forest), set to 'sqrt' for classification and to 'onethird' for regression), 'all' (use all features), 'onethird' (use 1/3 of the features), 'sqrt' (use sqrt(number of features)), 'log2' (use log2(number of features)), 'n' (when n is in the range (0, 1.0], use n * number of features. When n is in the range (1, number of features), use n features). default = 'auto'\"): 'auto'},\n",
       " {Param(parent='RandomForestClassifier_48a45e3dfd95', name='numTrees', doc='Number of trees to train (>= 1).'): 30,\n",
       "  Param(parent='RandomForestClassifier_48a45e3dfd95', name='maxDepth', doc='Maximum depth of the tree. (>= 0) E.g., depth 0 means 1 leaf node; depth 1 means 1 internal node + 2 leaf nodes. Must be in range [0, 30].'): 15,\n",
       "  Param(parent='RandomForestClassifier_48a45e3dfd95', name='maxBins', doc='Max number of bins for discretizing continuous features.  Must be >=2 and >= number of categories for any categorical feature.'): 64,\n",
       "  Param(parent='RandomForestClassifier_48a45e3dfd95', name='featureSubsetStrategy', doc=\"The number of features to consider for splits at each tree node. Supported options: 'auto' (choose automatically for task: If numTrees == 1, set to 'all'. If numTrees > 1 (forest), set to 'sqrt' for classification and to 'onethird' for regression), 'all' (use all features), 'onethird' (use 1/3 of the features), 'sqrt' (use sqrt(number of features)), 'log2' (use log2(number of features)), 'n' (when n is in the range (0, 1.0], use n * number of features. When n is in the range (1, number of features), use n features). default = 'auto'\"): 'sqrt'},\n",
       " {Param(parent='RandomForestClassifier_48a45e3dfd95', name='numTrees', doc='Number of trees to train (>= 1).'): 30,\n",
       "  Param(parent='RandomForestClassifier_48a45e3dfd95', name='maxDepth', doc='Maximum depth of the tree. (>= 0) E.g., depth 0 means 1 leaf node; depth 1 means 1 internal node + 2 leaf nodes. Must be in range [0, 30].'): 15,\n",
       "  Param(parent='RandomForestClassifier_48a45e3dfd95', name='maxBins', doc='Max number of bins for discretizing continuous features.  Must be >=2 and >= number of categories for any categorical feature.'): 64,\n",
       "  Param(parent='RandomForestClassifier_48a45e3dfd95', name='featureSubsetStrategy', doc=\"The number of features to consider for splits at each tree node. Supported options: 'auto' (choose automatically for task: If numTrees == 1, set to 'all'. If numTrees > 1 (forest), set to 'sqrt' for classification and to 'onethird' for regression), 'all' (use all features), 'onethird' (use 1/3 of the features), 'sqrt' (use sqrt(number of features)), 'log2' (use log2(number of features)), 'n' (when n is in the range (0, 1.0], use n * number of features. When n is in the range (1, number of features), use n features). default = 'auto'\"): 'log2'},\n",
       " {Param(parent='RandomForestClassifier_48a45e3dfd95', name='numTrees', doc='Number of trees to train (>= 1).'): 30,\n",
       "  Param(parent='RandomForestClassifier_48a45e3dfd95', name='maxDepth', doc='Maximum depth of the tree. (>= 0) E.g., depth 0 means 1 leaf node; depth 1 means 1 internal node + 2 leaf nodes. Must be in range [0, 30].'): 15,\n",
       "  Param(parent='RandomForestClassifier_48a45e3dfd95', name='maxBins', doc='Max number of bins for discretizing continuous features.  Must be >=2 and >= number of categories for any categorical feature.'): 128,\n",
       "  Param(parent='RandomForestClassifier_48a45e3dfd95', name='featureSubsetStrategy', doc=\"The number of features to consider for splits at each tree node. Supported options: 'auto' (choose automatically for task: If numTrees == 1, set to 'all'. If numTrees > 1 (forest), set to 'sqrt' for classification and to 'onethird' for regression), 'all' (use all features), 'onethird' (use 1/3 of the features), 'sqrt' (use sqrt(number of features)), 'log2' (use log2(number of features)), 'n' (when n is in the range (0, 1.0], use n * number of features. When n is in the range (1, number of features), use n features). default = 'auto'\"): 'auto'},\n",
       " {Param(parent='RandomForestClassifier_48a45e3dfd95', name='numTrees', doc='Number of trees to train (>= 1).'): 30,\n",
       "  Param(parent='RandomForestClassifier_48a45e3dfd95', name='maxDepth', doc='Maximum depth of the tree. (>= 0) E.g., depth 0 means 1 leaf node; depth 1 means 1 internal node + 2 leaf nodes. Must be in range [0, 30].'): 15,\n",
       "  Param(parent='RandomForestClassifier_48a45e3dfd95', name='maxBins', doc='Max number of bins for discretizing continuous features.  Must be >=2 and >= number of categories for any categorical feature.'): 128,\n",
       "  Param(parent='RandomForestClassifier_48a45e3dfd95', name='featureSubsetStrategy', doc=\"The number of features to consider for splits at each tree node. Supported options: 'auto' (choose automatically for task: If numTrees == 1, set to 'all'. If numTrees > 1 (forest), set to 'sqrt' for classification and to 'onethird' for regression), 'all' (use all features), 'onethird' (use 1/3 of the features), 'sqrt' (use sqrt(number of features)), 'log2' (use log2(number of features)), 'n' (when n is in the range (0, 1.0], use n * number of features. When n is in the range (1, number of features), use n features). default = 'auto'\"): 'sqrt'},\n",
       " {Param(parent='RandomForestClassifier_48a45e3dfd95', name='numTrees', doc='Number of trees to train (>= 1).'): 30,\n",
       "  Param(parent='RandomForestClassifier_48a45e3dfd95', name='maxDepth', doc='Maximum depth of the tree. (>= 0) E.g., depth 0 means 1 leaf node; depth 1 means 1 internal node + 2 leaf nodes. Must be in range [0, 30].'): 15,\n",
       "  Param(parent='RandomForestClassifier_48a45e3dfd95', name='maxBins', doc='Max number of bins for discretizing continuous features.  Must be >=2 and >= number of categories for any categorical feature.'): 128,\n",
       "  Param(parent='RandomForestClassifier_48a45e3dfd95', name='featureSubsetStrategy', doc=\"The number of features to consider for splits at each tree node. Supported options: 'auto' (choose automatically for task: If numTrees == 1, set to 'all'. If numTrees > 1 (forest), set to 'sqrt' for classification and to 'onethird' for regression), 'all' (use all features), 'onethird' (use 1/3 of the features), 'sqrt' (use sqrt(number of features)), 'log2' (use log2(number of features)), 'n' (when n is in the range (0, 1.0], use n * number of features. When n is in the range (1, number of features), use n features). default = 'auto'\"): 'log2'}]"
      ]
     },
     "execution_count": 20,
     "metadata": {},
     "output_type": "execute_result"
    }
   ],
   "source": [
    "\n",
    "# Create a ParamGridBuilder\n",
    "paramGrid = (ParamGridBuilder()\n",
    "             .addGrid(randomforest.numTrees, [10, 20, 30])  # Number of trees\n",
    "             .addGrid(randomforest.maxDepth, [5, 10, 15])   # Maximum depth of the tree\n",
    "             .addGrid(randomforest.maxBins, [32, 64, 128])  # Number of bins used when discretizing continuous features\n",
    "             .addGrid(randomforest.featureSubsetStrategy, ['auto', 'sqrt', 'log2'])  # Strategy to select a subset of features\n",
    "             .build())\n",
    "\n",
    "# paramGrid is now a list of ParamMap, each ParamMap representing a different combination of hyperparameters\n",
    "paramGrid"
   ]
  },
  {
   "cell_type": "code",
   "execution_count": 21,
   "metadata": {},
   "outputs": [],
   "source": [
    "from pyspark.ml.tuning import CrossValidator\n",
    "from pyspark.ml.evaluation import MulticlassClassificationEvaluator\n",
    "\n",
    "# Define an evaluator\n",
    "evaluator = MulticlassClassificationEvaluator(labelCol=\"Churn\", predictionCol=\"prediction\", metricName=\"accuracy\")\n",
    "\n",
    "# Create the CrossValidator\n",
    "crossval = CrossValidator(estimator=randomforest,\n",
    "                          estimatorParamMaps=paramGrid,\n",
    "                          evaluator=evaluator,\n",
    "                          numFolds=5)  # 5-fold "
   ]
  },
  {
   "cell_type": "code",
   "execution_count": 22,
   "metadata": {},
   "outputs": [],
   "source": [
    "# Assuming `trainingData` is your DataFrame with labeled data\n",
    "cvModel = crossval.fit(assembled_df)\n"
   ]
  },
  {
   "cell_type": "code",
   "execution_count": 23,
   "metadata": {},
   "outputs": [],
   "source": [
    "bestModel = cvModel.bestModel"
   ]
  },
  {
   "cell_type": "code",
   "execution_count": null,
   "metadata": {},
   "outputs": [],
   "source": [
    "# Print the best model's parameters\n",
    "print(\"Best numTrees:\", bestModel.getNumTrees)\n",
    "print(\"Best maxDepth:\", bestModel.getMaxDepth)\n",
    "print(\"Best maxBins:\", bestModel.getMaxBins)\n",
    "print(\"Best featureSubsetStrategy:\", bestModel.getFeatureSubsetStrategy)"
   ]
  },
  {
   "cell_type": "code",
   "execution_count": 24,
   "metadata": {},
   "outputs": [],
   "source": [
    "ruta_modelo = \"/home/jovyan/code/churn/e-commerce/modelo\"\n",
    "bestModel.write().overwrite().save(ruta_modelo)\n",
    "#randomforest.save(\"/home/jovyan/code/churn/e-commerce/modelo\")\n",
    "\n",
    "#rf2.getNumTrees()"
   ]
  },
  {
   "cell_type": "code",
   "execution_count": 27,
   "metadata": {},
   "outputs": [],
   "source": [
    "from pyspark.ml.classification import RandomForestClassificationModel"
   ]
  },
  {
   "cell_type": "code",
   "execution_count": 28,
   "metadata": {},
   "outputs": [],
   "source": [
    "rf2 = RandomForestClassificationModel.load(ruta_modelo)"
   ]
  },
  {
   "cell_type": "code",
   "execution_count": 29,
   "metadata": {},
   "outputs": [
    {
     "name": "stdout",
     "output_type": "stream",
     "text": [
      "+-----+--------------------+----------+\n",
      "|Churn|            features|prediction|\n",
      "+-----+--------------------+----------+\n",
      "|    1|(30,[0,2,9,15,16,...|       1.0|\n",
      "|    1|(30,[2,8,9,15,16,...|       1.0|\n",
      "|    1|(30,[1,2,10,15,16...|       1.0|\n",
      "|    1|(30,[0,2,8,11,15,...|       1.0|\n",
      "|    1|(30,[6,8,12,15,16...|       1.0|\n",
      "|    1|(30,[7,8,12,16,18...|       1.0|\n",
      "|    1|(30,[0,3,8,11,15,...|       1.0|\n",
      "|    1|(30,[0,4,8,9,15,1...|       1.0|\n",
      "|    1|(30,[1,2,8,9,15,1...|       1.0|\n",
      "|    1|(30,[0,2,10,16,17...|       1.0|\n",
      "|    1|(30,[0,2,8,9,16,1...|       1.0|\n",
      "|    1|(30,[0,3,11,16,17...|       1.0|\n",
      "|    1|(30,[2,9,16,18,19...|       1.0|\n",
      "|    1|(30,[1,2,8,11,15,...|       1.0|\n",
      "|    1|(30,[3,10,15,16,1...|       1.0|\n",
      "|    0|(30,[0,4,8,11,16,...|       0.0|\n",
      "|    0|(30,[1,4,11,15,16...|       0.0|\n",
      "|    0|(30,[1,6,8,9,16,1...|       0.0|\n",
      "|    0|(30,[0,3,8,9,16,1...|       0.0|\n",
      "|    0|(30,[7,12,16,17,1...|       0.0|\n",
      "+-----+--------------------+----------+\n",
      "only showing top 20 rows\n",
      "\n"
     ]
    }
   ],
   "source": [
    "# Step 6: Make predictions\n",
    "predictions = rf2.transform(assembled_df)\n",
    "\n",
    "# Show predictions\n",
    "predictions.select(\"Churn\", \"features\", \"prediction\").show()\n"
   ]
  },
  {
   "cell_type": "code",
   "execution_count": 32,
   "metadata": {},
   "outputs": [
    {
     "name": "stdout",
     "output_type": "stream",
     "text": [
      "Test Accuracy = 1.0\n",
      "Weighted Precision = 1.0\n",
      "Weighted Recall = 1.0\n",
      "F1 Score = 1.0\n"
     ]
    }
   ],
   "source": [
    "evaluator = MulticlassClassificationEvaluator(\n",
    "    labelCol=\"Churn\", predictionCol=\"prediction\", metricName=\"accuracy\"\n",
    ")\n",
    "\n",
    "accuracy = evaluator.evaluate(predictions)\n",
    "print(f\"Test Accuracy = {accuracy}\")\n",
    "\n",
    "# Show detailed evaluation metrics\n",
    "evaluator.setMetricName(\"weightedPrecision\")\n",
    "precision = evaluator.evaluate(predictions)\n",
    "print(f\"Weighted Precision = {precision}\")\n",
    "\n",
    "evaluator.setMetricName(\"weightedRecall\")\n",
    "recall = evaluator.evaluate(predictions)\n",
    "print(f\"Weighted Recall = {recall}\")\n",
    "\n",
    "evaluator.setMetricName(\"f1\")\n",
    "f1 = evaluator.evaluate(predictions)\n",
    "print(f\"F1 Score = {f1}\")"
   ]
  },
  {
   "cell_type": "code",
   "execution_count": 33,
   "metadata": {},
   "outputs": [],
   "source": [
    "from pyspark.mllib.evaluation import MulticlassMetrics"
   ]
  },
  {
   "cell_type": "code",
   "execution_count": 34,
   "metadata": {},
   "outputs": [
    {
     "name": "stderr",
     "output_type": "stream",
     "text": [
      "/opt/conda/envs/vscode_pyspark/lib/python3.11/site-packages/pyspark/sql/context.py:158: FutureWarning: Deprecated in 3.0.0. Use SparkSession.builder.getOrCreate() instead.\n",
      "  warnings.warn(\n"
     ]
    },
    {
     "name": "stdout",
     "output_type": "stream",
     "text": [
      "Confusion Matrix:\n",
      "[[3143.    0.]\n",
      " [   0.  631.]]\n"
     ]
    }
   ],
   "source": [
    "predictions_and_labels = predictions.select(col(\"prediction\").cast(\"float\"), col(\"Churn\").cast(\"float\"))\n",
    "\n",
    "metrics = MulticlassMetrics(predictions_and_labels.rdd.map(tuple))\n",
    "\n",
    "# Print confusion matrix\n",
    "print(\"Confusion Matrix:\")\n",
    "print(metrics.confusionMatrix().toArray())"
   ]
  },
  {
   "cell_type": "code",
   "execution_count": 35,
   "metadata": {},
   "outputs": [
    {
     "name": "stdout",
     "output_type": "stream",
     "text": [
      "Test RMSE = 1\n"
     ]
    }
   ],
   "source": [
    "rmse = evaluator.evaluate(predictions)\n",
    "print(\"Test RMSE = %g\" % rmse)"
   ]
  },
  {
   "cell_type": "code",
   "execution_count": null,
   "metadata": {},
   "outputs": [],
   "source": [
    "from pyspark.sql.functions import col,isnan,when,count\n",
    "df2 = df.select([count(when(col(c).contains('None') | \\\n",
    "                            col(c).contains('NULL') | \\\n",
    "                            (col(c) == '' ) | \\\n",
    "                            col(c).isNull() | \\\n",
    "                            isnan(c), c \n",
    "                           )).alias(c)\n",
    "                    for c in df.columns])\n",
    "df2.show()"
   ]
  },
  {
   "cell_type": "code",
   "execution_count": null,
   "metadata": {},
   "outputs": [],
   "source": [
    "bestModel.getFeaturesCol()"
   ]
  },
  {
   "cell_type": "markdown",
   "metadata": {},
   "source": [
    "**Otras pruebas**"
   ]
  },
  {
   "cell_type": "code",
   "execution_count": null,
   "metadata": {},
   "outputs": [],
   "source": []
  }
 ],
 "metadata": {
  "kernelspec": {
   "display_name": "vscode_pyspark",
   "language": "python",
   "name": "vscode_pyspark"
  },
  "language_info": {
   "codemirror_mode": {
    "name": "ipython",
    "version": 3
   },
   "file_extension": ".py",
   "mimetype": "text/x-python",
   "name": "python",
   "nbconvert_exporter": "python",
   "pygments_lexer": "ipython3",
   "version": "3.11.9"
  }
 },
 "nbformat": 4,
 "nbformat_minor": 2
}
