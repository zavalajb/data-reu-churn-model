{
 "cells": [
  {
   "cell_type": "code",
   "execution_count": 1,
   "metadata": {},
   "outputs": [],
   "source": [
    "from pyspark.ml import Pipeline\n",
    "from pyspark.ml.classification import DecisionTreeClassifier\n",
    "from pyspark.ml.feature import StringIndexer, VectorIndexer\n",
    "from pyspark.ml.evaluation import MulticlassClassificationEvaluator\n",
    "\n"
   ]
  },
  {
   "cell_type": "code",
   "execution_count": 6,
   "metadata": {},
   "outputs": [],
   "source": [
    "#Libraries and class from StaticModel\n",
    "from pyspark.sql import SparkSession\n",
    "from pyspark.sql.functions import col\n",
    "# import pickle\n",
    "import time\n",
    "\n",
    "#Script Class\n",
    "from PreProcess import *\n",
    "from PostProcess import *"
   ]
  },
  {
   "cell_type": "code",
   "execution_count": 8,
   "metadata": {},
   "outputs": [],
   "source": [
    "from pyspark.sql.types import StructType, StructField, StringType, IntegerType, FloatType"
   ]
  },
  {
   "cell_type": "code",
   "execution_count": 7,
   "metadata": {},
   "outputs": [],
   "source": [
    "spark = SparkSession.builder \\\n",
    "        .appName(\"Churn EDA PySpark\") \\\n",
    "        .config(\"spark.driver.memory\", \"4g\") \\\n",
    "        .config(\"spark.executor.memory\", \"4g\") \\\n",
    "        .getOrCreate()"
   ]
  },
  {
   "cell_type": "code",
   "execution_count": 9,
   "metadata": {},
   "outputs": [],
   "source": [
    "\n",
    "\n",
    "schema = StructType([\n",
    "    StructField(\"CustomerId\", IntegerType(), True),\n",
    "    StructField(\"Churn\", IntegerType(), True),\n",
    "    StructField(\"Tenure\", FloatType(), True),\n",
    "    StructField(\"PreferredLoginDevice\", StringType(), True),\n",
    "    StructField(\"CityTier\", IntegerType(), True),\n",
    "    StructField(\"WarehouseToHome\", FloatType(), True),\n",
    "    StructField(\"PreferredPaymentMode\", StringType(), True),\n",
    "    StructField(\"Gender\", StringType(), True),\n",
    "    StructField(\"HourSpendOnApp\", FloatType(), True),\n",
    "    StructField(\"NumberOfDeviceRegistered\", IntegerType(), True),\n",
    "    StructField(\"PreferedOrderCat\", StringType(), True),\n",
    "    StructField(\"SatisfactionScore\", IntegerType(), True),\n",
    "    StructField(\"MaritalStatus\", StringType(), True),\n",
    "    StructField(\"NumberOfAddress\", IntegerType(), True),\n",
    "    StructField(\"Complain\", IntegerType(), True),\n",
    "    StructField(\"OrderAmountHikeFromlastYear\", FloatType(), True),\n",
    "    StructField(\"CouponUsed\", FloatType(), True),\n",
    "    StructField(\"OrderCount\", FloatType(), True),\n",
    "    StructField(\"DaySinceLastOrder\", FloatType(), True),\n",
    "    StructField(\"CashbackAmount\", FloatType(), True)\n",
    "])"
   ]
  },
  {
   "cell_type": "code",
   "execution_count": 18,
   "metadata": {},
   "outputs": [],
   "source": [
    "# Load the data stored in e-commerce folder format as a DataFrame.\n",
    "data = spark.read.format(\"csv\") \\\n",
    "    .option(\"header\", True) \\\n",
    "    .schema(schema) \\\n",
    "    .load(\"/home/jovyan/code/churn/e-commerce/e-commerce-dataset.csv\")\n"
   ]
  },
  {
   "cell_type": "code",
   "execution_count": 19,
   "metadata": {},
   "outputs": [
    {
     "data": {
      "text/plain": [
       "5630"
      ]
     },
     "execution_count": 19,
     "metadata": {},
     "output_type": "execute_result"
    }
   ],
   "source": [
    "data.count()"
   ]
  },
  {
   "cell_type": "code",
   "execution_count": 20,
   "metadata": {},
   "outputs": [
    {
     "name": "stdout",
     "output_type": "stream",
     "text": [
      "+--------------------------+\n",
      "|count(DISTINCT CustomerId)|\n",
      "+--------------------------+\n",
      "|                      5630|\n",
      "+--------------------------+\n",
      "\n",
      "+------------------------------------+\n",
      "|count(DISTINCT PreferredLoginDevice)|\n",
      "+------------------------------------+\n",
      "|                                   3|\n",
      "+------------------------------------+\n",
      "\n",
      "+------------------------------------+\n",
      "|count(DISTINCT PreferredPaymentMode)|\n",
      "+------------------------------------+\n",
      "|                                   7|\n",
      "+------------------------------------+\n",
      "\n",
      "+----------------------+\n",
      "|count(DISTINCT Gender)|\n",
      "+----------------------+\n",
      "|                     2|\n",
      "+----------------------+\n",
      "\n",
      "+--------------------------------+\n",
      "|count(DISTINCT PreferedOrderCat)|\n",
      "+--------------------------------+\n",
      "|                               6|\n",
      "+--------------------------------+\n",
      "\n",
      "+-----------------------------+\n",
      "|count(DISTINCT MaritalStatus)|\n",
      "+-----------------------------+\n",
      "|                            3|\n",
      "+-----------------------------+\n",
      "\n"
     ]
    }
   ],
   "source": [
    "data.select(F.countDistinct(\"CustomerId\")).show()\n",
    "categorical_cols = ['PreferredLoginDevice',\n",
    "  'PreferredPaymentMode',\n",
    "  'Gender',\n",
    "  'PreferedOrderCat',\n",
    "  'MaritalStatus']\n",
    "for c in categorical_cols:\n",
    "    data.select(F.countDistinct(c)).show()"
   ]
  },
  {
   "cell_type": "code",
   "execution_count": 68,
   "metadata": {},
   "outputs": [
    {
     "ename": "AttributeError",
     "evalue": "'DataFrame' object has no attribute 'GroupedData'",
     "output_type": "error",
     "traceback": [
      "\u001b[1;31m---------------------------------------------------------------------------\u001b[0m",
      "\u001b[1;31mAttributeError\u001b[0m                            Traceback (most recent call last)",
      "Cell \u001b[1;32mIn[68], line 1\u001b[0m\n\u001b[1;32m----> 1\u001b[0m \u001b[43mdata\u001b[49m\u001b[38;5;241;43m.\u001b[39;49m\u001b[43mGroupedData\u001b[49m\u001b[38;5;241m.\u001b[39mcount()\n",
      "File \u001b[1;32mc:\\Users\\Berenice.Zavala\\Desktop\\churn\\churn_venv\\lib\\site-packages\\pyspark\\sql\\dataframe.py:3127\u001b[0m, in \u001b[0;36mDataFrame.__getattr__\u001b[1;34m(self, name)\u001b[0m\n\u001b[0;32m   3094\u001b[0m \u001b[38;5;250m\u001b[39m\u001b[38;5;124;03m\"\"\"Returns the :class:`Column` denoted by ``name``.\u001b[39;00m\n\u001b[0;32m   3095\u001b[0m \n\u001b[0;32m   3096\u001b[0m \u001b[38;5;124;03m.. versionadded:: 1.3.0\u001b[39;00m\n\u001b[1;32m   (...)\u001b[0m\n\u001b[0;32m   3124\u001b[0m \u001b[38;5;124;03m+---+\u001b[39;00m\n\u001b[0;32m   3125\u001b[0m \u001b[38;5;124;03m\"\"\"\u001b[39;00m\n\u001b[0;32m   3126\u001b[0m \u001b[38;5;28;01mif\u001b[39;00m name \u001b[38;5;129;01mnot\u001b[39;00m \u001b[38;5;129;01min\u001b[39;00m \u001b[38;5;28mself\u001b[39m\u001b[38;5;241m.\u001b[39mcolumns:\n\u001b[1;32m-> 3127\u001b[0m     \u001b[38;5;28;01mraise\u001b[39;00m \u001b[38;5;167;01mAttributeError\u001b[39;00m(\n\u001b[0;32m   3128\u001b[0m         \u001b[38;5;124m\"\u001b[39m\u001b[38;5;124m'\u001b[39m\u001b[38;5;132;01m%s\u001b[39;00m\u001b[38;5;124m'\u001b[39m\u001b[38;5;124m object has no attribute \u001b[39m\u001b[38;5;124m'\u001b[39m\u001b[38;5;132;01m%s\u001b[39;00m\u001b[38;5;124m'\u001b[39m\u001b[38;5;124m\"\u001b[39m \u001b[38;5;241m%\u001b[39m (\u001b[38;5;28mself\u001b[39m\u001b[38;5;241m.\u001b[39m\u001b[38;5;18m__class__\u001b[39m\u001b[38;5;241m.\u001b[39m\u001b[38;5;18m__name__\u001b[39m, name)\n\u001b[0;32m   3129\u001b[0m     )\n\u001b[0;32m   3130\u001b[0m jc \u001b[38;5;241m=\u001b[39m \u001b[38;5;28mself\u001b[39m\u001b[38;5;241m.\u001b[39m_jdf\u001b[38;5;241m.\u001b[39mapply(name)\n\u001b[0;32m   3131\u001b[0m \u001b[38;5;28;01mreturn\u001b[39;00m Column(jc)\n",
      "\u001b[1;31mAttributeError\u001b[0m: 'DataFrame' object has no attribute 'GroupedData'"
     ]
    }
   ],
   "source": []
  },
  {
   "cell_type": "code",
   "execution_count": 50,
   "metadata": {},
   "outputs": [
    {
     "name": "stdout",
     "output_type": "stream",
     "text": [
      "root\n",
      " |-- CustomerId: integer (nullable = true)\n",
      " |-- Churn: integer (nullable = true)\n",
      " |-- Tenure: float (nullable = true)\n",
      " |-- PreferredLoginDevice: string (nullable = true)\n",
      " |-- CityTier: integer (nullable = true)\n",
      " |-- WarehouseToHome: float (nullable = true)\n",
      " |-- PreferredPaymentMode: string (nullable = true)\n",
      " |-- Gender: string (nullable = true)\n",
      " |-- HourSpendOnApp: float (nullable = true)\n",
      " |-- NumberOfDeviceRegistered: integer (nullable = true)\n",
      " |-- PreferedOrderCat: string (nullable = true)\n",
      " |-- SatisfactionScore: integer (nullable = true)\n",
      " |-- MaritalStatus: string (nullable = true)\n",
      " |-- NumberOfAddress: integer (nullable = true)\n",
      " |-- Complain: integer (nullable = true)\n",
      " |-- OrderAmountHikeFromlastYear: float (nullable = true)\n",
      " |-- CouponUsed: float (nullable = true)\n",
      " |-- OrderCount: float (nullable = true)\n",
      " |-- DaySinceLastOrder: float (nullable = true)\n",
      " |-- CashbackAmount: float (nullable = true)\n",
      "\n"
     ]
    }
   ],
   "source": [
    "data.printSchema()\n"
   ]
  },
  {
   "cell_type": "code",
   "execution_count": 73,
   "metadata": {},
   "outputs": [
    {
     "name": "stdout",
     "output_type": "stream",
     "text": [
      "+----------+-----+------+--------------------+--------+---------------+--------------------+------+--------------+------------------------+------------------+-----------------+-------------+---------------+--------+---------------------------+----------+----------+-----------------+--------------+\n",
      "|CustomerId|Churn|Tenure|PreferredLoginDevice|CityTier|WarehouseToHome|PreferredPaymentMode|Gender|HourSpendOnApp|NumberOfDeviceRegistered|  PreferedOrderCat|SatisfactionScore|MaritalStatus|NumberOfAddress|Complain|OrderAmountHikeFromlastYear|CouponUsed|OrderCount|DaySinceLastOrder|CashbackAmount|\n",
      "+----------+-----+------+--------------------+--------+---------------+--------------------+------+--------------+------------------------+------------------+-----------------+-------------+---------------+--------+---------------------------+----------+----------+-----------------+--------------+\n",
      "|     50001|    1|   4.0|        Mobile Phone|       3|            6.0|          Debit Card|Female|           3.0|                       3|Laptop & Accessory|                2|       Single|              9|       1|                       11.0|       1.0|       1.0|              5.0|        159.93|\n",
      "|     50002|    1|  null|               Phone|       1|            8.0|                 UPI|  Male|           3.0|                       4|            Mobile|                3|       Single|              7|       1|                       15.0|       0.0|       1.0|              0.0|         120.9|\n",
      "|     50003|    1|  null|               Phone|       1|           30.0|          Debit Card|  Male|           2.0|                       4|            Mobile|                3|       Single|              6|       1|                       14.0|       0.0|       1.0|              3.0|        120.28|\n",
      "|     50004|    1|   0.0|               Phone|       3|           15.0|          Debit Card|  Male|           2.0|                       4|Laptop & Accessory|                5|       Single|              8|       0|                       23.0|       0.0|       1.0|              3.0|        134.07|\n",
      "|     50005|    1|   0.0|               Phone|       1|           12.0|                  CC|  Male|          null|                       3|            Mobile|                5|       Single|              3|       0|                       11.0|       1.0|       1.0|              3.0|         129.6|\n",
      "|     50006|    1|   0.0|            Computer|       1|           22.0|          Debit Card|Female|           3.0|                       5|      Mobile Phone|                5|       Single|              2|       1|                       22.0|       4.0|       6.0|              7.0|        139.19|\n",
      "|     50007|    1|  null|               Phone|       3|           11.0|    Cash on Delivery|  Male|           2.0|                       3|Laptop & Accessory|                2|     Divorced|              4|       0|                       14.0|       0.0|       1.0|              0.0|        120.86|\n",
      "|     50008|    1|  null|               Phone|       1|            6.0|                  CC|  Male|           3.0|                       3|            Mobile|                2|     Divorced|              3|       1|                       16.0|       2.0|       2.0|              0.0|        122.93|\n",
      "|     50009|    1|  13.0|               Phone|       3|            9.0|            E wallet|  Male|          null|                       4|            Mobile|                3|     Divorced|              2|       1|                       14.0|       0.0|       1.0|              2.0|        126.83|\n",
      "|     50010|    1|  null|               Phone|       1|           31.0|          Debit Card|  Male|           2.0|                       5|            Mobile|                3|       Single|              2|       0|                       12.0|       1.0|       1.0|              1.0|        122.93|\n",
      "|     50011|    1|   4.0|        Mobile Phone|       1|           18.0|    Cash on Delivery|Female|           2.0|                       3|            Others|                3|     Divorced|              2|       0|                       null|       9.0|      15.0|              8.0|        295.45|\n",
      "|     50012|    1|  11.0|        Mobile Phone|       1|            6.0|          Debit Card|  Male|           3.0|                       4|           Fashion|                3|       Single|             10|       1|                       13.0|       0.0|       1.0|              0.0|        153.81|\n",
      "|     50013|    1|   0.0|               Phone|       1|           11.0|                 COD|  Male|           2.0|                       3|            Mobile|                3|       Single|              2|       1|                       13.0|       2.0|       2.0|              2.0|        134.41|\n",
      "|     50014|    1|   0.0|               Phone|       1|           15.0|                  CC|  Male|           3.0|                       4|            Mobile|                3|     Divorced|              1|       1|                       17.0|       0.0|       1.0|              0.0|        133.88|\n",
      "|     50015|    1|   9.0|        Mobile Phone|       3|           15.0|         Credit Card|  Male|           3.0|                       4|           Fashion|                2|       Single|              2|       0|                       16.0|       0.0|       4.0|              7.0|        196.19|\n",
      "|     50016|    1|  null|               Phone|       2|           12.0|                 UPI|  Male|           3.0|                       3|            Mobile|                5|      Married|              5|       1|                       22.0|       1.0|       1.0|              2.0|        120.73|\n",
      "|     50017|    1|   0.0|            Computer|       1|           12.0|          Debit Card|Female|          null|                       4|            Mobile|                2|       Single|              2|       1|                       18.0|       1.0|       1.0|              0.0|        129.26|\n",
      "|     50018|    1|   0.0|        Mobile Phone|       3|           11.0|            E wallet|  Male|           2.0|                       4|Laptop & Accessory|                3|       Single|              2|       1|                       11.0|       1.0|       1.0|              3.0|        157.44|\n",
      "|     50019|    1|   0.0|            Computer|       1|           13.0|          Debit Card|  Male|           3.0|                       5|Laptop & Accessory|                3|       Single|              2|       1|                       24.0|       1.0|       1.0|              6.0|        160.74|\n",
      "|     50020|    1|  19.0|        Mobile Phone|       1|           20.0|          Debit Card|Female|           3.0|                       3|      Mobile Phone|                4|     Divorced|             10|       1|                       18.0|       1.0|       4.0|              3.0|        149.63|\n",
      "|     50021|    1|   0.0|        Mobile Phone|       3|           12.0|          Debit Card|  Male|           3.0|                       5|Laptop & Accessory|                3|     Divorced|              5|       1|                       18.0|       6.0|       7.0|              7.0|        161.72|\n",
      "|     50022|    1|  20.0|        Mobile Phone|       1|           29.0|         Credit Card|Female|           3.0|                       3|           Fashion|                2|     Divorced|              2|       0|                       12.0|      11.0|      15.0|              6.0|        203.12|\n",
      "|     50023|    1|  null|        Mobile Phone|       3|           28.0|            E wallet|  Male|           2.0|                       3|      Mobile Phone|                3|       Single|              2|       1|                       19.0|       0.0|       1.0|              0.0|        116.75|\n",
      "|     50024|    1|   0.0|               Phone|       3|           26.0|          Debit Card|Female|           3.0|                       5|Laptop & Accessory|                3|     Divorced|              4|       1|                       11.0|       1.0|       2.0|              2.0|        145.59|\n",
      "|     50025|    1|  14.0|            Computer|       1|           14.0|          Debit Card|  Male|           2.0|                       5|           Fashion|                2|       Single|              3|       0|                       15.0|       0.0|       1.0|              3.0|         206.5|\n",
      "|     50026|    1|   0.0|               Phone|       1|           15.0|         Credit Card|Female|           2.0|                       3|      Mobile Phone|                5|       Single|              8|       0|                       22.0|       1.0|       1.0|              4.0|         142.0|\n",
      "|     50027|    0|   8.0|        Mobile Phone|       3|            6.0|            E wallet|  Male|           3.0|                       3|           Fashion|                4|     Divorced|              2|       0|                       13.0|       1.0|       1.0|              6.0|        172.95|\n",
      "|     50028|    0|  null|               Phone|       3|           12.0|            E wallet|  Male|           2.0|                       3|Laptop & Accessory|                3|     Divorced|              3|       1|                       20.0|       0.0|       4.0|              5.0|        123.06|\n",
      "|     50029|    0|  18.0|               Phone|       1|           null|          Debit Card|  Male|           2.0|                       3|Laptop & Accessory|                4|      Married|              9|       0|                       18.0|       1.0|       1.0|             15.0|        123.48|\n",
      "|     50030|    0|   5.0|            Computer|       3|           14.0|            E wallet|Female|           2.0|                       3|           Fashion|                2|       Single|              2|       0|                       14.0|       2.0|       3.0|              7.0|        189.98|\n",
      "|     50031|    0|   2.0|            Computer|       1|            6.0|                 COD|  Male|           2.0|                       3|Laptop & Accessory|                3|     Divorced|              2|       0|                       13.0|       0.0|       1.0|              9.0|        143.19|\n",
      "|     50032|    0|   0.0|        Mobile Phone|       1|           13.0|         Credit Card|  Male|           2.0|                       4|Laptop & Accessory|                3|     Divorced|              3|       0|                       17.0|       1.0|       1.0|              0.0|        161.32|\n",
      "|     50033|    0|  30.0|               Phone|       1|           15.0|                  CC|Female|           3.0|                       4|            Mobile|                4|     Divorced|              5|       1|                       20.0|       1.0|       1.0|              0.0|        133.46|\n",
      "|     50034|    0|  13.0|        Mobile Phone|       3|           10.0|            E wallet|  Male|           3.0|                       4|           Fashion|                2|     Divorced|              8|       0|                       11.0|       2.0|       2.0|             11.0|        208.55|\n",
      "|     50035|    0|  null|            Computer|       3|            8.0|            E wallet|Female|           3.0|                       3|            Mobile|                3|     Divorced|              7|       0|                       18.0|       1.0|       1.0|              2.0|        122.31|\n",
      "|     50036|    0|   0.0|               Phone|       1|           null|                  CC|  Male|           3.0|                       3|            Mobile|                2|     Divorced|              2|       0|                       24.0|       0.0|       2.0|              2.0|        123.23|\n",
      "|     50037|    0|  null|            Computer|       1|           15.0|                  CC|  Male|           2.0|                       3|            Mobile|                4|      Married|              7|       0|                       18.0|       0.0|       2.0|              2.0|        120.24|\n",
      "|     50038|    0|   1.0|               Phone|       1|           27.0|                  CC|  Male|          null|                       3|            Mobile|                2|     Divorced|              2|       0|                       11.0|       0.0|       1.0|              2.0|        127.13|\n",
      "|     50039|    0|  30.0|        Mobile Phone|       1|           30.0|          Debit Card|  Male|           2.0|                       2|           Fashion|                2|      Married|              4|       1|                       16.0|       1.0|       1.0|              4.0|        194.39|\n",
      "|     50040|    0|   0.0|            Computer|       1|           null|                  CC|  Male|           3.0|                       4|            Mobile|                3|      Married|              2|       1|                       15.0|       0.0|       1.0|              1.0|        125.66|\n",
      "|     50041|    0|  23.0|        Mobile Phone|       1|           17.0|          Debit Card|Female|           2.0|                       3|            Others|                4|       Single|              4|       0|                       null|       2.0|       4.0|              4.0|        299.26|\n",
      "|     50042|    0|  14.0|               Phone|       1|           null|          Debit Card|  Male|           2.0|                       3|            Mobile|                3|      Married|              5|       0|                       12.0|       1.0|       1.0|              8.0|        124.51|\n",
      "|     50043|    0|   3.0|        Mobile Phone|       3|           11.0|          Debit Card|Female|           2.0|                       3|           Fashion|                2|     Divorced|              3|       0|                       12.0|       2.0|       7.0|              4.0|        194.19|\n",
      "|     50044|    0|  11.0|        Mobile Phone|       3|            6.0|          Debit Card|Female|           2.0|                       4|Laptop & Accessory|                2|       Single|              5|       0|                       22.0|       1.0|       1.0|              1.0|        186.86|\n",
      "|     50045|    0|   5.0|               Phone|       1|           12.0|          Debit Card|  Male|          null|                       3|            Mobile|                3|       Single|              4|       0|                       20.0|       0.0|       1.0|              4.0|        130.38|\n",
      "|     50046|    0|   0.0|               Phone|       1|           23.0|                 COD|  Male|          null|                       3|            Mobile|                4|     Divorced|              1|       1|                       16.0|       1.0|       1.0|              1.0|        130.58|\n",
      "|     50047|    1|   0.0|            Computer|       3|           null|                 COD|Female|           3.0|                       5|            Mobile|                5|       Single|              1|       0|                       21.0|       1.0|       1.0|              0.0|        123.25|\n",
      "|     50048|    0|  null|            Computer|       1|            9.0|                  CC|  Male|           1.0|                       3|            Mobile|                4|       Single|              5|       0|                       12.0|       4.0|       7.0|              2.0|        120.88|\n",
      "|     50049|    0|   3.0|            Computer|       1|           15.0|                  CC|  Male|          null|                       3|Laptop & Accessory|                5|      Married|              2|       0|                       11.0|       0.0|       6.0|             10.0|        130.72|\n",
      "|     50050|    0|  18.0|        Mobile Phone|       3|           10.0|          Debit Card|Female|           1.0|                       3|Laptop & Accessory|                5|      Married|              5|       1|                       11.0|       0.0|       1.0|              3.0|        150.06|\n",
      "+----------+-----+------+--------------------+--------+---------------+--------------------+------+--------------+------------------------+------------------+-----------------+-------------+---------------+--------+---------------------------+----------+----------+-----------------+--------------+\n",
      "only showing top 50 rows\n",
      "\n"
     ]
    }
   ],
   "source": [
    "data.show(50)"
   ]
  },
  {
   "cell_type": "code",
   "execution_count": 51,
   "metadata": {},
   "outputs": [],
   "source": [
    "pre_process_instance = PreProcess(data)"
   ]
  },
  {
   "cell_type": "code",
   "execution_count": 52,
   "metadata": {},
   "outputs": [
    {
     "data": {
      "text/plain": [
       "{'numeric_cols': ['CustomerId',\n",
       "  'Churn',\n",
       "  'Tenure',\n",
       "  'CityTier',\n",
       "  'WarehouseToHome',\n",
       "  'HourSpendOnApp',\n",
       "  'NumberOfDeviceRegistered',\n",
       "  'SatisfactionScore',\n",
       "  'NumberOfAddress',\n",
       "  'Complain',\n",
       "  'OrderAmountHikeFromlastYear',\n",
       "  'CouponUsed',\n",
       "  'OrderCount',\n",
       "  'DaySinceLastOrder',\n",
       "  'CashbackAmount'],\n",
       " 'categorical_cols': ['PreferredLoginDevice',\n",
       "  'PreferredPaymentMode',\n",
       "  'Gender',\n",
       "  'PreferedOrderCat',\n",
       "  'MaritalStatus'],\n",
       " 'boolean_cols': [],\n",
       " 'array_cols': [],\n",
       " 'struct_cols': [],\n",
       " 'unknown_cols': []}"
      ]
     },
     "execution_count": 52,
     "metadata": {},
     "output_type": "execute_result"
    }
   ],
   "source": [
    "pre_process_instance.columns_types(data)"
   ]
  },
  {
   "cell_type": "code",
   "execution_count": 11,
   "metadata": {},
   "outputs": [],
   "source": [
    "# Index labels, adding metadata to the label column.\n",
    "# Fit on whole dataset to include all labels in index.\n",
    "labelIndexer = StringIndexer(inputCol=\"Churn\", outputCol=\"indexedLabel\").fit(data)\n",
    "# Automatically identify categorical features, and index them."
   ]
  },
  {
   "cell_type": "code",
   "execution_count": 12,
   "metadata": {},
   "outputs": [
    {
     "ename": "IllegalArgumentException",
     "evalue": "features does not exist. Available: customerID, gender, SeniorCitizen, Partner, Dependents, tenure, PhoneService, MultipleLines, InternetService, OnlineSecurity, OnlineBackup, DeviceProtection, TechSupport, StreamingTV, StreamingMovies, Contract, PaperlessBilling, PaymentMethod, MonthlyCharges, TotalCharges, Churn",
     "output_type": "error",
     "traceback": [
      "\u001b[1;31m---------------------------------------------------------------------------\u001b[0m",
      "\u001b[1;31mIllegalArgumentException\u001b[0m                  Traceback (most recent call last)",
      "Cell \u001b[1;32mIn[12], line 3\u001b[0m\n\u001b[0;32m      1\u001b[0m \u001b[38;5;66;03m# We specify maxCategories so features with > 4 distinct values are treated as continuous.\u001b[39;00m\n\u001b[0;32m      2\u001b[0m featureIndexer \u001b[38;5;241m=\u001b[39m\\\n\u001b[1;32m----> 3\u001b[0m     \u001b[43mVectorIndexer\u001b[49m\u001b[43m(\u001b[49m\u001b[43minputCol\u001b[49m\u001b[38;5;241;43m=\u001b[39;49m\u001b[38;5;124;43m\"\u001b[39;49m\u001b[38;5;124;43mfeatures\u001b[39;49m\u001b[38;5;124;43m\"\u001b[39;49m\u001b[43m,\u001b[49m\u001b[43m \u001b[49m\u001b[43moutputCol\u001b[49m\u001b[38;5;241;43m=\u001b[39;49m\u001b[38;5;124;43m\"\u001b[39;49m\u001b[38;5;124;43mindexedFeatures\u001b[39;49m\u001b[38;5;124;43m\"\u001b[39;49m\u001b[43m,\u001b[49m\u001b[43m \u001b[49m\u001b[43mmaxCategories\u001b[49m\u001b[38;5;241;43m=\u001b[39;49m\u001b[38;5;241;43m4\u001b[39;49m\u001b[43m)\u001b[49m\u001b[38;5;241;43m.\u001b[39;49m\u001b[43mfit\u001b[49m\u001b[43m(\u001b[49m\u001b[43mdata\u001b[49m\u001b[43m)\u001b[49m\n",
      "File \u001b[1;32mc:\\Users\\Berenice.Zavala\\Desktop\\churn\\churn_venv\\lib\\site-packages\\pyspark\\ml\\base.py:205\u001b[0m, in \u001b[0;36mEstimator.fit\u001b[1;34m(self, dataset, params)\u001b[0m\n\u001b[0;32m    203\u001b[0m         \u001b[38;5;28;01mreturn\u001b[39;00m \u001b[38;5;28mself\u001b[39m\u001b[38;5;241m.\u001b[39mcopy(params)\u001b[38;5;241m.\u001b[39m_fit(dataset)\n\u001b[0;32m    204\u001b[0m     \u001b[38;5;28;01melse\u001b[39;00m:\n\u001b[1;32m--> 205\u001b[0m         \u001b[38;5;28;01mreturn\u001b[39;00m \u001b[38;5;28;43mself\u001b[39;49m\u001b[38;5;241;43m.\u001b[39;49m\u001b[43m_fit\u001b[49m\u001b[43m(\u001b[49m\u001b[43mdataset\u001b[49m\u001b[43m)\u001b[49m\n\u001b[0;32m    206\u001b[0m \u001b[38;5;28;01melse\u001b[39;00m:\n\u001b[0;32m    207\u001b[0m     \u001b[38;5;28;01mraise\u001b[39;00m \u001b[38;5;167;01mTypeError\u001b[39;00m(\n\u001b[0;32m    208\u001b[0m         \u001b[38;5;124m\"\u001b[39m\u001b[38;5;124mParams must be either a param map or a list/tuple of param maps, \u001b[39m\u001b[38;5;124m\"\u001b[39m\n\u001b[0;32m    209\u001b[0m         \u001b[38;5;124m\"\u001b[39m\u001b[38;5;124mbut got \u001b[39m\u001b[38;5;132;01m%s\u001b[39;00m\u001b[38;5;124m.\u001b[39m\u001b[38;5;124m\"\u001b[39m \u001b[38;5;241m%\u001b[39m \u001b[38;5;28mtype\u001b[39m(params)\n\u001b[0;32m    210\u001b[0m     )\n",
      "File \u001b[1;32mc:\\Users\\Berenice.Zavala\\Desktop\\churn\\churn_venv\\lib\\site-packages\\pyspark\\ml\\wrapper.py:381\u001b[0m, in \u001b[0;36mJavaEstimator._fit\u001b[1;34m(self, dataset)\u001b[0m\n\u001b[0;32m    380\u001b[0m \u001b[38;5;28;01mdef\u001b[39;00m \u001b[38;5;21m_fit\u001b[39m(\u001b[38;5;28mself\u001b[39m, dataset: DataFrame) \u001b[38;5;241m-\u001b[39m\u001b[38;5;241m>\u001b[39m JM:\n\u001b[1;32m--> 381\u001b[0m     java_model \u001b[38;5;241m=\u001b[39m \u001b[38;5;28;43mself\u001b[39;49m\u001b[38;5;241;43m.\u001b[39;49m\u001b[43m_fit_java\u001b[49m\u001b[43m(\u001b[49m\u001b[43mdataset\u001b[49m\u001b[43m)\u001b[49m\n\u001b[0;32m    382\u001b[0m     model \u001b[38;5;241m=\u001b[39m \u001b[38;5;28mself\u001b[39m\u001b[38;5;241m.\u001b[39m_create_model(java_model)\n\u001b[0;32m    383\u001b[0m     \u001b[38;5;28;01mreturn\u001b[39;00m \u001b[38;5;28mself\u001b[39m\u001b[38;5;241m.\u001b[39m_copyValues(model)\n",
      "File \u001b[1;32mc:\\Users\\Berenice.Zavala\\Desktop\\churn\\churn_venv\\lib\\site-packages\\pyspark\\ml\\wrapper.py:378\u001b[0m, in \u001b[0;36mJavaEstimator._fit_java\u001b[1;34m(self, dataset)\u001b[0m\n\u001b[0;32m    375\u001b[0m \u001b[38;5;28;01massert\u001b[39;00m \u001b[38;5;28mself\u001b[39m\u001b[38;5;241m.\u001b[39m_java_obj \u001b[38;5;129;01mis\u001b[39;00m \u001b[38;5;129;01mnot\u001b[39;00m \u001b[38;5;28;01mNone\u001b[39;00m\n\u001b[0;32m    377\u001b[0m \u001b[38;5;28mself\u001b[39m\u001b[38;5;241m.\u001b[39m_transfer_params_to_java()\n\u001b[1;32m--> 378\u001b[0m \u001b[38;5;28;01mreturn\u001b[39;00m \u001b[38;5;28;43mself\u001b[39;49m\u001b[38;5;241;43m.\u001b[39;49m\u001b[43m_java_obj\u001b[49m\u001b[38;5;241;43m.\u001b[39;49m\u001b[43mfit\u001b[49m\u001b[43m(\u001b[49m\u001b[43mdataset\u001b[49m\u001b[38;5;241;43m.\u001b[39;49m\u001b[43m_jdf\u001b[49m\u001b[43m)\u001b[49m\n",
      "File \u001b[1;32mc:\\Users\\Berenice.Zavala\\Desktop\\churn\\churn_venv\\lib\\site-packages\\py4j\\java_gateway.py:1322\u001b[0m, in \u001b[0;36mJavaMember.__call__\u001b[1;34m(self, *args)\u001b[0m\n\u001b[0;32m   1316\u001b[0m command \u001b[38;5;241m=\u001b[39m proto\u001b[38;5;241m.\u001b[39mCALL_COMMAND_NAME \u001b[38;5;241m+\u001b[39m\\\n\u001b[0;32m   1317\u001b[0m     \u001b[38;5;28mself\u001b[39m\u001b[38;5;241m.\u001b[39mcommand_header \u001b[38;5;241m+\u001b[39m\\\n\u001b[0;32m   1318\u001b[0m     args_command \u001b[38;5;241m+\u001b[39m\\\n\u001b[0;32m   1319\u001b[0m     proto\u001b[38;5;241m.\u001b[39mEND_COMMAND_PART\n\u001b[0;32m   1321\u001b[0m answer \u001b[38;5;241m=\u001b[39m \u001b[38;5;28mself\u001b[39m\u001b[38;5;241m.\u001b[39mgateway_client\u001b[38;5;241m.\u001b[39msend_command(command)\n\u001b[1;32m-> 1322\u001b[0m return_value \u001b[38;5;241m=\u001b[39m \u001b[43mget_return_value\u001b[49m\u001b[43m(\u001b[49m\n\u001b[0;32m   1323\u001b[0m \u001b[43m    \u001b[49m\u001b[43manswer\u001b[49m\u001b[43m,\u001b[49m\u001b[43m \u001b[49m\u001b[38;5;28;43mself\u001b[39;49m\u001b[38;5;241;43m.\u001b[39;49m\u001b[43mgateway_client\u001b[49m\u001b[43m,\u001b[49m\u001b[43m \u001b[49m\u001b[38;5;28;43mself\u001b[39;49m\u001b[38;5;241;43m.\u001b[39;49m\u001b[43mtarget_id\u001b[49m\u001b[43m,\u001b[49m\u001b[43m \u001b[49m\u001b[38;5;28;43mself\u001b[39;49m\u001b[38;5;241;43m.\u001b[39;49m\u001b[43mname\u001b[49m\u001b[43m)\u001b[49m\n\u001b[0;32m   1325\u001b[0m \u001b[38;5;28;01mfor\u001b[39;00m temp_arg \u001b[38;5;129;01min\u001b[39;00m temp_args:\n\u001b[0;32m   1326\u001b[0m     \u001b[38;5;28;01mif\u001b[39;00m \u001b[38;5;28mhasattr\u001b[39m(temp_arg, \u001b[38;5;124m\"\u001b[39m\u001b[38;5;124m_detach\u001b[39m\u001b[38;5;124m\"\u001b[39m):\n",
      "File \u001b[1;32mc:\\Users\\Berenice.Zavala\\Desktop\\churn\\churn_venv\\lib\\site-packages\\pyspark\\errors\\exceptions\\captured.py:185\u001b[0m, in \u001b[0;36mcapture_sql_exception.<locals>.deco\u001b[1;34m(*a, **kw)\u001b[0m\n\u001b[0;32m    181\u001b[0m converted \u001b[38;5;241m=\u001b[39m convert_exception(e\u001b[38;5;241m.\u001b[39mjava_exception)\n\u001b[0;32m    182\u001b[0m \u001b[38;5;28;01mif\u001b[39;00m \u001b[38;5;129;01mnot\u001b[39;00m \u001b[38;5;28misinstance\u001b[39m(converted, UnknownException):\n\u001b[0;32m    183\u001b[0m     \u001b[38;5;66;03m# Hide where the exception came from that shows a non-Pythonic\u001b[39;00m\n\u001b[0;32m    184\u001b[0m     \u001b[38;5;66;03m# JVM exception message.\u001b[39;00m\n\u001b[1;32m--> 185\u001b[0m     \u001b[38;5;28;01mraise\u001b[39;00m converted \u001b[38;5;28;01mfrom\u001b[39;00m \u001b[38;5;28;01mNone\u001b[39;00m\n\u001b[0;32m    186\u001b[0m \u001b[38;5;28;01melse\u001b[39;00m:\n\u001b[0;32m    187\u001b[0m     \u001b[38;5;28;01mraise\u001b[39;00m\n",
      "\u001b[1;31mIllegalArgumentException\u001b[0m: features does not exist. Available: customerID, gender, SeniorCitizen, Partner, Dependents, tenure, PhoneService, MultipleLines, InternetService, OnlineSecurity, OnlineBackup, DeviceProtection, TechSupport, StreamingTV, StreamingMovies, Contract, PaperlessBilling, PaymentMethod, MonthlyCharges, TotalCharges, Churn"
     ]
    }
   ],
   "source": [
    "# We specify maxCategories so features with > 4 distinct values are treated as continuous.\n",
    "featureIndexer =\\\n",
    "    VectorIndexer(inputCol=\"features\", outputCol=\"indexedFeatures\", maxCategories=4).fit(data)"
   ]
  },
  {
   "cell_type": "code",
   "execution_count": 6,
   "metadata": {},
   "outputs": [
    {
     "ename": "Py4JJavaError",
     "evalue": "An error occurred while calling o32.fit.\n: org.apache.spark.SparkException: Input column label does not exist.\r\n\tat org.apache.spark.ml.feature.StringIndexerBase.$anonfun$validateAndTransformSchema$2(StringIndexer.scala:128)\r\n\tat scala.collection.TraversableLike.$anonfun$flatMap$1(TraversableLike.scala:293)\r\n\tat scala.collection.IndexedSeqOptimized.foreach(IndexedSeqOptimized.scala:36)\r\n\tat scala.collection.IndexedSeqOptimized.foreach$(IndexedSeqOptimized.scala:33)\r\n\tat scala.collection.mutable.ArrayOps$ofRef.foreach(ArrayOps.scala:198)\r\n\tat scala.collection.TraversableLike.flatMap(TraversableLike.scala:293)\r\n\tat scala.collection.TraversableLike.flatMap$(TraversableLike.scala:290)\r\n\tat scala.collection.mutable.ArrayOps$ofRef.flatMap(ArrayOps.scala:198)\r\n\tat org.apache.spark.ml.feature.StringIndexerBase.validateAndTransformSchema(StringIndexer.scala:123)\r\n\tat org.apache.spark.ml.feature.StringIndexerBase.validateAndTransformSchema$(StringIndexer.scala:115)\r\n\tat org.apache.spark.ml.feature.StringIndexer.validateAndTransformSchema(StringIndexer.scala:145)\r\n\tat org.apache.spark.ml.feature.StringIndexer.transformSchema(StringIndexer.scala:252)\r\n\tat org.apache.spark.ml.PipelineStage.transformSchema(Pipeline.scala:71)\r\n\tat org.apache.spark.ml.feature.StringIndexer.fit(StringIndexer.scala:237)\r\n\tat sun.reflect.NativeMethodAccessorImpl.invoke0(Native Method)\r\n\tat sun.reflect.NativeMethodAccessorImpl.invoke(Unknown Source)\r\n\tat sun.reflect.DelegatingMethodAccessorImpl.invoke(Unknown Source)\r\n\tat java.lang.reflect.Method.invoke(Unknown Source)\r\n\tat py4j.reflection.MethodInvoker.invoke(MethodInvoker.java:244)\r\n\tat py4j.reflection.ReflectionEngine.invoke(ReflectionEngine.java:357)\r\n\tat py4j.Gateway.invoke(Gateway.java:282)\r\n\tat py4j.commands.AbstractCommand.invokeMethod(AbstractCommand.java:132)\r\n\tat py4j.commands.CallCommand.execute(CallCommand.java:79)\r\n\tat py4j.ClientServerConnection.waitForCommands(ClientServerConnection.java:182)\r\n\tat py4j.ClientServerConnection.run(ClientServerConnection.java:106)\r\n\tat java.lang.Thread.run(Unknown Source)\r\n",
     "output_type": "error",
     "traceback": [
      "\u001b[1;31m---------------------------------------------------------------------------\u001b[0m",
      "\u001b[1;31mPy4JJavaError\u001b[0m                             Traceback (most recent call last)",
      "Cell \u001b[1;32mIn[6], line 3\u001b[0m\n\u001b[0;32m      1\u001b[0m \u001b[38;5;66;03m# Index labels, adding metadata to the label column.\u001b[39;00m\n\u001b[0;32m      2\u001b[0m \u001b[38;5;66;03m# Fit on whole dataset to include all labels in index.\u001b[39;00m\n\u001b[1;32m----> 3\u001b[0m labelIndexer \u001b[38;5;241m=\u001b[39m \u001b[43mStringIndexer\u001b[49m\u001b[43m(\u001b[49m\u001b[43minputCol\u001b[49m\u001b[38;5;241;43m=\u001b[39;49m\u001b[38;5;124;43m\"\u001b[39;49m\u001b[38;5;124;43mlabel\u001b[39;49m\u001b[38;5;124;43m\"\u001b[39;49m\u001b[43m,\u001b[49m\u001b[43m \u001b[49m\u001b[43moutputCol\u001b[49m\u001b[38;5;241;43m=\u001b[39;49m\u001b[38;5;124;43m\"\u001b[39;49m\u001b[38;5;124;43mindexedLabel\u001b[39;49m\u001b[38;5;124;43m\"\u001b[39;49m\u001b[43m)\u001b[49m\u001b[38;5;241;43m.\u001b[39;49m\u001b[43mfit\u001b[49m\u001b[43m(\u001b[49m\u001b[43mdata\u001b[49m\u001b[43m)\u001b[49m\n\u001b[0;32m      4\u001b[0m \u001b[38;5;66;03m# Automatically identify categorical features, and index them.\u001b[39;00m\n\u001b[0;32m      5\u001b[0m \u001b[38;5;66;03m# We specify maxCategories so features with > 4 distinct values are treated as continuous.\u001b[39;00m\n\u001b[0;32m      6\u001b[0m featureIndexer \u001b[38;5;241m=\u001b[39m\\\n\u001b[0;32m      7\u001b[0m     VectorIndexer(inputCol\u001b[38;5;241m=\u001b[39m\u001b[38;5;124m\"\u001b[39m\u001b[38;5;124mfeatures\u001b[39m\u001b[38;5;124m\"\u001b[39m, outputCol\u001b[38;5;241m=\u001b[39m\u001b[38;5;124m\"\u001b[39m\u001b[38;5;124mindexedFeatures\u001b[39m\u001b[38;5;124m\"\u001b[39m, maxCategories\u001b[38;5;241m=\u001b[39m\u001b[38;5;241m4\u001b[39m)\u001b[38;5;241m.\u001b[39mfit(data)\n",
      "File \u001b[1;32mc:\\Users\\Berenice.Zavala\\Desktop\\churn\\churn_venv\\lib\\site-packages\\pyspark\\ml\\base.py:205\u001b[0m, in \u001b[0;36mEstimator.fit\u001b[1;34m(self, dataset, params)\u001b[0m\n\u001b[0;32m    203\u001b[0m         \u001b[38;5;28;01mreturn\u001b[39;00m \u001b[38;5;28mself\u001b[39m\u001b[38;5;241m.\u001b[39mcopy(params)\u001b[38;5;241m.\u001b[39m_fit(dataset)\n\u001b[0;32m    204\u001b[0m     \u001b[38;5;28;01melse\u001b[39;00m:\n\u001b[1;32m--> 205\u001b[0m         \u001b[38;5;28;01mreturn\u001b[39;00m \u001b[38;5;28;43mself\u001b[39;49m\u001b[38;5;241;43m.\u001b[39;49m\u001b[43m_fit\u001b[49m\u001b[43m(\u001b[49m\u001b[43mdataset\u001b[49m\u001b[43m)\u001b[49m\n\u001b[0;32m    206\u001b[0m \u001b[38;5;28;01melse\u001b[39;00m:\n\u001b[0;32m    207\u001b[0m     \u001b[38;5;28;01mraise\u001b[39;00m \u001b[38;5;167;01mTypeError\u001b[39;00m(\n\u001b[0;32m    208\u001b[0m         \u001b[38;5;124m\"\u001b[39m\u001b[38;5;124mParams must be either a param map or a list/tuple of param maps, \u001b[39m\u001b[38;5;124m\"\u001b[39m\n\u001b[0;32m    209\u001b[0m         \u001b[38;5;124m\"\u001b[39m\u001b[38;5;124mbut got \u001b[39m\u001b[38;5;132;01m%s\u001b[39;00m\u001b[38;5;124m.\u001b[39m\u001b[38;5;124m\"\u001b[39m \u001b[38;5;241m%\u001b[39m \u001b[38;5;28mtype\u001b[39m(params)\n\u001b[0;32m    210\u001b[0m     )\n",
      "File \u001b[1;32mc:\\Users\\Berenice.Zavala\\Desktop\\churn\\churn_venv\\lib\\site-packages\\pyspark\\ml\\wrapper.py:381\u001b[0m, in \u001b[0;36mJavaEstimator._fit\u001b[1;34m(self, dataset)\u001b[0m\n\u001b[0;32m    380\u001b[0m \u001b[38;5;28;01mdef\u001b[39;00m \u001b[38;5;21m_fit\u001b[39m(\u001b[38;5;28mself\u001b[39m, dataset: DataFrame) \u001b[38;5;241m-\u001b[39m\u001b[38;5;241m>\u001b[39m JM:\n\u001b[1;32m--> 381\u001b[0m     java_model \u001b[38;5;241m=\u001b[39m \u001b[38;5;28;43mself\u001b[39;49m\u001b[38;5;241;43m.\u001b[39;49m\u001b[43m_fit_java\u001b[49m\u001b[43m(\u001b[49m\u001b[43mdataset\u001b[49m\u001b[43m)\u001b[49m\n\u001b[0;32m    382\u001b[0m     model \u001b[38;5;241m=\u001b[39m \u001b[38;5;28mself\u001b[39m\u001b[38;5;241m.\u001b[39m_create_model(java_model)\n\u001b[0;32m    383\u001b[0m     \u001b[38;5;28;01mreturn\u001b[39;00m \u001b[38;5;28mself\u001b[39m\u001b[38;5;241m.\u001b[39m_copyValues(model)\n",
      "File \u001b[1;32mc:\\Users\\Berenice.Zavala\\Desktop\\churn\\churn_venv\\lib\\site-packages\\pyspark\\ml\\wrapper.py:378\u001b[0m, in \u001b[0;36mJavaEstimator._fit_java\u001b[1;34m(self, dataset)\u001b[0m\n\u001b[0;32m    375\u001b[0m \u001b[38;5;28;01massert\u001b[39;00m \u001b[38;5;28mself\u001b[39m\u001b[38;5;241m.\u001b[39m_java_obj \u001b[38;5;129;01mis\u001b[39;00m \u001b[38;5;129;01mnot\u001b[39;00m \u001b[38;5;28;01mNone\u001b[39;00m\n\u001b[0;32m    377\u001b[0m \u001b[38;5;28mself\u001b[39m\u001b[38;5;241m.\u001b[39m_transfer_params_to_java()\n\u001b[1;32m--> 378\u001b[0m \u001b[38;5;28;01mreturn\u001b[39;00m \u001b[38;5;28;43mself\u001b[39;49m\u001b[38;5;241;43m.\u001b[39;49m\u001b[43m_java_obj\u001b[49m\u001b[38;5;241;43m.\u001b[39;49m\u001b[43mfit\u001b[49m\u001b[43m(\u001b[49m\u001b[43mdataset\u001b[49m\u001b[38;5;241;43m.\u001b[39;49m\u001b[43m_jdf\u001b[49m\u001b[43m)\u001b[49m\n",
      "File \u001b[1;32mc:\\Users\\Berenice.Zavala\\Desktop\\churn\\churn_venv\\lib\\site-packages\\py4j\\java_gateway.py:1322\u001b[0m, in \u001b[0;36mJavaMember.__call__\u001b[1;34m(self, *args)\u001b[0m\n\u001b[0;32m   1316\u001b[0m command \u001b[38;5;241m=\u001b[39m proto\u001b[38;5;241m.\u001b[39mCALL_COMMAND_NAME \u001b[38;5;241m+\u001b[39m\\\n\u001b[0;32m   1317\u001b[0m     \u001b[38;5;28mself\u001b[39m\u001b[38;5;241m.\u001b[39mcommand_header \u001b[38;5;241m+\u001b[39m\\\n\u001b[0;32m   1318\u001b[0m     args_command \u001b[38;5;241m+\u001b[39m\\\n\u001b[0;32m   1319\u001b[0m     proto\u001b[38;5;241m.\u001b[39mEND_COMMAND_PART\n\u001b[0;32m   1321\u001b[0m answer \u001b[38;5;241m=\u001b[39m \u001b[38;5;28mself\u001b[39m\u001b[38;5;241m.\u001b[39mgateway_client\u001b[38;5;241m.\u001b[39msend_command(command)\n\u001b[1;32m-> 1322\u001b[0m return_value \u001b[38;5;241m=\u001b[39m \u001b[43mget_return_value\u001b[49m\u001b[43m(\u001b[49m\n\u001b[0;32m   1323\u001b[0m \u001b[43m    \u001b[49m\u001b[43manswer\u001b[49m\u001b[43m,\u001b[49m\u001b[43m \u001b[49m\u001b[38;5;28;43mself\u001b[39;49m\u001b[38;5;241;43m.\u001b[39;49m\u001b[43mgateway_client\u001b[49m\u001b[43m,\u001b[49m\u001b[43m \u001b[49m\u001b[38;5;28;43mself\u001b[39;49m\u001b[38;5;241;43m.\u001b[39;49m\u001b[43mtarget_id\u001b[49m\u001b[43m,\u001b[49m\u001b[43m \u001b[49m\u001b[38;5;28;43mself\u001b[39;49m\u001b[38;5;241;43m.\u001b[39;49m\u001b[43mname\u001b[49m\u001b[43m)\u001b[49m\n\u001b[0;32m   1325\u001b[0m \u001b[38;5;28;01mfor\u001b[39;00m temp_arg \u001b[38;5;129;01min\u001b[39;00m temp_args:\n\u001b[0;32m   1326\u001b[0m     \u001b[38;5;28;01mif\u001b[39;00m \u001b[38;5;28mhasattr\u001b[39m(temp_arg, \u001b[38;5;124m\"\u001b[39m\u001b[38;5;124m_detach\u001b[39m\u001b[38;5;124m\"\u001b[39m):\n",
      "File \u001b[1;32mc:\\Users\\Berenice.Zavala\\Desktop\\churn\\churn_venv\\lib\\site-packages\\pyspark\\errors\\exceptions\\captured.py:179\u001b[0m, in \u001b[0;36mcapture_sql_exception.<locals>.deco\u001b[1;34m(*a, **kw)\u001b[0m\n\u001b[0;32m    177\u001b[0m \u001b[38;5;28;01mdef\u001b[39;00m \u001b[38;5;21mdeco\u001b[39m(\u001b[38;5;241m*\u001b[39ma: Any, \u001b[38;5;241m*\u001b[39m\u001b[38;5;241m*\u001b[39mkw: Any) \u001b[38;5;241m-\u001b[39m\u001b[38;5;241m>\u001b[39m Any:\n\u001b[0;32m    178\u001b[0m     \u001b[38;5;28;01mtry\u001b[39;00m:\n\u001b[1;32m--> 179\u001b[0m         \u001b[38;5;28;01mreturn\u001b[39;00m f(\u001b[38;5;241m*\u001b[39ma, \u001b[38;5;241m*\u001b[39m\u001b[38;5;241m*\u001b[39mkw)\n\u001b[0;32m    180\u001b[0m     \u001b[38;5;28;01mexcept\u001b[39;00m Py4JJavaError \u001b[38;5;28;01mas\u001b[39;00m e:\n\u001b[0;32m    181\u001b[0m         converted \u001b[38;5;241m=\u001b[39m convert_exception(e\u001b[38;5;241m.\u001b[39mjava_exception)\n",
      "File \u001b[1;32mc:\\Users\\Berenice.Zavala\\Desktop\\churn\\churn_venv\\lib\\site-packages\\py4j\\protocol.py:326\u001b[0m, in \u001b[0;36mget_return_value\u001b[1;34m(answer, gateway_client, target_id, name)\u001b[0m\n\u001b[0;32m    324\u001b[0m value \u001b[38;5;241m=\u001b[39m OUTPUT_CONVERTER[\u001b[38;5;28mtype\u001b[39m](answer[\u001b[38;5;241m2\u001b[39m:], gateway_client)\n\u001b[0;32m    325\u001b[0m \u001b[38;5;28;01mif\u001b[39;00m answer[\u001b[38;5;241m1\u001b[39m] \u001b[38;5;241m==\u001b[39m REFERENCE_TYPE:\n\u001b[1;32m--> 326\u001b[0m     \u001b[38;5;28;01mraise\u001b[39;00m Py4JJavaError(\n\u001b[0;32m    327\u001b[0m         \u001b[38;5;124m\"\u001b[39m\u001b[38;5;124mAn error occurred while calling \u001b[39m\u001b[38;5;132;01m{0}\u001b[39;00m\u001b[38;5;132;01m{1}\u001b[39;00m\u001b[38;5;132;01m{2}\u001b[39;00m\u001b[38;5;124m.\u001b[39m\u001b[38;5;130;01m\\n\u001b[39;00m\u001b[38;5;124m\"\u001b[39m\u001b[38;5;241m.\u001b[39m\n\u001b[0;32m    328\u001b[0m         \u001b[38;5;28mformat\u001b[39m(target_id, \u001b[38;5;124m\"\u001b[39m\u001b[38;5;124m.\u001b[39m\u001b[38;5;124m\"\u001b[39m, name), value)\n\u001b[0;32m    329\u001b[0m \u001b[38;5;28;01melse\u001b[39;00m:\n\u001b[0;32m    330\u001b[0m     \u001b[38;5;28;01mraise\u001b[39;00m Py4JError(\n\u001b[0;32m    331\u001b[0m         \u001b[38;5;124m\"\u001b[39m\u001b[38;5;124mAn error occurred while calling \u001b[39m\u001b[38;5;132;01m{0}\u001b[39;00m\u001b[38;5;132;01m{1}\u001b[39;00m\u001b[38;5;132;01m{2}\u001b[39;00m\u001b[38;5;124m. Trace:\u001b[39m\u001b[38;5;130;01m\\n\u001b[39;00m\u001b[38;5;132;01m{3}\u001b[39;00m\u001b[38;5;130;01m\\n\u001b[39;00m\u001b[38;5;124m\"\u001b[39m\u001b[38;5;241m.\u001b[39m\n\u001b[0;32m    332\u001b[0m         \u001b[38;5;28mformat\u001b[39m(target_id, \u001b[38;5;124m\"\u001b[39m\u001b[38;5;124m.\u001b[39m\u001b[38;5;124m\"\u001b[39m, name, value))\n",
      "\u001b[1;31mPy4JJavaError\u001b[0m: An error occurred while calling o32.fit.\n: org.apache.spark.SparkException: Input column label does not exist.\r\n\tat org.apache.spark.ml.feature.StringIndexerBase.$anonfun$validateAndTransformSchema$2(StringIndexer.scala:128)\r\n\tat scala.collection.TraversableLike.$anonfun$flatMap$1(TraversableLike.scala:293)\r\n\tat scala.collection.IndexedSeqOptimized.foreach(IndexedSeqOptimized.scala:36)\r\n\tat scala.collection.IndexedSeqOptimized.foreach$(IndexedSeqOptimized.scala:33)\r\n\tat scala.collection.mutable.ArrayOps$ofRef.foreach(ArrayOps.scala:198)\r\n\tat scala.collection.TraversableLike.flatMap(TraversableLike.scala:293)\r\n\tat scala.collection.TraversableLike.flatMap$(TraversableLike.scala:290)\r\n\tat scala.collection.mutable.ArrayOps$ofRef.flatMap(ArrayOps.scala:198)\r\n\tat org.apache.spark.ml.feature.StringIndexerBase.validateAndTransformSchema(StringIndexer.scala:123)\r\n\tat org.apache.spark.ml.feature.StringIndexerBase.validateAndTransformSchema$(StringIndexer.scala:115)\r\n\tat org.apache.spark.ml.feature.StringIndexer.validateAndTransformSchema(StringIndexer.scala:145)\r\n\tat org.apache.spark.ml.feature.StringIndexer.transformSchema(StringIndexer.scala:252)\r\n\tat org.apache.spark.ml.PipelineStage.transformSchema(Pipeline.scala:71)\r\n\tat org.apache.spark.ml.feature.StringIndexer.fit(StringIndexer.scala:237)\r\n\tat sun.reflect.NativeMethodAccessorImpl.invoke0(Native Method)\r\n\tat sun.reflect.NativeMethodAccessorImpl.invoke(Unknown Source)\r\n\tat sun.reflect.DelegatingMethodAccessorImpl.invoke(Unknown Source)\r\n\tat java.lang.reflect.Method.invoke(Unknown Source)\r\n\tat py4j.reflection.MethodInvoker.invoke(MethodInvoker.java:244)\r\n\tat py4j.reflection.ReflectionEngine.invoke(ReflectionEngine.java:357)\r\n\tat py4j.Gateway.invoke(Gateway.java:282)\r\n\tat py4j.commands.AbstractCommand.invokeMethod(AbstractCommand.java:132)\r\n\tat py4j.commands.CallCommand.execute(CallCommand.java:79)\r\n\tat py4j.ClientServerConnection.waitForCommands(ClientServerConnection.java:182)\r\n\tat py4j.ClientServerConnection.run(ClientServerConnection.java:106)\r\n\tat java.lang.Thread.run(Unknown Source)\r\n"
     ]
    }
   ],
   "source": [
    "\n",
    "\n",
    "\n",
    "# Split the data into training and test sets (30% held out for testing)\n",
    "(trainingData, testData) = data.randomSplit([0.7, 0.3])\n",
    "\n",
    "# Train a DecisionTree model.\n",
    "dt = DecisionTreeClassifier(labelCol=\"indexedLabel\", featuresCol=\"indexedFeatures\")\n",
    "\n",
    "# Chain indexers and tree in a Pipeline\n",
    "pipeline = Pipeline(stages=[labelIndexer, featureIndexer, dt])\n",
    "\n",
    "# Train model.  This also runs the indexers.\n",
    "model = pipeline.fit(trainingData)\n",
    "\n",
    "# Make predictions.\n",
    "predictions = model.transform(testData)\n",
    "\n",
    "# Select example rows to display.\n",
    "predictions.select(\"prediction\", \"indexedLabel\", \"features\").show(5)\n",
    "\n",
    "# Select (prediction, true label) and compute test error\n",
    "evaluator = MulticlassClassificationEvaluator(\n",
    "    labelCol=\"indexedLabel\", predictionCol=\"prediction\", metricName=\"accuracy\")\n",
    "accuracy = evaluator.evaluate(predictions)\n",
    "print(\"Test Error = %g \" % (1.0 - accuracy))\n",
    "\n",
    "treeModel = model.stages[2]\n",
    "# summary only\n",
    "print(treeModel)"
   ]
  }
 ],
 "metadata": {
  "kernelspec": {
   "display_name": "vscode_pyspark",
   "language": "python",
   "name": "vscode_pyspark"
  },
  "language_info": {
   "codemirror_mode": {
    "name": "ipython",
    "version": 3
   },
   "file_extension": ".py",
   "mimetype": "text/x-python",
   "name": "python",
   "nbconvert_exporter": "python",
   "pygments_lexer": "ipython3",
   "version": "3.11.9"
  }
 },
 "nbformat": 4,
 "nbformat_minor": 2
}
